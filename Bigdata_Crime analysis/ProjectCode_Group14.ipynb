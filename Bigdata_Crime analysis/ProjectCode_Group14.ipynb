{
 "cells": [
  {
   "cell_type": "markdown",
   "metadata": {
    "application/vnd.databricks.v1+cell": {
     "inputWidgets": {},
     "nuid": "018493a2-660c-4064-b8af-b815b8e8fa1c",
     "showTitle": false,
     "title": ""
    }
   },
   "source": [
    "# Crime Pattern Analysis based on ML & Apache Spark"
   ]
  },
  {
   "cell_type": "code",
   "execution_count": 0,
   "metadata": {
    "application/vnd.databricks.v1+cell": {
     "inputWidgets": {},
     "nuid": "80a7f43e-47eb-4d15-b1a1-508f2d1d0965",
     "showTitle": false,
     "title": ""
    }
   },
   "outputs": [
    {
     "data": {
      "text/html": [
       "<style scoped>\n",
       "  .ansiout {\n",
       "    display: block;\n",
       "    unicode-bidi: embed;\n",
       "    white-space: pre-wrap;\n",
       "    word-wrap: break-word;\n",
       "    word-break: break-all;\n",
       "    font-family: \"Source Code Pro\", \"Menlo\", monospace;;\n",
       "    font-size: 13px;\n",
       "    color: #555;\n",
       "    margin-left: 4px;\n",
       "    line-height: 19px;\n",
       "  }\n",
       "</style>\n",
       "<div class=\"ansiout\"></div>"
      ]
     },
     "metadata": {
      "application/vnd.databricks.v1+output": {
       "addedWidgets": {},
       "arguments": {},
       "data": "<div class=\"ansiout\"></div>",
       "datasetInfos": [],
       "metadata": {},
       "removedWidgets": [],
       "type": "html"
      }
     },
     "output_type": "display_data"
    }
   ],
   "source": [
    "# Spark imports\n",
    "#from pyspark.sql import Row, SparkSession\n",
    "from pyspark.sql.functions import *\n",
    "\n",
    "# Standard imports\n",
    "import numpy as np\n",
    "import pandas as pd\n",
    "import seaborn as sns\n",
    "import matplotlib.pyplot as plt\n",
    "import datetime\n",
    "\n",
    "# Model preparation and ML models imports\n",
    "from pyspark.ml.feature import StringIndexer, VectorAssembler\n",
    "from pyspark.ml.classification import LogisticRegression\n",
    "from pyspark.ml.classification import NaiveBayes\n",
    "from pyspark.ml.regression import DecisionTreeRegressor\n",
    "from pyspark.ml.classification import RandomForestClassifier\n",
    "from pyspark.ml.evaluation import MulticlassClassificationEvaluator"
   ]
  },
  {
   "cell_type": "code",
   "execution_count": 0,
   "metadata": {
    "application/vnd.databricks.v1+cell": {
     "inputWidgets": {},
     "nuid": "559f12c3-8311-4df3-9fd9-3ca3e39e59d9",
     "showTitle": false,
     "title": ""
    }
   },
   "outputs": [
    {
     "data": {
      "text/html": [
       "<style scoped>\n",
       "  .ansiout {\n",
       "    display: block;\n",
       "    unicode-bidi: embed;\n",
       "    white-space: pre-wrap;\n",
       "    word-wrap: break-word;\n",
       "    word-break: break-all;\n",
       "    font-family: \"Source Code Pro\", \"Menlo\", monospace;;\n",
       "    font-size: 13px;\n",
       "    color: #555;\n",
       "    margin-left: 4px;\n",
       "    line-height: 19px;\n",
       "  }\n",
       "</style>\n",
       "<div class=\"ansiout\"></div>"
      ]
     },
     "metadata": {
      "application/vnd.databricks.v1+output": {
       "addedWidgets": {},
       "arguments": {},
       "data": "<div class=\"ansiout\"></div>",
       "datasetInfos": [],
       "metadata": {},
       "removedWidgets": [],
       "type": "html"
      }
     },
     "output_type": "display_data"
    }
   ],
   "source": [
    "content_cols = '''\n",
    "ID - Unique identifier for the record.\n",
    "Case Number - The Chicago Police Department RD Number (Records Division Number), which is unique to the incident.\n",
    "Date - Date when the incident occurred. this is sometimes a best estimate.\n",
    "Block - The partially redacted address where the incident occurred, placing it on the same block as the actual address.\n",
    "IUCR - The Illinois Unifrom Crime Reporting code. This is directly linked to the Primary Type and Description. See the list of IUCR codes at https://data.cityofchicago.org/d/c7ck-438e.\n",
    "Primary Type - The primary description of the IUCR code.\n",
    "Description - The secondary description of the IUCR code, a subcategory of the primary description.\n",
    "Location Description - Description of the location where the incident occurred.\n",
    "Arrest - Indicates whether an arrest was made.\n",
    "Domestic - Indicates whether the incident was domestic-related as defined by the Illinois Domestic Violence Act.\n",
    "Beat - Indicates the beat where the incident occurred. A beat is the smallest police geographic area – each beat has a dedicated police beat car. Three to five beats make up a police sector, and three sectors make up a police district. The Chicago Police Department has 22 police districts. See the beats at https://data.cityofchicago.org/d/aerh-rz74.\n",
    "District - Indicates the police district where the incident occurred. See the districts at https://data.cityofchicago.org/d/fthy-xz3r.\n",
    "Ward - The ward (City Council district) where the incident occurred. See the wards at https://data.cityofchicago.org/d/sp34-6z76.\n",
    "Community Area - Indicates the community area where the incident occurred. Chicago has 77 community areas. See the community areas at https://data.cityofchicago.org/d/cauq-8yn6.\n",
    "FBI Code - Indicates the crime classification as outlined in the FBI's National Incident-Based Reporting System (NIBRS). See the Chicago Police Department listing of these classifications at http://gis.chicagopolice.org/clearmap_crime_sums/crime_types.html.\n",
    "X Coordinate - The x coordinate of the location where the incident occurred in State Plane Illinois East NAD 1983 projection. This location is shifted from the actual location for partial redaction but falls on the same block.\n",
    "Y Coordinate - The y coordinate of the location where the incident occurred in State Plane Illinois East NAD 1983 projection. This location is shifted from the actual location for partial redaction but falls on the same block.\n",
    "Year - Year the incident occurred.\n",
    "Updated On - Date and time the record was last updated.\n",
    "Latitude - The latitude of the location where the incident occurred. This location is shifted from the actual location for partial redaction but falls on the same block.\n",
    "Longitude - The longitude of the location where the incident occurred. This location is shifted from the actual location for partial redaction but falls on the same block.\n",
    "Location - The location where the incident occurred in a format that allows for creation of maps and other geographic operations on this data portal. This location is shifted from the actual location for partial redaction but falls on the same block.'''"
   ]
  },
  {
   "cell_type": "code",
   "execution_count": 0,
   "metadata": {
    "application/vnd.databricks.v1+cell": {
     "inputWidgets": {},
     "nuid": "9615a2cd-6cc0-4b6b-90d3-0cdb1c0877d0",
     "showTitle": false,
     "title": ""
    }
   },
   "outputs": [
    {
     "data": {
      "text/html": [
       "<style scoped>\n",
       "  .ansiout {\n",
       "    display: block;\n",
       "    unicode-bidi: embed;\n",
       "    white-space: pre-wrap;\n",
       "    word-wrap: break-word;\n",
       "    word-break: break-all;\n",
       "    font-family: \"Source Code Pro\", \"Menlo\", monospace;;\n",
       "    font-size: 13px;\n",
       "    color: #555;\n",
       "    margin-left: 4px;\n",
       "    line-height: 19px;\n",
       "  }\n",
       "</style>\n",
       "<div class=\"ansiout\">Out[3]: [{&#39;title&#39;: &#39;ID&#39;,\n",
       "  &#39;description&#39;: &#39;Unique identifier for the record.&#39;,\n",
       "  &#39;header&#39;: &#39;id&#39;},\n",
       " {&#39;title&#39;: &#39;Case Number&#39;,\n",
       "  &#39;description&#39;: &#39;The Chicago Police Department RD Number (Records Division Number), which is unique to the incident.&#39;,\n",
       "  &#39;header&#39;: &#39;case_number&#39;}]</div>"
      ]
     },
     "metadata": {
      "application/vnd.databricks.v1+output": {
       "addedWidgets": {},
       "arguments": {},
       "data": "<div class=\"ansiout\">Out[3]: [{&#39;title&#39;: &#39;ID&#39;,\n  &#39;description&#39;: &#39;Unique identifier for the record.&#39;,\n  &#39;header&#39;: &#39;id&#39;},\n {&#39;title&#39;: &#39;Case Number&#39;,\n  &#39;description&#39;: &#39;The Chicago Police Department RD Number (Records Division Number), which is unique to the incident.&#39;,\n  &#39;header&#39;: &#39;case_number&#39;}]</div>",
       "datasetInfos": [],
       "metadata": {},
       "removedWidgets": [],
       "type": "html"
      }
     },
     "output_type": "display_data"
    }
   ],
   "source": [
    "# Turn a list of headers to a list of dictionaries\n",
    "def entry_dic(line):\n",
    "  #Convert a header - description line into a single dictionary that holds the original header as 'title', a corresponding field name as 'header', and a description.\n",
    "  pair = line.split(' - ')\n",
    "  return {'title': pair[0], 'description': pair[1], 'header': pair[0].lower().replace(' ', '_')}\n",
    "  \n",
    "l=list()\n",
    "for j in (content_cols.split('\\n')):\n",
    "  if j!='':\n",
    "    l.append(j)\n",
    "header_dics = list(map(entry_dic, l))\n",
    "header_dics[:2]"
   ]
  },
  {
   "cell_type": "code",
   "execution_count": 0,
   "metadata": {
    "application/vnd.databricks.v1+cell": {
     "inputWidgets": {},
     "nuid": "e62636de-5de1-4f67-899a-c8ea5a82501f",
     "showTitle": false,
     "title": ""
    }
   },
   "outputs": [
    {
     "data": {
      "text/html": [
       "<style scoped>\n",
       "  .ansiout {\n",
       "    display: block;\n",
       "    unicode-bidi: embed;\n",
       "    white-space: pre-wrap;\n",
       "    word-wrap: break-word;\n",
       "    word-break: break-all;\n",
       "    font-family: \"Source Code Pro\", \"Menlo\", monospace;;\n",
       "    font-size: 13px;\n",
       "    color: #555;\n",
       "    margin-left: 4px;\n",
       "    line-height: 19px;\n",
       "  }\n",
       "</style>\n",
       "<div class=\"ansiout\"></div>"
      ]
     },
     "metadata": {
      "application/vnd.databricks.v1+output": {
       "addedWidgets": {},
       "arguments": {},
       "data": "<div class=\"ansiout\"></div>",
       "datasetInfos": [],
       "metadata": {},
       "removedWidgets": [],
       "type": "html"
      }
     },
     "output_type": "display_data"
    }
   ],
   "source": [
    "df = spark.read.csv('dbfs:/FileStore/tables/*.csv', inferSchema=True, header=True)\n",
    "# Caching this data frame as it's going to be read over and over again\n",
    "df = df.cache()"
   ]
  },
  {
   "cell_type": "code",
   "execution_count": 0,
   "metadata": {
    "application/vnd.databricks.v1+cell": {
     "inputWidgets": {},
     "nuid": "0d31276d-5659-49a5-a306-f0faaa2fad3f",
     "showTitle": false,
     "title": ""
    }
   },
   "outputs": [
    {
     "data": {
      "text/html": [
       "<style scoped>\n",
       "  .ansiout {\n",
       "    display: block;\n",
       "    unicode-bidi: embed;\n",
       "    white-space: pre-wrap;\n",
       "    word-wrap: break-word;\n",
       "    word-break: break-all;\n",
       "    font-family: \"Source Code Pro\", \"Menlo\", monospace;;\n",
       "    font-size: 13px;\n",
       "    color: #555;\n",
       "    margin-left: 4px;\n",
       "    line-height: 19px;\n",
       "  }\n",
       "</style>\n",
       "<div class=\"ansiout\"></div>"
      ]
     },
     "metadata": {
      "application/vnd.databricks.v1+output": {
       "addedWidgets": {},
       "arguments": {},
       "data": "<div class=\"ansiout\"></div>",
       "datasetInfos": [],
       "metadata": {},
       "removedWidgets": [],
       "type": "html"
      }
     },
     "output_type": "display_data"
    }
   ],
   "source": [
    "for h in header_dics:\n",
    "    df = df.withColumnRenamed(h['title'], h['header'])\n",
    "df = df.rdd.filter(lambda rec: rec.arrest.find('Location Description') < 0).toDF().cache()"
   ]
  },
  {
   "cell_type": "markdown",
   "metadata": {
    "application/vnd.databricks.v1+cell": {
     "inputWidgets": {},
     "nuid": "fe6e33ce-fe13-4112-a93a-0e153e6abfa0",
     "showTitle": false,
     "title": ""
    }
   },
   "source": [
    "## Crime Analysis"
   ]
  },
  {
   "cell_type": "code",
   "execution_count": 0,
   "metadata": {
    "application/vnd.databricks.v1+cell": {
     "inputWidgets": {},
     "nuid": "d0e56e19-411f-4abf-ae99-fb4778d52b19",
     "showTitle": false,
     "title": ""
    }
   },
   "outputs": [
    {
     "data": {
      "text/html": [
       "<style scoped>\n",
       "  .ansiout {\n",
       "    display: block;\n",
       "    unicode-bidi: embed;\n",
       "    white-space: pre-wrap;\n",
       "    word-wrap: break-word;\n",
       "    word-break: break-all;\n",
       "    font-family: \"Source Code Pro\", \"Menlo\", monospace;;\n",
       "    font-size: 13px;\n",
       "    color: #555;\n",
       "    margin-left: 4px;\n",
       "    line-height: 19px;\n",
       "  }\n",
       "</style>\n",
       "<div class=\"ansiout\">Total crime count: 7145216\n",
       "</div>"
      ]
     },
     "metadata": {
      "application/vnd.databricks.v1+output": {
       "addedWidgets": {},
       "arguments": {},
       "data": "<div class=\"ansiout\">Total crime count: 7145216\n</div>",
       "datasetInfos": [],
       "metadata": {},
       "removedWidgets": [],
       "type": "html"
      }
     },
     "output_type": "display_data"
    }
   ],
   "source": [
    "crime_type_groups = df.groupBy('primary_type').count()\n",
    "crime_type_counts = crime_type_groups.orderBy('count', ascending=False)\n",
    "print(\"Total crime count:\",df.count())"
   ]
  },
  {
   "cell_type": "code",
   "execution_count": 0,
   "metadata": {
    "application/vnd.databricks.v1+cell": {
     "inputWidgets": {},
     "nuid": "359fc77d-a976-467b-8fdc-06dbcb8faf36",
     "showTitle": false,
     "title": ""
    }
   },
   "outputs": [
    {
     "data": {
      "text/html": [
       "<style scoped>\n",
       "  .ansiout {\n",
       "    display: block;\n",
       "    unicode-bidi: embed;\n",
       "    white-space: pre-wrap;\n",
       "    word-wrap: break-word;\n",
       "    word-break: break-all;\n",
       "    font-family: \"Source Code Pro\", \"Menlo\", monospace;;\n",
       "    font-size: 13px;\n",
       "    color: #555;\n",
       "    margin-left: 4px;\n",
       "    line-height: 19px;\n",
       "  }\n",
       "</style>\n",
       "<div class=\"ansiout\">root\n",
       "-- _c0: long (nullable = true)\n",
       "-- id: long (nullable = true)\n",
       "-- case_number: string (nullable = true)\n",
       "-- date: string (nullable = true)\n",
       "-- block: string (nullable = true)\n",
       "-- iucr: string (nullable = true)\n",
       "-- primary_type: string (nullable = true)\n",
       "-- description: string (nullable = true)\n",
       "-- location_description: string (nullable = true)\n",
       "-- arrest: string (nullable = true)\n",
       "-- domestic: string (nullable = true)\n",
       "-- beat: string (nullable = true)\n",
       "-- district: string (nullable = true)\n",
       "-- ward: string (nullable = true)\n",
       "-- community_area: string (nullable = true)\n",
       "-- fbi_code: string (nullable = true)\n",
       "-- x_coordinate: string (nullable = true)\n",
       "-- y_coordinate: string (nullable = true)\n",
       "-- year: string (nullable = true)\n",
       "-- updated_on: string (nullable = true)\n",
       "-- latitude: string (nullable = true)\n",
       "-- longitude: string (nullable = true)\n",
       "-- location: string (nullable = true)\n",
       "-- date_time: timestamp (nullable = true)\n",
       "-- month: date (nullable = true)\n",
       "\n",
       "</div>"
      ]
     },
     "metadata": {
      "application/vnd.databricks.v1+output": {
       "addedWidgets": {},
       "arguments": {},
       "data": "<div class=\"ansiout\">root\n |-- _c0: long (nullable = true)\n |-- id: long (nullable = true)\n |-- case_number: string (nullable = true)\n |-- date: string (nullable = true)\n |-- block: string (nullable = true)\n |-- iucr: string (nullable = true)\n |-- primary_type: string (nullable = true)\n |-- description: string (nullable = true)\n |-- location_description: string (nullable = true)\n |-- arrest: string (nullable = true)\n |-- domestic: string (nullable = true)\n |-- beat: string (nullable = true)\n |-- district: string (nullable = true)\n |-- ward: string (nullable = true)\n |-- community_area: string (nullable = true)\n |-- fbi_code: string (nullable = true)\n |-- x_coordinate: string (nullable = true)\n |-- y_coordinate: string (nullable = true)\n |-- year: string (nullable = true)\n |-- updated_on: string (nullable = true)\n |-- latitude: string (nullable = true)\n |-- longitude: string (nullable = true)\n |-- location: string (nullable = true)\n |-- date_time: timestamp (nullable = true)\n |-- month: date (nullable = true)\n\n</div>",
       "datasetInfos": [],
       "metadata": {},
       "removedWidgets": [],
       "type": "html"
      }
     },
     "output_type": "display_data"
    }
   ],
   "source": [
    "df.printSchema()"
   ]
  },
  {
   "cell_type": "code",
   "execution_count": 0,
   "metadata": {
    "application/vnd.databricks.v1+cell": {
     "inputWidgets": {},
     "nuid": "1e967d84-3c50-41ea-a561-13c99adb08f0",
     "showTitle": false,
     "title": ""
    }
   },
   "outputs": [
    {
     "data": {
      "text/html": [
       "<style scoped>\n",
       "  .ansiout {\n",
       "    display: block;\n",
       "    unicode-bidi: embed;\n",
       "    white-space: pre-wrap;\n",
       "    word-wrap: break-word;\n",
       "    word-break: break-all;\n",
       "    font-family: \"Source Code Pro\", \"Menlo\", monospace;;\n",
       "    font-size: 13px;\n",
       "    color: #555;\n",
       "    margin-left: 4px;\n",
       "    line-height: 19px;\n",
       "  }\n",
       "</style>\n",
       "<div class=\"ansiout\">+--------------------------------+-------+\n",
       "primary_type                    |count  |\n",
       "+--------------------------------+-------+\n",
       "THEFT                           |1476357|\n",
       "BATTERY                         |1298240|\n",
       "CRIMINAL DAMAGE                 |835284 |\n",
       "NARCOTICS                       |796053 |\n",
       "OTHER OFFENSE                   |440882 |\n",
       "ASSAULT                         |432898 |\n",
       "BURGLARY                        |430571 |\n",
       "MOTOR VEHICLE THEFT             |328764 |\n",
       "ROBBERY                         |271450 |\n",
       "DECEPTIVE PRACTICE              |247713 |\n",
       "CRIMINAL TRESPASS               |207722 |\n",
       "PROSTITUTION                    |76768  |\n",
       "WEAPONS VIOLATION               |70352  |\n",
       "PUBLIC PEACE VIOLATION          |54362  |\n",
       "OFFENSE INVOLVING CHILDREN      |45568  |\n",
       "CRIM SEXUAL ASSAULT             |25690  |\n",
       "SEX OFFENSE                     |24301  |\n",
       "GAMBLING                        |17455  |\n",
       "LIQUOR LAW VIOLATION            |15115  |\n",
       "INTERFERENCE WITH PUBLIC OFFICER|14993  |\n",
       "+--------------------------------+-------+\n",
       "only showing top 20 rows\n",
       "\n",
       "</div>"
      ]
     },
     "metadata": {
      "application/vnd.databricks.v1+output": {
       "addedWidgets": {},
       "arguments": {},
       "data": "<div class=\"ansiout\">+--------------------------------+-------+\n|primary_type                    |count  |\n+--------------------------------+-------+\n|THEFT                           |1476357|\n|BATTERY                         |1298240|\n|CRIMINAL DAMAGE                 |835284 |\n|NARCOTICS                       |796053 |\n|OTHER OFFENSE                   |440882 |\n|ASSAULT                         |432898 |\n|BURGLARY                        |430571 |\n|MOTOR VEHICLE THEFT             |328764 |\n|ROBBERY                         |271450 |\n|DECEPTIVE PRACTICE              |247713 |\n|CRIMINAL TRESPASS               |207722 |\n|PROSTITUTION                    |76768  |\n|WEAPONS VIOLATION               |70352  |\n|PUBLIC PEACE VIOLATION          |54362  |\n|OFFENSE INVOLVING CHILDREN      |45568  |\n|CRIM SEXUAL ASSAULT             |25690  |\n|SEX OFFENSE                     |24301  |\n|GAMBLING                        |17455  |\n|LIQUOR LAW VIOLATION            |15115  |\n|INTERFERENCE WITH PUBLIC OFFICER|14993  |\n+--------------------------------+-------+\nonly showing top 20 rows\n\n</div>",
       "datasetInfos": [],
       "metadata": {},
       "removedWidgets": [],
       "type": "html"
      }
     },
     "output_type": "display_data"
    }
   ],
   "source": [
    "crime_type_counts.show(truncate=False)"
   ]
  },
  {
   "cell_type": "code",
   "execution_count": 0,
   "metadata": {
    "application/vnd.databricks.v1+cell": {
     "inputWidgets": {},
     "nuid": "76f9cf75-902e-42cb-8d9a-855ee2fd6a9c",
     "showTitle": false,
     "title": ""
    }
   },
   "outputs": [
    {
     "data": {
      "text/html": [
       "<style scoped>\n",
       "  .ansiout {\n",
       "    display: block;\n",
       "    unicode-bidi: embed;\n",
       "    white-space: pre-wrap;\n",
       "    word-wrap: break-word;\n",
       "    word-break: break-all;\n",
       "    font-family: \"Source Code Pro\", \"Menlo\", monospace;;\n",
       "    font-size: 13px;\n",
       "    color: #555;\n",
       "    margin-left: 4px;\n",
       "    line-height: 19px;\n",
       "  }\n",
       "</style>\n",
       "<div class=\"ansiout\">Out[21]: </div>"
      ]
     },
     "metadata": {
      "application/vnd.databricks.v1+output": {
       "addedWidgets": {},
       "arguments": {},
       "data": "<div class=\"ansiout\">Out[21]: </div>",
       "datasetInfos": [],
       "metadata": {},
       "removedWidgets": [],
       "type": "html"
      }
     },
     "output_type": "display_data"
    },
    {
     "data": {
      "text/html": [
       "<div>\n",
       "<style scoped>\n",
       "    .dataframe tbody tr th:only-of-type {\n",
       "        vertical-align: middle;\n",
       "    }\n",
       "\n",
       "    .dataframe tbody tr th {\n",
       "        vertical-align: top;\n",
       "    }\n",
       "\n",
       "    .dataframe thead th {\n",
       "        text-align: right;\n",
       "    }\n",
       "</style>\n",
       "<table border=\"1\" class=\"dataframe\">\n",
       "  <thead>\n",
       "    <tr style=\"text-align: right;\">\n",
       "      <th></th>\n",
       "      <th>primary_type</th>\n",
       "      <th>count</th>\n",
       "    </tr>\n",
       "  </thead>\n",
       "  <tbody>\n",
       "    <tr>\n",
       "      <th>0</th>\n",
       "      <td>THEFT</td>\n",
       "      <td>1476357</td>\n",
       "    </tr>\n",
       "    <tr>\n",
       "      <th>1</th>\n",
       "      <td>BATTERY</td>\n",
       "      <td>1298240</td>\n",
       "    </tr>\n",
       "    <tr>\n",
       "      <th>2</th>\n",
       "      <td>CRIMINAL DAMAGE</td>\n",
       "      <td>835284</td>\n",
       "    </tr>\n",
       "    <tr>\n",
       "      <th>3</th>\n",
       "      <td>NARCOTICS</td>\n",
       "      <td>796053</td>\n",
       "    </tr>\n",
       "    <tr>\n",
       "      <th>4</th>\n",
       "      <td>OTHER OFFENSE</td>\n",
       "      <td>440882</td>\n",
       "    </tr>\n",
       "    <tr>\n",
       "      <th>5</th>\n",
       "      <td>ASSAULT</td>\n",
       "      <td>432898</td>\n",
       "    </tr>\n",
       "    <tr>\n",
       "      <th>6</th>\n",
       "      <td>BURGLARY</td>\n",
       "      <td>430571</td>\n",
       "    </tr>\n",
       "    <tr>\n",
       "      <th>7</th>\n",
       "      <td>MOTOR VEHICLE THEFT</td>\n",
       "      <td>328764</td>\n",
       "    </tr>\n",
       "    <tr>\n",
       "      <th>8</th>\n",
       "      <td>ROBBERY</td>\n",
       "      <td>271450</td>\n",
       "    </tr>\n",
       "    <tr>\n",
       "      <th>9</th>\n",
       "      <td>DECEPTIVE PRACTICE</td>\n",
       "      <td>247713</td>\n",
       "    </tr>\n",
       "  </tbody>\n",
       "</table>\n",
       "</div>"
      ]
     },
     "metadata": {
      "application/vnd.databricks.v1+output": {
       "addedWidgets": {},
       "arguments": {},
       "data": "<div>\n<style scoped>\n    .dataframe tbody tr th:only-of-type {\n        vertical-align: middle;\n    }\n\n    .dataframe tbody tr th {\n        vertical-align: top;\n    }\n\n    .dataframe thead th {\n        text-align: right;\n    }\n</style>\n<table border=\"1\" class=\"dataframe\">\n  <thead>\n    <tr style=\"text-align: right;\">\n      <th></th>\n      <th>primary_type</th>\n      <th>count</th>\n    </tr>\n  </thead>\n  <tbody>\n    <tr>\n      <th>0</th>\n      <td>THEFT</td>\n      <td>1476357</td>\n    </tr>\n    <tr>\n      <th>1</th>\n      <td>BATTERY</td>\n      <td>1298240</td>\n    </tr>\n    <tr>\n      <th>2</th>\n      <td>CRIMINAL DAMAGE</td>\n      <td>835284</td>\n    </tr>\n    <tr>\n      <th>3</th>\n      <td>NARCOTICS</td>\n      <td>796053</td>\n    </tr>\n    <tr>\n      <th>4</th>\n      <td>OTHER OFFENSE</td>\n      <td>440882</td>\n    </tr>\n    <tr>\n      <th>5</th>\n      <td>ASSAULT</td>\n      <td>432898</td>\n    </tr>\n    <tr>\n      <th>6</th>\n      <td>BURGLARY</td>\n      <td>430571</td>\n    </tr>\n    <tr>\n      <th>7</th>\n      <td>MOTOR VEHICLE THEFT</td>\n      <td>328764</td>\n    </tr>\n    <tr>\n      <th>8</th>\n      <td>ROBBERY</td>\n      <td>271450</td>\n    </tr>\n    <tr>\n      <th>9</th>\n      <td>DECEPTIVE PRACTICE</td>\n      <td>247713</td>\n    </tr>\n  </tbody>\n</table>\n</div>",
       "datasetInfos": [],
       "metadata": {},
       "removedWidgets": [],
       "textData": null,
       "type": "htmlSandbox"
      }
     },
     "output_type": "display_data"
    }
   ],
   "source": [
    "counts_pddf = pd.DataFrame(crime_type_counts.rdd.map(lambda l: l.asDict()).collect())\n",
    "counts_pddf.head(10)"
   ]
  },
  {
   "cell_type": "code",
   "execution_count": 0,
   "metadata": {
    "application/vnd.databricks.v1+cell": {
     "inputWidgets": {},
     "nuid": "c26e8c2e-911a-4136-8549-1a8dbe8d164a",
     "showTitle": false,
     "title": ""
    },
    "scrolled": false
   },
   "outputs": [
    {
     "data": {
      "text/html": [
       "<style scoped>\n",
       "  .ansiout {\n",
       "    display: block;\n",
       "    unicode-bidi: embed;\n",
       "    white-space: pre-wrap;\n",
       "    word-wrap: break-word;\n",
       "    word-break: break-all;\n",
       "    font-family: \"Source Code Pro\", \"Menlo\", monospace;;\n",
       "    font-size: 13px;\n",
       "    color: #555;\n",
       "    margin-left: 4px;\n",
       "    line-height: 19px;\n",
       "  }\n",
       "</style>\n",
       "<div class=\"ansiout\">Out[22]: </div>"
      ]
     },
     "metadata": {
      "application/vnd.databricks.v1+output": {
       "addedWidgets": {},
       "arguments": {},
       "data": "<div class=\"ansiout\">Out[22]: </div>",
       "datasetInfos": [],
       "metadata": {},
       "removedWidgets": [],
       "type": "html"
      }
     },
     "output_type": "display_data"
    },
    {
     "data": {
      "image/png": "[encoded data removed]"
     },
     "metadata": {
      "application/vnd.databricks.v1+output": {
       "addedWidgets": {},
       "arguments": {},
       "data": "/plots/51267ce1-3484-41b5-9364-7bdd6f0a4d46.png",
       "datasetInfos": [],
       "metadata": {},
       "removedWidgets": [],
       "type": "image"
      }
     },
     "output_type": "display_data"
    },
    {
     "data": {
      "text/html": [
       "<style scoped>\n",
       "  .ansiout {\n",
       "    display: block;\n",
       "    unicode-bidi: embed;\n",
       "    white-space: pre-wrap;\n",
       "    word-wrap: break-word;\n",
       "    word-break: break-all;\n",
       "    font-family: \"Source Code Pro\", \"Menlo\", monospace;;\n",
       "    font-size: 13px;\n",
       "    color: #555;\n",
       "    margin-left: 4px;\n",
       "    line-height: 19px;\n",
       "  }\n",
       "</style>\n",
       "<div class=\"ansiout\">[Text(0, 0.5, &#39;Primary Type&#39;), Text(0.5, 0, &#39;Crime Record Count&#39;)]</div>"
      ]
     },
     "metadata": {
      "application/vnd.databricks.v1+output": {
       "addedWidgets": {},
       "arguments": {},
       "data": "<div class=\"ansiout\">[Text(0, 0.5, &#39;Primary Type&#39;), Text(0.5, 0, &#39;Crime Record Count&#39;)]</div>",
       "datasetInfos": [],
       "metadata": {},
       "removedWidgets": [],
       "type": "html"
      }
     },
     "output_type": "display_data"
    }
   ],
   "source": [
    "plt.rcParams[\"figure.figsize\"] = [18, 7]\n",
    "sns.set_color_codes(\"pastel\")\n",
    "\n",
    "types = sns.barplot(x='count', y='primary_type', data=counts_pddf)\n",
    "types.set_title('Top 20 Crimes in Chicago from 2001-2017')\n",
    "types.set(ylabel=\"Primary Type\", xlabel=\"Crime Record Count\")"
   ]
  },
  {
   "cell_type": "code",
   "execution_count": 0,
   "metadata": {
    "application/vnd.databricks.v1+cell": {
     "inputWidgets": {},
     "nuid": "d6e416e8-b0ae-4117-8c49-55d43755b896",
     "showTitle": false,
     "title": ""
    }
   },
   "outputs": [
    {
     "data": {
      "text/html": [
       "<style scoped>\n",
       "  .ansiout {\n",
       "    display: block;\n",
       "    unicode-bidi: embed;\n",
       "    white-space: pre-wrap;\n",
       "    word-wrap: break-word;\n",
       "    word-break: break-all;\n",
       "    font-family: \"Source Code Pro\", \"Menlo\", monospace;;\n",
       "    font-size: 13px;\n",
       "    color: #555;\n",
       "    margin-left: 4px;\n",
       "    line-height: 19px;\n",
       "  }\n",
       "</style>\n",
       "<div class=\"ansiout\">+----------------------+----------------------+\n",
       "first_record_date     |latest_record_date    |\n",
       "+----------------------+----------------------+\n",
       "01/01/2001 01:00:00 AM|12/31/2016 12:56:00 AM|\n",
       "+----------------------+----------------------+\n",
       "\n",
       "</div>"
      ]
     },
     "metadata": {
      "application/vnd.databricks.v1+output": {
       "addedWidgets": {},
       "arguments": {},
       "data": "<div class=\"ansiout\">+----------------------+----------------------+\n|first_record_date     |latest_record_date    |\n+----------------------+----------------------+\n|01/01/2001 01:00:00 AM|12/31/2016 12:56:00 AM|\n+----------------------+----------------------+\n\n</div>",
       "datasetInfos": [],
       "metadata": {},
       "removedWidgets": [],
       "type": "html"
      }
     },
     "output_type": "display_data"
    }
   ],
   "source": [
    "df.select(min('date').alias('first_record_date'), max('date').alias('latest_record_date')).show(truncate=False)"
   ]
  },
  {
   "cell_type": "code",
   "execution_count": 0,
   "metadata": {
    "application/vnd.databricks.v1+cell": {
     "inputWidgets": {},
     "nuid": "4ec0873b-1511-4051-9d87-c28ea966c177",
     "showTitle": false,
     "title": ""
    }
   },
   "outputs": [
    {
     "data": {
      "text/html": [
       "<style scoped>\n",
       "  .ansiout {\n",
       "    display: block;\n",
       "    unicode-bidi: embed;\n",
       "    white-space: pre-wrap;\n",
       "    word-wrap: break-word;\n",
       "    word-break: break-all;\n",
       "    font-family: \"Source Code Pro\", \"Menlo\", monospace;;\n",
       "    font-size: 13px;\n",
       "    color: #555;\n",
       "    margin-left: 4px;\n",
       "    line-height: 19px;\n",
       "  }\n",
       "</style>\n",
       "<div class=\"ansiout\">+----------------------+-------------------+----------+\n",
       "date                  |date_time          |month     |\n",
       "+----------------------+-------------------+----------+\n",
       "03/01/2003 12:00:00 AM|2003-03-01 00:00:00|2003-01-01|\n",
       "05/01/2003 01:00:00 AM|2003-05-01 01:00:00|2003-01-01|\n",
       "+----------------------+-------------------+----------+\n",
       "only showing top 2 rows\n",
       "\n",
       "</div>"
      ]
     },
     "metadata": {
      "application/vnd.databricks.v1+output": {
       "addedWidgets": {},
       "arguments": {},
       "data": "<div class=\"ansiout\">+----------------------+-------------------+----------+\n|date                  |date_time          |month     |\n+----------------------+-------------------+----------+\n|03/01/2003 12:00:00 AM|2003-03-01 00:00:00|2003-01-01|\n|05/01/2003 01:00:00 AM|2003-05-01 01:00:00|2003-01-01|\n+----------------------+-------------------+----------+\nonly showing top 2 rows\n\n</div>",
       "datasetInfos": [],
       "metadata": {},
       "removedWidgets": [],
       "type": "html"
      }
     },
     "output_type": "display_data"
    }
   ],
   "source": [
    "#Add month column\n",
    "df = df.withColumn('date_time', to_timestamp('date', 'MM/dd/yyyy hh:mm:ss a')).withColumn('month', trunc('date_time', 'YYYY'))\n",
    "df.select(['date','date_time', 'month']).show(n=2, truncate=False)"
   ]
  },
  {
   "cell_type": "code",
   "execution_count": 0,
   "metadata": {
    "application/vnd.databricks.v1+cell": {
     "inputWidgets": {},
     "nuid": "238cd310-9eeb-4d02-a9a4-41bfd3248ee1",
     "showTitle": false,
     "title": ""
    }
   },
   "outputs": [
    {
     "data": {
      "text/html": [
       "<style scoped>\n",
       "  .ansiout {\n",
       "    display: block;\n",
       "    unicode-bidi: embed;\n",
       "    white-space: pre-wrap;\n",
       "    word-wrap: break-word;\n",
       "    word-break: break-all;\n",
       "    font-family: \"Source Code Pro\", \"Menlo\", monospace;;\n",
       "    font-size: 13px;\n",
       "    color: #555;\n",
       "    margin-left: 4px;\n",
       "    line-height: 19px;\n",
       "  }\n",
       "</style>\n",
       "<div class=\"ansiout\"></div>"
      ]
     },
     "metadata": {
      "application/vnd.databricks.v1+output": {
       "addedWidgets": {},
       "arguments": {},
       "data": "<div class=\"ansiout\"></div>",
       "datasetInfos": [],
       "metadata": {},
       "removedWidgets": [],
       "type": "html"
      }
     },
     "output_type": "display_data"
    }
   ],
   "source": [
    "# Crime types and arrest over years:\n",
    "\n",
    "type_arrest_date = df.groupBy(['arrest', 'month']).count().orderBy(['month', 'count'], ascending=[True, False])\n",
    "\n",
    "# A pandas data frame of the collected dictionary version of the date-grouped DF above\n",
    "type_arrest_pddf = pd.DataFrame(type_arrest_date.rdd.map(lambda l: l.asDict()).collect())\n",
    "type_arrest_pddf['yearpd'] = type_arrest_pddf['month'].apply(lambda dt: datetime.datetime.strftime(pd.Timestamp(dt), '%Y'))"
   ]
  },
  {
   "cell_type": "code",
   "execution_count": 0,
   "metadata": {
    "application/vnd.databricks.v1+cell": {
     "inputWidgets": {},
     "nuid": "8ebde67f-72dc-457f-95bb-7e49f4b933f3",
     "showTitle": false,
     "title": ""
    }
   },
   "outputs": [
    {
     "data": {
      "text/html": [
       "<style scoped>\n",
       "  .ansiout {\n",
       "    display: block;\n",
       "    unicode-bidi: embed;\n",
       "    white-space: pre-wrap;\n",
       "    word-wrap: break-word;\n",
       "    word-break: break-all;\n",
       "    font-family: \"Source Code Pro\", \"Menlo\", monospace;;\n",
       "    font-size: 13px;\n",
       "    color: #555;\n",
       "    margin-left: 4px;\n",
       "    line-height: 19px;\n",
       "  }\n",
       "</style>\n",
       "<div class=\"ansiout\">Out[26]: </div>"
      ]
     },
     "metadata": {
      "application/vnd.databricks.v1+output": {
       "addedWidgets": {},
       "arguments": {},
       "data": "<div class=\"ansiout\">Out[26]: </div>",
       "datasetInfos": [],
       "metadata": {},
       "removedWidgets": [],
       "type": "html"
      }
     },
     "output_type": "display_data"
    },
    {
     "data": {
      "text/html": [
       "<div>\n",
       "<style scoped>\n",
       "    .dataframe tbody tr th:only-of-type {\n",
       "        vertical-align: middle;\n",
       "    }\n",
       "\n",
       "    .dataframe tbody tr th {\n",
       "        vertical-align: top;\n",
       "    }\n",
       "\n",
       "    .dataframe thead th {\n",
       "        text-align: right;\n",
       "    }\n",
       "</style>\n",
       "<table border=\"1\" class=\"dataframe\">\n",
       "  <thead>\n",
       "    <tr style=\"text-align: right;\">\n",
       "      <th></th>\n",
       "      <th>arrest</th>\n",
       "      <th>month</th>\n",
       "      <th>count</th>\n",
       "      <th>yearpd</th>\n",
       "    </tr>\n",
       "  </thead>\n",
       "  <tbody>\n",
       "    <tr>\n",
       "      <th>0</th>\n",
       "      <td>False</td>\n",
       "      <td>2001-01-01</td>\n",
       "      <td>3661</td>\n",
       "      <td>2001</td>\n",
       "    </tr>\n",
       "    <tr>\n",
       "      <th>1</th>\n",
       "      <td>True</td>\n",
       "      <td>2001-01-01</td>\n",
       "      <td>1034</td>\n",
       "      <td>2001</td>\n",
       "    </tr>\n",
       "    <tr>\n",
       "      <th>2</th>\n",
       "      <td>False</td>\n",
       "      <td>2002-01-01</td>\n",
       "      <td>248784</td>\n",
       "      <td>2002</td>\n",
       "    </tr>\n",
       "    <tr>\n",
       "      <th>3</th>\n",
       "      <td>True</td>\n",
       "      <td>2002-01-01</td>\n",
       "      <td>96185</td>\n",
       "      <td>2002</td>\n",
       "    </tr>\n",
       "    <tr>\n",
       "      <th>4</th>\n",
       "      <td>False</td>\n",
       "      <td>2003-01-01</td>\n",
       "      <td>330854</td>\n",
       "      <td>2003</td>\n",
       "    </tr>\n",
       "    <tr>\n",
       "      <th>5</th>\n",
       "      <td>True</td>\n",
       "      <td>2003-01-01</td>\n",
       "      <td>140284</td>\n",
       "      <td>2003</td>\n",
       "    </tr>\n",
       "    <tr>\n",
       "      <th>6</th>\n",
       "      <td>False</td>\n",
       "      <td>2004-01-01</td>\n",
       "      <td>268741</td>\n",
       "      <td>2004</td>\n",
       "    </tr>\n",
       "    <tr>\n",
       "      <th>7</th>\n",
       "      <td>True</td>\n",
       "      <td>2004-01-01</td>\n",
       "      <td>116098</td>\n",
       "      <td>2004</td>\n",
       "    </tr>\n",
       "    <tr>\n",
       "      <th>8</th>\n",
       "      <td>False</td>\n",
       "      <td>2005-01-01</td>\n",
       "      <td>310289</td>\n",
       "      <td>2005</td>\n",
       "    </tr>\n",
       "    <tr>\n",
       "      <th>9</th>\n",
       "      <td>True</td>\n",
       "      <td>2005-01-01</td>\n",
       "      <td>140281</td>\n",
       "      <td>2005</td>\n",
       "    </tr>\n",
       "  </tbody>\n",
       "</table>\n",
       "</div>"
      ]
     },
     "metadata": {
      "application/vnd.databricks.v1+output": {
       "addedWidgets": {},
       "arguments": {},
       "data": "<div>\n<style scoped>\n    .dataframe tbody tr th:only-of-type {\n        vertical-align: middle;\n    }\n\n    .dataframe tbody tr th {\n        vertical-align: top;\n    }\n\n    .dataframe thead th {\n        text-align: right;\n    }\n</style>\n<table border=\"1\" class=\"dataframe\">\n  <thead>\n    <tr style=\"text-align: right;\">\n      <th></th>\n      <th>arrest</th>\n      <th>month</th>\n      <th>count</th>\n      <th>yearpd</th>\n    </tr>\n  </thead>\n  <tbody>\n    <tr>\n      <th>0</th>\n      <td>False</td>\n      <td>2001-01-01</td>\n      <td>3661</td>\n      <td>2001</td>\n    </tr>\n    <tr>\n      <th>1</th>\n      <td>True</td>\n      <td>2001-01-01</td>\n      <td>1034</td>\n      <td>2001</td>\n    </tr>\n    <tr>\n      <th>2</th>\n      <td>False</td>\n      <td>2002-01-01</td>\n      <td>248784</td>\n      <td>2002</td>\n    </tr>\n    <tr>\n      <th>3</th>\n      <td>True</td>\n      <td>2002-01-01</td>\n      <td>96185</td>\n      <td>2002</td>\n    </tr>\n    <tr>\n      <th>4</th>\n      <td>False</td>\n      <td>2003-01-01</td>\n      <td>330854</td>\n      <td>2003</td>\n    </tr>\n    <tr>\n      <th>5</th>\n      <td>True</td>\n      <td>2003-01-01</td>\n      <td>140284</td>\n      <td>2003</td>\n    </tr>\n    <tr>\n      <th>6</th>\n      <td>False</td>\n      <td>2004-01-01</td>\n      <td>268741</td>\n      <td>2004</td>\n    </tr>\n    <tr>\n      <th>7</th>\n      <td>True</td>\n      <td>2004-01-01</td>\n      <td>116098</td>\n      <td>2004</td>\n    </tr>\n    <tr>\n      <th>8</th>\n      <td>False</td>\n      <td>2005-01-01</td>\n      <td>310289</td>\n      <td>2005</td>\n    </tr>\n    <tr>\n      <th>9</th>\n      <td>True</td>\n      <td>2005-01-01</td>\n      <td>140281</td>\n      <td>2005</td>\n    </tr>\n  </tbody>\n</table>\n</div>",
       "datasetInfos": [],
       "metadata": {},
       "removedWidgets": [],
       "textData": null,
       "type": "htmlSandbox"
      }
     },
     "output_type": "display_data"
    }
   ],
   "source": [
    "type_arrest_pddf['arrest'] = type_arrest_pddf['arrest'].apply(lambda l: l=='True')\n",
    "type_arrest_pddf.head(10)"
   ]
  },
  {
   "cell_type": "code",
   "execution_count": 0,
   "metadata": {
    "application/vnd.databricks.v1+cell": {
     "inputWidgets": {},
     "nuid": "8fb6561f-e135-4bf9-aef5-36c946c0d915",
     "showTitle": false,
     "title": ""
    }
   },
   "outputs": [
    {
     "data": {
      "text/html": [
       "<style scoped>\n",
       "  .ansiout {\n",
       "    display: block;\n",
       "    unicode-bidi: embed;\n",
       "    white-space: pre-wrap;\n",
       "    word-wrap: break-word;\n",
       "    word-break: break-all;\n",
       "    font-family: \"Source Code Pro\", \"Menlo\", monospace;;\n",
       "    font-size: 13px;\n",
       "    color: #555;\n",
       "    margin-left: 4px;\n",
       "    line-height: 19px;\n",
       "  }\n",
       "</style>\n",
       "<div class=\"ansiout\">Out[27]: </div>"
      ]
     },
     "metadata": {
      "application/vnd.databricks.v1+output": {
       "addedWidgets": {},
       "arguments": {},
       "data": "<div class=\"ansiout\">Out[27]: </div>",
       "datasetInfos": [],
       "metadata": {},
       "removedWidgets": [],
       "type": "html"
      }
     },
     "output_type": "display_data"
    },
    {
     "data": {
      "image/png": "[encoded data removed]"
     },
     "metadata": {
      "application/vnd.databricks.v1+output": {
       "addedWidgets": {},
       "arguments": {},
       "data": "/plots/6c350698-8e87-44c3-85f9-a41062f47847.png",
       "datasetInfos": [],
       "metadata": {},
       "removedWidgets": [],
       "type": "image"
      }
     },
     "output_type": "display_data"
    },
    {
     "data": {
      "text/html": [
       "<style scoped>\n",
       "  .ansiout {\n",
       "    display: block;\n",
       "    unicode-bidi: embed;\n",
       "    white-space: pre-wrap;\n",
       "    word-wrap: break-word;\n",
       "    word-break: break-all;\n",
       "    font-family: \"Source Code Pro\", \"Menlo\", monospace;;\n",
       "    font-size: 13px;\n",
       "    color: #555;\n",
       "    margin-left: 4px;\n",
       "    line-height: 19px;\n",
       "  }\n",
       "</style>\n",
       "<div class=\"ansiout\">&lt;matplotlib.legend.Legend at 0x7ff68b749a30&gt;</div>"
      ]
     },
     "metadata": {
      "application/vnd.databricks.v1+output": {
       "addedWidgets": {},
       "arguments": {},
       "data": "<div class=\"ansiout\">&lt;matplotlib.legend.Legend at 0x7ff68b749a30&gt;</div>",
       "datasetInfos": [],
       "metadata": {},
       "removedWidgets": [],
       "type": "html"
      }
     },
     "output_type": "display_data"
    }
   ],
   "source": [
    "# How arrest and non-arrest crimes have changed over the years\n",
    "# Data for plotting\n",
    "total=pd.merge(type_arrest_pddf['month'], type_arrest_pddf['count'], right_index = True,left_index = True)\n",
    "total_cnt = total.groupby(total['month']).aggregate({'month':'first','count':'sum'})\n",
    "arrested = type_arrest_pddf[type_arrest_pddf['arrest'] == True]\n",
    "not_arrested = type_arrest_pddf[type_arrest_pddf['arrest'] == False]\n",
    "\n",
    "fig, ax = plt.subplots()\n",
    "plt.figure(figsize=(16, 6))\n",
    "ax.plot(not_arrested['month'], not_arrested['count'], label='Not Arrested')\n",
    "ax.plot(arrested['month'], arrested['count'], label='Arrested')\n",
    "ax.plot(total_cnt['month'], total_cnt['count'], label='Total Number')\n",
    "ax.set(xlabel='Years(2001-2017)', ylabel='Total count',title='Yearly Count of Crime Records')\n",
    "ax.legend()"
   ]
  },
  {
   "cell_type": "code",
   "execution_count": 0,
   "metadata": {
    "application/vnd.databricks.v1+cell": {
     "inputWidgets": {},
     "nuid": "f913d714-388c-4abe-a43c-19639942ba32",
     "showTitle": false,
     "title": ""
    }
   },
   "outputs": [
    {
     "data": {
      "text/html": [
       "<style scoped>\n",
       "  .ansiout {\n",
       "    display: block;\n",
       "    unicode-bidi: embed;\n",
       "    white-space: pre-wrap;\n",
       "    word-wrap: break-word;\n",
       "    word-break: break-all;\n",
       "    font-family: \"Source Code Pro\", \"Menlo\", monospace;;\n",
       "    font-size: 13px;\n",
       "    color: #555;\n",
       "    margin-left: 4px;\n",
       "    line-height: 19px;\n",
       "  }\n",
       "</style>\n",
       "<div class=\"ansiout\"></div>"
      ]
     },
     "metadata": {
      "application/vnd.databricks.v1+output": {
       "addedWidgets": {},
       "arguments": {},
       "data": "<div class=\"ansiout\"></div>",
       "datasetInfos": [],
       "metadata": {},
       "removedWidgets": [],
       "type": "html"
      }
     },
     "output_type": "display_data"
    }
   ],
   "source": [
    "#Analyze criminal activity on hourly basis\n",
    "# Extract the \"hour\" field from the date into a separate column called \"hour\"\n",
    "df = df.withColumn('hour', hour(df['date_time']))\n",
    "\n",
    "# Derive a data frame with crime count per hour of the day:\n",
    "hourly_count = df.groupBy(['primary_type', 'hour']).count().cache()\n",
    "hourly_total_count = hourly_count.groupBy('hour').sum('count')\n",
    "hourly_count_pddf = pd.DataFrame(hourly_total_count.select(hourly_total_count['hour'], hourly_total_count['sum(count)'].alias('count'))\\\n",
    "                                .rdd.map(lambda l: l.asDict())\\\n",
    "                                 .collect())\n",
    "hourly_count_pddf = hourly_count_pddf.sort_values(by='hour')"
   ]
  },
  {
   "cell_type": "code",
   "execution_count": 0,
   "metadata": {
    "application/vnd.databricks.v1+cell": {
     "inputWidgets": {},
     "nuid": "0141a74c-8249-403a-8bb2-e800909cd2de",
     "showTitle": false,
     "title": ""
    }
   },
   "outputs": [
    {
     "data": {
      "image/png": "[encoded data removed]"
     },
     "metadata": {
      "application/vnd.databricks.v1+output": {
       "addedWidgets": {},
       "arguments": {},
       "data": "/plots/f6526d14-3765-4dd6-96b3-c0d4b91adb32.png",
       "datasetInfos": [],
       "metadata": {},
       "removedWidgets": [],
       "type": "image"
      }
     },
     "output_type": "display_data"
    }
   ],
   "source": [
    "# Plot of crime activity over hours of day\n",
    "plt.figure(figsize=(16, 6))\n",
    "plt.plot(hourly_count_pddf['hour'], hourly_count_pddf['count'],marker='.')\n",
    "plt.xlabel('Hour of Day')\n",
    "plt.ylabel('Count of Crimes')\n",
    "plt.title('Number of Crimes at Each Hour')\n",
    "plt.show()"
   ]
  },
  {
   "cell_type": "code",
   "execution_count": 0,
   "metadata": {
    "application/vnd.databricks.v1+cell": {
     "inputWidgets": {},
     "nuid": "3d97dbcd-d711-46f6-a31e-ef478f704c1a",
     "showTitle": false,
     "title": ""
    }
   },
   "outputs": [
    {
     "data": {
      "text/html": [
       "<style scoped>\n",
       "  .ansiout {\n",
       "    display: block;\n",
       "    unicode-bidi: embed;\n",
       "    white-space: pre-wrap;\n",
       "    word-wrap: break-word;\n",
       "    word-break: break-all;\n",
       "    font-family: \"Source Code Pro\", \"Menlo\", monospace;;\n",
       "    font-size: 13px;\n",
       "    color: #555;\n",
       "    margin-left: 4px;\n",
       "    line-height: 19px;\n",
       "  }\n",
       "</style>\n",
       "<div class=\"ansiout\">170\n",
       "+--------------------+-------+\n",
       "location_description|  count|\n",
       "+--------------------+-------+\n",
       "              STREET|1868059|\n",
       "           RESIDENCE|1179074|\n",
       "            SIDEWALK| 767843|\n",
       "           APARTMENT| 759648|\n",
       "               OTHER| 257795|\n",
       "+--------------------+-------+\n",
       "only showing top 5 rows\n",
       "\n",
       "</div>"
      ]
     },
     "metadata": {
      "application/vnd.databricks.v1+output": {
       "addedWidgets": {},
       "arguments": {},
       "data": "<div class=\"ansiout\">170\n+--------------------+-------+\n|location_description|  count|\n+--------------------+-------+\n|              STREET|1868059|\n|           RESIDENCE|1179074|\n|            SIDEWALK| 767843|\n|           APARTMENT| 759648|\n|               OTHER| 257795|\n+--------------------+-------+\nonly showing top 5 rows\n\n</div>",
       "datasetInfos": [],
       "metadata": {},
       "removedWidgets": [],
       "type": "html"
      }
     },
     "output_type": "display_data"
    }
   ],
   "source": [
    "# Number of types of location recorded in the dataset\n",
    "print(df.select('location_description').distinct().count())\n",
    "df.groupBy(['location_description']).count().orderBy('count', ascending=False).show(5)"
   ]
  },
  {
   "cell_type": "code",
   "execution_count": 0,
   "metadata": {
    "application/vnd.databricks.v1+cell": {
     "inputWidgets": {},
     "nuid": "4df915b0-8dde-410f-b63f-3db580ab1cf1",
     "showTitle": false,
     "title": ""
    }
   },
   "outputs": [
    {
     "data": {
      "text/html": [
       "<style scoped>\n",
       "  .ansiout {\n",
       "    display: block;\n",
       "    unicode-bidi: embed;\n",
       "    white-space: pre-wrap;\n",
       "    word-wrap: break-word;\n",
       "    word-break: break-all;\n",
       "    font-family: \"Source Code Pro\", \"Menlo\", monospace;;\n",
       "    font-size: 13px;\n",
       "    color: #555;\n",
       "    margin-left: 4px;\n",
       "    line-height: 19px;\n",
       "  }\n",
       "</style>\n",
       "<div class=\"ansiout\">+--------------------+----+------+\n",
       "location_description|hour| count|\n",
       "+--------------------+----+------+\n",
       "              STREET|  22|140552|\n",
       "              STREET|  21|132046|\n",
       "              STREET|  20|125963|\n",
       "              STREET|   0|125341|\n",
       "              STREET|  19|113337|\n",
       "+--------------------+----+------+\n",
       "only showing top 5 rows\n",
       "\n",
       "</div>"
      ]
     },
     "metadata": {
      "application/vnd.databricks.v1+output": {
       "addedWidgets": {},
       "arguments": {},
       "data": "<div class=\"ansiout\">+--------------------+----+------+\n|location_description|hour| count|\n+--------------------+----+------+\n|              STREET|  22|140552|\n|              STREET|  21|132046|\n|              STREET|  20|125963|\n|              STREET|   0|125341|\n|              STREET|  19|113337|\n+--------------------+----+------+\nonly showing top 5 rows\n\n</div>",
       "datasetInfos": [],
       "metadata": {},
       "removedWidgets": [],
       "type": "html"
      }
     },
     "output_type": "display_data"
    }
   ],
   "source": [
    "#Crimes on street or at residence\n",
    "street_home_hour = df.where((df['location_description'] == 'STREET') | (df['location_description'] == 'RESIDENCE'))\n",
    "street_home_hour=(street_home_hour.groupBy(['location_description','hour']).count().orderBy('count', ascending=False))\n",
    "street_home_hour.show(5)"
   ]
  },
  {
   "cell_type": "code",
   "execution_count": 0,
   "metadata": {
    "application/vnd.databricks.v1+cell": {
     "inputWidgets": {},
     "nuid": "20f94488-6e91-41fe-a057-626f41065e5e",
     "showTitle": false,
     "title": ""
    }
   },
   "outputs": [
    {
     "data": {
      "text/html": [
       "<style scoped>\n",
       "  .ansiout {\n",
       "    display: block;\n",
       "    unicode-bidi: embed;\n",
       "    white-space: pre-wrap;\n",
       "    word-wrap: break-word;\n",
       "    word-break: break-all;\n",
       "    font-family: \"Source Code Pro\", \"Menlo\", monospace;;\n",
       "    font-size: 13px;\n",
       "    color: #555;\n",
       "    margin-left: 4px;\n",
       "    line-height: 19px;\n",
       "  }\n",
       "</style>\n",
       "<div class=\"ansiout\">Out[32]: </div>"
      ]
     },
     "metadata": {
      "application/vnd.databricks.v1+output": {
       "addedWidgets": {},
       "arguments": {},
       "data": "<div class=\"ansiout\">Out[32]: </div>",
       "datasetInfos": [],
       "metadata": {},
       "removedWidgets": [],
       "type": "html"
      }
     },
     "output_type": "display_data"
    },
    {
     "data": {
      "image/png": "[encoded data removed]"
     },
     "metadata": {
      "application/vnd.databricks.v1+output": {
       "addedWidgets": {},
       "arguments": {},
       "data": "/plots/23c6b5b3-24e5-4115-89d1-d6b5c06e1026.png",
       "datasetInfos": [],
       "metadata": {},
       "removedWidgets": [],
       "type": "image"
      }
     },
     "output_type": "display_data"
    },
    {
     "data": {
      "text/html": [
       "<style scoped>\n",
       "  .ansiout {\n",
       "    display: block;\n",
       "    unicode-bidi: embed;\n",
       "    white-space: pre-wrap;\n",
       "    word-wrap: break-word;\n",
       "    word-break: break-all;\n",
       "    font-family: \"Source Code Pro\", \"Menlo\", monospace;;\n",
       "    font-size: 13px;\n",
       "    color: #555;\n",
       "    margin-left: 4px;\n",
       "    line-height: 19px;\n",
       "  }\n",
       "</style>\n",
       "<div class=\"ansiout\">&lt;matplotlib.legend.Legend at 0x7ff68b6bd430&gt;</div>"
      ]
     },
     "metadata": {
      "application/vnd.databricks.v1+output": {
       "addedWidgets": {},
       "arguments": {},
       "data": "<div class=\"ansiout\">&lt;matplotlib.legend.Legend at 0x7ff68b6bd430&gt;</div>",
       "datasetInfos": [],
       "metadata": {},
       "removedWidgets": [],
       "type": "html"
      }
     },
     "output_type": "display_data"
    }
   ],
   "source": [
    "#Plot crimes that occur at home and on streets over hours of a day\n",
    "street_home_hour_pddf = pd.DataFrame(street_home_hour.rdd.map(lambda row: row.asDict()).collect())\n",
    "street_home_hour_pddf = street_home_hour_pddf.sort_values(by='hour')\n",
    "\n",
    "figure, axes = plt.subplots()\n",
    "plt.title('Number of Crimes at Each Hour for Street vs. Residence')\n",
    "plt.xlabel('Hour of Day')\n",
    "plt.ylabel('Count of Crimes')\n",
    "axes.plot(street_home_hour_pddf[street_home_hour_pddf['location_description'] == 'RESIDENCE']['hour'], \n",
    "          street_home_hour_pddf[street_home_hour_pddf['location_description'] == 'RESIDENCE']['count'],\n",
    "         label='Crimes at Home')\n",
    "\n",
    "axes.plot(street_home_hour_pddf[street_home_hour_pddf['location_description'] == 'STREET']['hour'], \n",
    "          street_home_hour_pddf[street_home_hour_pddf['location_description'] == 'STREET']['count'],\n",
    "         label='Crimes on the Street')\n",
    "\n",
    "axes.legend()"
   ]
  },
  {
   "cell_type": "code",
   "execution_count": 0,
   "metadata": {
    "application/vnd.databricks.v1+cell": {
     "inputWidgets": {},
     "nuid": "22accdc2-1390-4e74-aa05-c88adddb37ea",
     "showTitle": false,
     "title": ""
    }
   },
   "outputs": [
    {
     "data": {
      "text/html": [
       "<style scoped>\n",
       "  .ansiout {\n",
       "    display: block;\n",
       "    unicode-bidi: embed;\n",
       "    white-space: pre-wrap;\n",
       "    word-wrap: break-word;\n",
       "    word-break: break-all;\n",
       "    font-family: \"Source Code Pro\", \"Menlo\", monospace;;\n",
       "    font-size: 13px;\n",
       "    color: #555;\n",
       "    margin-left: 4px;\n",
       "    line-height: 19px;\n",
       "  }\n",
       "</style>\n",
       "<div class=\"ansiout\"></div>"
      ]
     },
     "metadata": {
      "application/vnd.databricks.v1+output": {
       "addedWidgets": {},
       "arguments": {},
       "data": "<div class=\"ansiout\"></div>",
       "datasetInfos": [],
       "metadata": {},
       "removedWidgets": [],
       "type": "html"
      }
     },
     "output_type": "display_data"
    }
   ],
   "source": [
    "#New dataframe with additional time columns\n",
    "df_dates = df.withColumn('week_day', dayofweek(df['date_time']))\\\n",
    "                 .withColumn('year_month', month(df['date_time']))\\\n",
    "                 .withColumn('month_day', dayofmonth(df['date_time']))\\\n",
    "                 .withColumn('date_number', datediff(df['date_time'], to_date(lit('2001-01-01'), format='yyyy-MM-dd')))\\\n",
    "                 .cache()"
   ]
  },
  {
   "cell_type": "code",
   "execution_count": 0,
   "metadata": {
    "application/vnd.databricks.v1+cell": {
     "inputWidgets": {},
     "nuid": "93893f28-f746-4768-b6dc-62f17fbafa43",
     "showTitle": false,
     "title": ""
    }
   },
   "outputs": [
    {
     "data": {
      "text/html": [
       "<style scoped>\n",
       "  .ansiout {\n",
       "    display: block;\n",
       "    unicode-bidi: embed;\n",
       "    white-space: pre-wrap;\n",
       "    word-wrap: break-word;\n",
       "    word-break: break-all;\n",
       "    font-family: \"Source Code Pro\", \"Menlo\", monospace;;\n",
       "    font-size: 13px;\n",
       "    color: #555;\n",
       "    margin-left: 4px;\n",
       "    line-height: 19px;\n",
       "  }\n",
       "</style>\n",
       "<div class=\"ansiout\">Out[34]: </div>"
      ]
     },
     "metadata": {
      "application/vnd.databricks.v1+output": {
       "addedWidgets": {},
       "arguments": {},
       "data": "<div class=\"ansiout\">Out[34]: </div>",
       "datasetInfos": [],
       "metadata": {},
       "removedWidgets": [],
       "type": "html"
      }
     },
     "output_type": "display_data"
    },
    {
     "data": {
      "image/png": "[encoded data removed]"
     },
     "metadata": {
      "application/vnd.databricks.v1+output": {
       "addedWidgets": {},
       "arguments": {},
       "data": "/plots/3839a2df-6dfc-4989-a426-0b354762e8da.png",
       "datasetInfos": [],
       "metadata": {},
       "removedWidgets": [],
       "type": "image"
      }
     },
     "output_type": "display_data"
    },
    {
     "data": {
      "text/html": [
       "<style scoped>\n",
       "  .ansiout {\n",
       "    display: block;\n",
       "    unicode-bidi: embed;\n",
       "    white-space: pre-wrap;\n",
       "    word-wrap: break-word;\n",
       "    word-break: break-all;\n",
       "    font-family: \"Source Code Pro\", \"Menlo\", monospace;;\n",
       "    font-size: 13px;\n",
       "    color: #555;\n",
       "    margin-left: 4px;\n",
       "    line-height: 19px;\n",
       "  }\n",
       "</style>\n",
       "<div class=\"ansiout\">Text(0.5, 0, &#39;Day of Week (Mon. - Sun.)&#39;)</div>"
      ]
     },
     "metadata": {
      "application/vnd.databricks.v1+output": {
       "addedWidgets": {},
       "arguments": {},
       "data": "<div class=\"ansiout\">Text(0.5, 0, &#39;Day of Week (Mon. - Sun.)&#39;)</div>",
       "datasetInfos": [],
       "metadata": {},
       "removedWidgets": [],
       "type": "html"
      }
     },
     "output_type": "display_data"
    }
   ],
   "source": [
    "#Plot crimes over weekdays\n",
    "week_day_crime_counts = df_dates.groupBy('week_day').count()\n",
    "week_day_crime_counts_pddf = pd.DataFrame(week_day_crime_counts.orderBy('week_day').rdd.map(lambda e: e.asDict()).collect())\n",
    "\n",
    "plt.figure(figsize=(16, 6))\n",
    "ax=sns.barplot(data=week_day_crime_counts_pddf, x='week_day', y='count')\n",
    "ax.set_title('Number of Crimes by Days of the Week')\n",
    "ax.set_ylabel('Count of Crimes')\n",
    "ax.set_xlabel('Day of Week (Mon. - Sun.)')"
   ]
  },
  {
   "cell_type": "code",
   "execution_count": 0,
   "metadata": {
    "application/vnd.databricks.v1+cell": {
     "inputWidgets": {},
     "nuid": "70c32c8a-c1e5-4bb6-aa98-d5dac75a8b39",
     "showTitle": false,
     "title": ""
    }
   },
   "outputs": [
    {
     "data": {
      "text/html": [
       "<style scoped>\n",
       "  .ansiout {\n",
       "    display: block;\n",
       "    unicode-bidi: embed;\n",
       "    white-space: pre-wrap;\n",
       "    word-wrap: break-word;\n",
       "    word-break: break-all;\n",
       "    font-family: \"Source Code Pro\", \"Menlo\", monospace;;\n",
       "    font-size: 13px;\n",
       "    color: #555;\n",
       "    margin-left: 4px;\n",
       "    line-height: 19px;\n",
       "  }\n",
       "</style>\n",
       "<div class=\"ansiout\">Out[35]: </div>"
      ]
     },
     "metadata": {
      "application/vnd.databricks.v1+output": {
       "addedWidgets": {},
       "arguments": {},
       "data": "<div class=\"ansiout\">Out[35]: </div>",
       "datasetInfos": [],
       "metadata": {},
       "removedWidgets": [],
       "type": "html"
      }
     },
     "output_type": "display_data"
    },
    {
     "data": {
      "image/png": "[encoded data removed]"
     },
     "metadata": {
      "application/vnd.databricks.v1+output": {
       "addedWidgets": {},
       "arguments": {},
       "data": "/plots/1cd69aae-116c-4387-b6c1-8dae2266a568.png",
       "datasetInfos": [],
       "metadata": {},
       "removedWidgets": [],
       "type": "image"
      }
     },
     "output_type": "display_data"
    },
    {
     "data": {
      "text/html": [
       "<style scoped>\n",
       "  .ansiout {\n",
       "    display: block;\n",
       "    unicode-bidi: embed;\n",
       "    white-space: pre-wrap;\n",
       "    word-wrap: break-word;\n",
       "    word-break: break-all;\n",
       "    font-family: \"Source Code Pro\", \"Menlo\", monospace;;\n",
       "    font-size: 13px;\n",
       "    color: #555;\n",
       "    margin-left: 4px;\n",
       "    line-height: 19px;\n",
       "  }\n",
       "</style>\n",
       "<div class=\"ansiout\">Text(0.5, 0, &#39;Month&#39;)</div>"
      ]
     },
     "metadata": {
      "application/vnd.databricks.v1+output": {
       "addedWidgets": {},
       "arguments": {},
       "data": "<div class=\"ansiout\">Text(0.5, 0, &#39;Month&#39;)</div>",
       "datasetInfos": [],
       "metadata": {},
       "removedWidgets": [],
       "type": "html"
      }
     },
     "output_type": "display_data"
    }
   ],
   "source": [
    "# Plot crimes over months\n",
    "year_month_crime_counts = df_dates.groupBy('year_month').count()\n",
    "year_month_crime_counts_pddf = pd.DataFrame(year_month_crime_counts.orderBy('year_month').rdd.map(lambda e: e.asDict()).collect())\n",
    "\n",
    "plt.figure(figsize=(16, 6))\n",
    "ax = sns.barplot(data=year_month_crime_counts_pddf, y='count', x='year_month')\n",
    "ax.set_title('Number of Crimes by Month')\n",
    "ax.set_ylabel('Count of Crimes')\n",
    "ax.set_xlabel('Month')"
   ]
  },
  {
   "cell_type": "code",
   "execution_count": 0,
   "metadata": {
    "application/vnd.databricks.v1+cell": {
     "inputWidgets": {},
     "nuid": "81e3dc9d-38e0-431b-ba28-b48b068ad3f1",
     "showTitle": false,
     "title": ""
    }
   },
   "outputs": [
    {
     "data": {
      "text/html": [
       "<style scoped>\n",
       "  .ansiout {\n",
       "    display: block;\n",
       "    unicode-bidi: embed;\n",
       "    white-space: pre-wrap;\n",
       "    word-wrap: break-word;\n",
       "    word-break: break-all;\n",
       "    font-family: \"Source Code Pro\", \"Menlo\", monospace;;\n",
       "    font-size: 13px;\n",
       "    color: #555;\n",
       "    margin-left: 4px;\n",
       "    line-height: 19px;\n",
       "  }\n",
       "</style>\n",
       "<div class=\"ansiout\">No handles with labels found to put in legend.\n",
       "Out[36]: </div>"
      ]
     },
     "metadata": {
      "application/vnd.databricks.v1+output": {
       "addedWidgets": {},
       "arguments": {},
       "data": "<div class=\"ansiout\">No handles with labels found to put in legend.\nOut[36]: </div>",
       "datasetInfos": [],
       "metadata": {},
       "removedWidgets": [],
       "type": "html"
      }
     },
     "output_type": "display_data"
    },
    {
     "data": {
      "image/png": "[encoded data removed]"
     },
     "metadata": {
      "application/vnd.databricks.v1+output": {
       "addedWidgets": {},
       "arguments": {},
       "data": "/plots/4972a8a1-a44d-48ed-98b0-4191a112e189.png",
       "datasetInfos": [],
       "metadata": {},
       "removedWidgets": [],
       "type": "image"
      }
     },
     "output_type": "display_data"
    },
    {
     "data": {
      "text/html": [
       "<style scoped>\n",
       "  .ansiout {\n",
       "    display: block;\n",
       "    unicode-bidi: embed;\n",
       "    white-space: pre-wrap;\n",
       "    word-wrap: break-word;\n",
       "    word-break: break-all;\n",
       "    font-family: \"Source Code Pro\", \"Menlo\", monospace;;\n",
       "    font-size: 13px;\n",
       "    color: #555;\n",
       "    margin-left: 4px;\n",
       "    line-height: 19px;\n",
       "  }\n",
       "</style>\n",
       "<div class=\"ansiout\">&lt;matplotlib.legend.Legend at 0x7ff68c2f86d0&gt;</div>"
      ]
     },
     "metadata": {
      "application/vnd.databricks.v1+output": {
       "addedWidgets": {},
       "arguments": {},
       "data": "<div class=\"ansiout\">&lt;matplotlib.legend.Legend at 0x7ff68c2f86d0&gt;</div>",
       "datasetInfos": [],
       "metadata": {},
       "removedWidgets": [],
       "type": "html"
      }
     },
     "output_type": "display_data"
    }
   ],
   "source": [
    "#Plot crimes over days of month\n",
    "month_day_crime_counts = df_dates.groupBy('month_day').count()\n",
    "month_day_crime_counts_pddf = pd.DataFrame(month_day_crime_counts.orderBy('month_day').rdd.map(lambda e: e.asDict()).collect())\n",
    "\n",
    "month_day_crime_counts_pddf = month_day_crime_counts_pddf.sort_values(by='month_day', ascending=True)\n",
    "plt.figure(figsize=(16, 6))\n",
    "plt.plot(month_day_crime_counts_pddf['month_day'],month_day_crime_counts_pddf['count'])\n",
    "plt.title('Number of Crimes Throughout Month')\n",
    "plt.ylabel('Count of Crimes')\n",
    "plt.xlabel('Day of Month')\n",
    "plt.legend()"
   ]
  },
  {
   "cell_type": "code",
   "execution_count": 0,
   "metadata": {
    "application/vnd.databricks.v1+cell": {
     "inputWidgets": {},
     "nuid": "e225f499-9f95-49d7-8a7e-a6351a4fe1bb",
     "showTitle": false,
     "title": ""
    },
    "scrolled": true
   },
   "outputs": [
    {
     "data": {
      "text/html": [
       "<style scoped>\n",
       "  .ansiout {\n",
       "    display: block;\n",
       "    unicode-bidi: embed;\n",
       "    white-space: pre-wrap;\n",
       "    word-wrap: break-word;\n",
       "    word-break: break-all;\n",
       "    font-family: \"Source Code Pro\", \"Menlo\", monospace;;\n",
       "    font-size: 13px;\n",
       "    color: #555;\n",
       "    margin-left: 4px;\n",
       "    line-height: 19px;\n",
       "  }\n",
       "</style>\n",
       "<div class=\"ansiout\">+--------------+------+\n",
       "community_area| count|\n",
       "+--------------+------+\n",
       "          25.0|461420|\n",
       "          43.0|234706|\n",
       "           8.0|232033|\n",
       "          23.0|225846|\n",
       "          67.0|214275|\n",
       "          24.0|211000|\n",
       "          71.0|204611|\n",
       "          28.0|203009|\n",
       "          29.0|199354|\n",
       "          68.0|195120|\n",
       "+--------------+------+\n",
       "only showing top 10 rows\n",
       "\n",
       "</div>"
      ]
     },
     "metadata": {
      "application/vnd.databricks.v1+output": {
       "addedWidgets": {},
       "arguments": {},
       "data": "<div class=\"ansiout\">+--------------+------+\n|community_area| count|\n+--------------+------+\n|          25.0|461420|\n|          43.0|234706|\n|           8.0|232033|\n|          23.0|225846|\n|          67.0|214275|\n|          24.0|211000|\n|          71.0|204611|\n|          28.0|203009|\n|          29.0|199354|\n|          68.0|195120|\n+--------------+------+\nonly showing top 10 rows\n\n</div>",
       "datasetInfos": [],
       "metadata": {},
       "removedWidgets": [],
       "type": "html"
      }
     },
     "output_type": "display_data"
    }
   ],
   "source": [
    "#Top 10 areas with highest crime\n",
    "df_dates_community_areas = df_dates.na.drop(subset=['community_area']).groupBy('community_area').count()\n",
    "df_dates_community_areas.orderBy('count', ascending=False).show(10)"
   ]
  },
  {
   "cell_type": "code",
   "execution_count": 0,
   "metadata": {
    "application/vnd.databricks.v1+cell": {
     "inputWidgets": {},
     "nuid": "eab46591-aec8-4c7e-abe7-416f879cd0ca",
     "showTitle": false,
     "title": ""
    }
   },
   "outputs": [
    {
     "data": {
      "text/html": [
       "<style scoped>\n",
       "  .ansiout {\n",
       "    display: block;\n",
       "    unicode-bidi: embed;\n",
       "    white-space: pre-wrap;\n",
       "    word-wrap: break-word;\n",
       "    word-break: break-all;\n",
       "    font-family: \"Source Code Pro\", \"Menlo\", monospace;;\n",
       "    font-size: 13px;\n",
       "    color: #555;\n",
       "    margin-left: 4px;\n",
       "    line-height: 19px;\n",
       "  }\n",
       "</style>\n",
       "<div class=\"ansiout\"></div>"
      ]
     },
     "metadata": {
      "application/vnd.databricks.v1+output": {
       "addedWidgets": {},
       "arguments": {},
       "data": "<div class=\"ansiout\"></div>",
       "datasetInfos": [],
       "metadata": {},
       "removedWidgets": [],
       "type": "html"
      }
     },
     "output_type": "display_data"
    }
   ],
   "source": [
    "## Is it possible to see how the top crime types occur in the top crime-affected areas?\n",
    "top_crime_types = df_dates.select('primary_type').groupBy('primary_type').count().rdd.map(lambda row: row.asDict()).takeOrdered(5, key=lambda l: 1/l['count'])\n",
    "top_busy_areas =  df_dates_community_areas.rdd.map(lambda row: row.asDict()).takeOrdered(5, key=lambda l: 1/l['count'])\n",
    "\n",
    "top_crime_types_lst = [dc['primary_type'] for dc in top_crime_types]\n",
    "top_busy_areas_lst = [dc['community_area'] for dc in top_busy_areas]"
   ]
  },
  {
   "cell_type": "code",
   "execution_count": 0,
   "metadata": {
    "application/vnd.databricks.v1+cell": {
     "inputWidgets": {},
     "nuid": "f36d796f-1cce-4f96-bc03-b5cbc605dd3e",
     "showTitle": false,
     "title": ""
    }
   },
   "outputs": [
    {
     "data": {
      "text/html": [
       "<style scoped>\n",
       "  .ansiout {\n",
       "    display: block;\n",
       "    unicode-bidi: embed;\n",
       "    white-space: pre-wrap;\n",
       "    word-wrap: break-word;\n",
       "    word-break: break-all;\n",
       "    font-family: \"Source Code Pro\", \"Menlo\", monospace;;\n",
       "    font-size: 13px;\n",
       "    color: #555;\n",
       "    margin-left: 4px;\n",
       "    line-height: 19px;\n",
       "  }\n",
       "</style>\n",
       "<div class=\"ansiout\"></div>"
      ]
     },
     "metadata": {
      "application/vnd.databricks.v1+output": {
       "addedWidgets": {},
       "arguments": {},
       "data": "<div class=\"ansiout\"></div>",
       "datasetInfos": [],
       "metadata": {},
       "removedWidgets": [],
       "type": "html"
      }
     },
     "output_type": "display_data"
    }
   ],
   "source": [
    "# Dataframe filtered by these top community areas and top crime types:\n",
    "q1 = \"instr('\" + ' '.join(top_busy_areas_lst) + \"', community_area) > 0\"\n",
    "q2 = \"instr('\" + ' '.join(top_crime_types_lst) + \"', primary_type) > 0\"\n",
    "\n",
    "df_dates_tops = df_dates.filter(q1).filter(q2)"
   ]
  },
  {
   "cell_type": "code",
   "execution_count": 0,
   "metadata": {
    "application/vnd.databricks.v1+cell": {
     "inputWidgets": {},
     "nuid": "333d055f-2b3d-43fc-a0d7-aa93cae161e6",
     "showTitle": false,
     "title": ""
    }
   },
   "outputs": [
    {
     "data": {
      "text/html": [
       "<style scoped>\n",
       "  .ansiout {\n",
       "    display: block;\n",
       "    unicode-bidi: embed;\n",
       "    white-space: pre-wrap;\n",
       "    word-wrap: break-word;\n",
       "    word-break: break-all;\n",
       "    font-family: \"Source Code Pro\", \"Menlo\", monospace;;\n",
       "    font-size: 13px;\n",
       "    color: #555;\n",
       "    margin-left: 4px;\n",
       "    line-height: 19px;\n",
       "  }\n",
       "</style>\n",
       "<div class=\"ansiout\"></div>"
      ]
     },
     "metadata": {
      "application/vnd.databricks.v1+output": {
       "addedWidgets": {},
       "arguments": {},
       "data": "<div class=\"ansiout\"></div>",
       "datasetInfos": [],
       "metadata": {},
       "removedWidgets": [],
       "type": "html"
      }
     },
     "output_type": "display_data"
    }
   ],
   "source": [
    "tops_of_tops = df_dates_tops.groupBy(['primary_type', 'community_area']).count().orderBy(['primary_type', 'count', 'community_area'], ascending=[True, False, True]).cache()"
   ]
  },
  {
   "cell_type": "code",
   "execution_count": 0,
   "metadata": {
    "application/vnd.databricks.v1+cell": {
     "inputWidgets": {},
     "nuid": "c07d61d5-9a7c-4e9c-b11d-5cfd03d689e6",
     "showTitle": false,
     "title": ""
    }
   },
   "outputs": [
    {
     "data": {
      "text/html": [
       "<style scoped>\n",
       "  .ansiout {\n",
       "    display: block;\n",
       "    unicode-bidi: embed;\n",
       "    white-space: pre-wrap;\n",
       "    word-wrap: break-word;\n",
       "    word-break: break-all;\n",
       "    font-family: \"Source Code Pro\", \"Menlo\", monospace;;\n",
       "    font-size: 13px;\n",
       "    color: #555;\n",
       "    margin-left: 4px;\n",
       "    line-height: 19px;\n",
       "  }\n",
       "</style>\n",
       "<div class=\"ansiout\"></div>"
      ]
     },
     "metadata": {
      "application/vnd.databricks.v1+output": {
       "addedWidgets": {},
       "arguments": {},
       "data": "<div class=\"ansiout\"></div>",
       "datasetInfos": [],
       "metadata": {},
       "removedWidgets": [],
       "type": "html"
      }
     },
     "output_type": "display_data"
    }
   ],
   "source": [
    "#Community area names to better understand locations\n",
    "area_names = \"\"\"\n",
    "01\tRogers Park\t\n",
    "40\tWashington Park\n",
    "02\tWest Ridge\t\n",
    "41\tHyde Park\n",
    "03\tUptown\t\n",
    "42\tWoodlawn\n",
    "04\tLincoln Square\t\n",
    "43\tSouth Shore\n",
    "05\tNorth Center\t\n",
    "44\tChatham\n",
    "06\tLakeview\t\n",
    "45\tAvalon Park\n",
    "07\tLincoln Park\t\n",
    "46\tSouth Chicago\n",
    "08\tNear North Side\t\n",
    "47\tBurnside\n",
    "09\tEdison Park\t\n",
    "48\tCalumet Heights\n",
    "10\tNorwood Park\t\n",
    "49\tRoseland\n",
    "11\tJefferson Park\t\n",
    "50\tPullman\n",
    "12\tForest Glen\t\n",
    "51\tSouth Deering\n",
    "13\tNorth Park\t\n",
    "52\tEast Side\n",
    "14\tAlbany Park\t\n",
    "53\tWest Pullman\n",
    "15\tPortage Park\t\n",
    "54\tRiverdale\n",
    "16\tIrving Park\t\n",
    "55\tHegewisch\n",
    "17\tDunning\t\n",
    "56\tGarfield Ridge\n",
    "18\tMontclare\t\n",
    "57\tArcher Heights\n",
    "19\tBelmont Cragin\t\n",
    "58\tBrighton Park\n",
    "20\tHermosa\t\n",
    "59\tMcKinley Park\n",
    "21\tAvondale\t\n",
    "60\tBridgeport\n",
    "22\tLogan Square\t\n",
    "61\tNew City\n",
    "23\tHumboldt Park\t\n",
    "62\tWest Elsdon\n",
    "24\tWest Town\t\n",
    "63\tGage Park\n",
    "25\tAustin\t\n",
    "64\tClearing\n",
    "26\tWest Garfield Park \t\n",
    "65\tWest Lawn\n",
    "27\tEast Garfield Park\t\n",
    "66\tChicago Lawn\n",
    "28\tNear West Side\t\n",
    "67\tWest Englewood\n",
    "29\tNorth Lawndale\t\n",
    "68\tEnglewood\n",
    "30\tSouth Lawndale\t\n",
    "69\tGreater Grand Crossing\n",
    "31\tLower West Side\t\n",
    "70\tAshburn\n",
    "32\tLoop\t\n",
    "71\tAuburn Gresham\t\n",
    "33\tNear South Side\t\n",
    "72\tBeverly\n",
    "34\tArmour Square\t\n",
    "73\tWashington Heights\n",
    "35\tDouglas\t\n",
    "74\tMount Greenwood\n",
    "36\tOakland\t\n",
    "75\tMorgan Park\n",
    "37\tFuller Park\t\n",
    "76\tO'Hare\n",
    "38\tGrand Boulevard\t\n",
    "77\tEdgewater\n",
    "39\tKenwood\t\n",
    "\"\"\""
   ]
  },
  {
   "cell_type": "code",
   "execution_count": 0,
   "metadata": {
    "application/vnd.databricks.v1+cell": {
     "inputWidgets": {},
     "nuid": "fe92b937-7a8f-4ce2-95d3-d9a761be624f",
     "showTitle": false,
     "title": ""
    }
   },
   "outputs": [
    {
     "data": {
      "text/html": [
       "<style scoped>\n",
       "  .ansiout {\n",
       "    display: block;\n",
       "    unicode-bidi: embed;\n",
       "    white-space: pre-wrap;\n",
       "    word-wrap: break-word;\n",
       "    word-break: break-all;\n",
       "    font-family: \"Source Code Pro\", \"Menlo\", monospace;;\n",
       "    font-size: 13px;\n",
       "    color: #555;\n",
       "    margin-left: 4px;\n",
       "    line-height: 19px;\n",
       "  }\n",
       "</style>\n",
       "<div class=\"ansiout\"></div>"
      ]
     },
     "metadata": {
      "application/vnd.databricks.v1+output": {
       "addedWidgets": {},
       "arguments": {},
       "data": "<div class=\"ansiout\"></div>",
       "datasetInfos": [],
       "metadata": {},
       "removedWidgets": [],
       "type": "html"
      }
     },
     "output_type": "display_data"
    }
   ],
   "source": [
    "code_pairs = [[float(p[0]), p[1]] for p in [pair.strip().split('\\t') for pair in area_names.strip().split('\\n')]]"
   ]
  },
  {
   "cell_type": "code",
   "execution_count": 0,
   "metadata": {
    "application/vnd.databricks.v1+cell": {
     "inputWidgets": {},
     "nuid": "560881f4-6036-4390-90f6-fc98416eba99",
     "showTitle": false,
     "title": ""
    }
   },
   "outputs": [
    {
     "data": {
      "text/html": [
       "<style scoped>\n",
       "  .ansiout {\n",
       "    display: block;\n",
       "    unicode-bidi: embed;\n",
       "    white-space: pre-wrap;\n",
       "    word-wrap: break-word;\n",
       "    word-break: break-all;\n",
       "    font-family: \"Source Code Pro\", \"Menlo\", monospace;;\n",
       "    font-size: 13px;\n",
       "    color: #555;\n",
       "    margin-left: 4px;\n",
       "    line-height: 19px;\n",
       "  }\n",
       "</style>\n",
       "<div class=\"ansiout\">Out[43]: </div>"
      ]
     },
     "metadata": {
      "application/vnd.databricks.v1+output": {
       "addedWidgets": {},
       "arguments": {},
       "data": "<div class=\"ansiout\">Out[43]: </div>",
       "datasetInfos": [],
       "metadata": {},
       "removedWidgets": [],
       "type": "html"
      }
     },
     "output_type": "display_data"
    },
    {
     "data": {
      "text/html": [
       "<div>\n",
       "<style scoped>\n",
       "    .dataframe tbody tr th:only-of-type {\n",
       "        vertical-align: middle;\n",
       "    }\n",
       "\n",
       "    .dataframe tbody tr th {\n",
       "        vertical-align: top;\n",
       "    }\n",
       "\n",
       "    .dataframe thead th {\n",
       "        text-align: right;\n",
       "    }\n",
       "</style>\n",
       "<table border=\"1\" class=\"dataframe\">\n",
       "  <thead>\n",
       "    <tr style=\"text-align: right;\">\n",
       "      <th></th>\n",
       "      <th>community_area</th>\n",
       "      <th>count</th>\n",
       "      <th>community_area_name</th>\n",
       "    </tr>\n",
       "  </thead>\n",
       "  <tbody>\n",
       "    <tr>\n",
       "      <th>22</th>\n",
       "      <td>0.0</td>\n",
       "      <td>87</td>\n",
       "      <td>unknown_0.0</td>\n",
       "    </tr>\n",
       "    <tr>\n",
       "      <th>24</th>\n",
       "      <td>9.0</td>\n",
       "      <td>6872</td>\n",
       "      <td>Edison Park</td>\n",
       "    </tr>\n",
       "    <tr>\n",
       "      <th>11</th>\n",
       "      <td>47.0</td>\n",
       "      <td>10840</td>\n",
       "      <td>Burnside</td>\n",
       "    </tr>\n",
       "    <tr>\n",
       "      <th>25</th>\n",
       "      <td>12.0</td>\n",
       "      <td>12771</td>\n",
       "      <td>Forest Glen</td>\n",
       "    </tr>\n",
       "    <tr>\n",
       "      <th>53</th>\n",
       "      <td>55.0</td>\n",
       "      <td>15355</td>\n",
       "      <td>Hegewisch</td>\n",
       "    </tr>\n",
       "  </tbody>\n",
       "</table>\n",
       "</div>"
      ]
     },
     "metadata": {
      "application/vnd.databricks.v1+output": {
       "addedWidgets": {},
       "arguments": {},
       "data": "<div>\n<style scoped>\n    .dataframe tbody tr th:only-of-type {\n        vertical-align: middle;\n    }\n\n    .dataframe tbody tr th {\n        vertical-align: top;\n    }\n\n    .dataframe thead th {\n        text-align: right;\n    }\n</style>\n<table border=\"1\" class=\"dataframe\">\n  <thead>\n    <tr style=\"text-align: right;\">\n      <th></th>\n      <th>community_area</th>\n      <th>count</th>\n      <th>community_area_name</th>\n    </tr>\n  </thead>\n  <tbody>\n    <tr>\n      <th>22</th>\n      <td>0.0</td>\n      <td>87</td>\n      <td>unknown_0.0</td>\n    </tr>\n    <tr>\n      <th>24</th>\n      <td>9.0</td>\n      <td>6872</td>\n      <td>Edison Park</td>\n    </tr>\n    <tr>\n      <th>11</th>\n      <td>47.0</td>\n      <td>10840</td>\n      <td>Burnside</td>\n    </tr>\n    <tr>\n      <th>25</th>\n      <td>12.0</td>\n      <td>12771</td>\n      <td>Forest Glen</td>\n    </tr>\n    <tr>\n      <th>53</th>\n      <td>55.0</td>\n      <td>15355</td>\n      <td>Hegewisch</td>\n    </tr>\n  </tbody>\n</table>\n</div>",
       "datasetInfos": [],
       "metadata": {},
       "removedWidgets": [],
       "textData": null,
       "type": "htmlSandbox"
      }
     },
     "output_type": "display_data"
    }
   ],
   "source": [
    "#Crime count by community area\n",
    "community_area_counts = pd.DataFrame(df_dates_community_areas.rdd.map(lambda row: row.asDict()).collect())\n",
    "#Area codes to names\n",
    "area_name_dic = {float(k[0]):k[1] for k in code_pairs}\n",
    "community_area_counts['community_area_name'] = community_area_counts['community_area'].apply(lambda area: area_name_dic.get(float(area),  'unknown_%s'%area))\n",
    "community_area_counts = community_area_counts.sort_values(by='count')\n",
    "community_area_counts.head(5)"
   ]
  },
  {
   "cell_type": "code",
   "execution_count": 0,
   "metadata": {
    "application/vnd.databricks.v1+cell": {
     "inputWidgets": {},
     "nuid": "bdb49986-fdf3-420f-b4ed-8268bea40dd6",
     "showTitle": false,
     "title": ""
    }
   },
   "outputs": [
    {
     "data": {
      "text/html": [
       "<style scoped>\n",
       "  .ansiout {\n",
       "    display: block;\n",
       "    unicode-bidi: embed;\n",
       "    white-space: pre-wrap;\n",
       "    word-wrap: break-word;\n",
       "    word-break: break-all;\n",
       "    font-family: \"Source Code Pro\", \"Menlo\", monospace;;\n",
       "    font-size: 13px;\n",
       "    color: #555;\n",
       "    margin-left: 4px;\n",
       "    line-height: 19px;\n",
       "  }\n",
       "</style>\n",
       "<div class=\"ansiout\">+--------------+---------------+---------------+-----+\n",
       "community_area|      area_name|   primary_type|count|\n",
       "+--------------+---------------+---------------+-----+\n",
       "          25.0|         Austin|        BATTERY|90877|\n",
       "          43.0|    South Shore|        BATTERY|50699|\n",
       "          67.0| West Englewood|        BATTERY|50476|\n",
       "          23.0|  Humboldt Park|        BATTERY|45196|\n",
       "           8.0|Near North Side|        BATTERY|30683|\n",
       "           3.0|         Uptown|        BATTERY|17514|\n",
       "           7.0|   Lincoln Park|        BATTERY|10202|\n",
       "           5.0|   North Center|        BATTERY| 4400|\n",
       "          25.0|         Austin|CRIMINAL DAMAGE|40386|\n",
       "          43.0|    South Shore|CRIMINAL DAMAGE|27512|\n",
       "+--------------+---------------+---------------+-----+\n",
       "only showing top 10 rows\n",
       "\n",
       "</div>"
      ]
     },
     "metadata": {
      "application/vnd.databricks.v1+output": {
       "addedWidgets": {},
       "arguments": {},
       "data": "<div class=\"ansiout\">+--------------+---------------+---------------+-----+\n|community_area|      area_name|   primary_type|count|\n+--------------+---------------+---------------+-----+\n|          25.0|         Austin|        BATTERY|90877|\n|          43.0|    South Shore|        BATTERY|50699|\n|          67.0| West Englewood|        BATTERY|50476|\n|          23.0|  Humboldt Park|        BATTERY|45196|\n|           8.0|Near North Side|        BATTERY|30683|\n|           3.0|         Uptown|        BATTERY|17514|\n|           7.0|   Lincoln Park|        BATTERY|10202|\n|           5.0|   North Center|        BATTERY| 4400|\n|          25.0|         Austin|CRIMINAL DAMAGE|40386|\n|          43.0|    South Shore|CRIMINAL DAMAGE|27512|\n+--------------+---------------+---------------+-----+\nonly showing top 10 rows\n\n</div>",
       "datasetInfos": [],
       "metadata": {},
       "removedWidgets": [],
       "type": "html"
      }
     },
     "output_type": "display_data"
    }
   ],
   "source": [
    "#Join community areas on main data frame\n",
    "code_pairs_df = spark.createDataFrame(code_pairs, ['community_area', 'area_name'])\n",
    "named_tops_of_tops = code_pairs_df.join(tops_of_tops, on='community_area', how='right')\n",
    "named_tops_of_tops.show(10)"
   ]
  },
  {
   "cell_type": "code",
   "execution_count": 0,
   "metadata": {
    "application/vnd.databricks.v1+cell": {
     "inputWidgets": {},
     "nuid": "3b8f24b5-0fa5-4b9c-8417-cb4a36d4d5c3",
     "showTitle": false,
     "title": ""
    },
    "scrolled": true
   },
   "outputs": [
    {
     "data": {
      "text/html": [
       "<style scoped>\n",
       "  .ansiout {\n",
       "    display: block;\n",
       "    unicode-bidi: embed;\n",
       "    white-space: pre-wrap;\n",
       "    word-wrap: break-word;\n",
       "    word-break: break-all;\n",
       "    font-family: \"Source Code Pro\", \"Menlo\", monospace;;\n",
       "    font-size: 13px;\n",
       "    color: #555;\n",
       "    margin-left: 4px;\n",
       "    line-height: 19px;\n",
       "  }\n",
       "</style>\n",
       "<div class=\"ansiout\">Out[45]: </div>"
      ]
     },
     "metadata": {
      "application/vnd.databricks.v1+output": {
       "addedWidgets": {},
       "arguments": {},
       "data": "<div class=\"ansiout\">Out[45]: </div>",
       "datasetInfos": [],
       "metadata": {},
       "removedWidgets": [],
       "type": "html"
      }
     },
     "output_type": "display_data"
    },
    {
     "data": {
      "image/png": "[encoded data removed]"
     },
     "metadata": {
      "application/vnd.databricks.v1+output": {
       "addedWidgets": {},
       "arguments": {},
       "data": "/plots/c0b9c983-1bf8-474c-a4c9-01e3028923ce.png",
       "datasetInfos": [],
       "metadata": {},
       "removedWidgets": [],
       "type": "image"
      }
     },
     "output_type": "display_data"
    },
    {
     "data": {
      "text/html": [
       "<style scoped>\n",
       "  .ansiout {\n",
       "    display: block;\n",
       "    unicode-bidi: embed;\n",
       "    white-space: pre-wrap;\n",
       "    word-wrap: break-word;\n",
       "    word-break: break-all;\n",
       "    font-family: \"Source Code Pro\", \"Menlo\", monospace;;\n",
       "    font-size: 13px;\n",
       "    color: #555;\n",
       "    margin-left: 4px;\n",
       "    line-height: 19px;\n",
       "  }\n",
       "</style>\n",
       "<div class=\"ansiout\">Text(0.5, 1.0, &#39;Areas with Highest Crime and Count of Highest Number Crimes&#39;)</div>"
      ]
     },
     "metadata": {
      "application/vnd.databricks.v1+output": {
       "addedWidgets": {},
       "arguments": {},
       "data": "<div class=\"ansiout\">Text(0.5, 1.0, &#39;Areas with Highest Crime and Count of Highest Number Crimes&#39;)</div>",
       "datasetInfos": [],
       "metadata": {},
       "removedWidgets": [],
       "type": "html"
      }
     },
     "output_type": "display_data"
    }
   ],
   "source": [
    "tops_of_tops_dff = pd.DataFrame(named_tops_of_tops.rdd.map(lambda l: l.asDict()).collect() )\n",
    "plt.figure(figsize=(16, 6))\n",
    "ax=sns.barplot(data=tops_of_tops_dff, x='area_name', y='count', hue='primary_type', palette='pastel')\n",
    "ax.set_ylabel('Count of Crimes')\n",
    "ax.set_xlabel('Community')\n",
    "ax.set_title(\"Areas with Highest Crime and Count of Highest Number Crimes\")"
   ]
  },
  {
   "cell_type": "code",
   "execution_count": 0,
   "metadata": {
    "application/vnd.databricks.v1+cell": {
     "inputWidgets": {},
     "nuid": "d176fa3c-7c22-4df5-9101-92c46ff4306f",
     "showTitle": false,
     "title": ""
    }
   },
   "outputs": [
    {
     "data": {
      "text/html": [
       "<style scoped>\n",
       "  .ansiout {\n",
       "    display: block;\n",
       "    unicode-bidi: embed;\n",
       "    white-space: pre-wrap;\n",
       "    word-wrap: break-word;\n",
       "    word-break: break-all;\n",
       "    font-family: \"Source Code Pro\", \"Menlo\", monospace;;\n",
       "    font-size: 13px;\n",
       "    color: #555;\n",
       "    margin-left: 4px;\n",
       "    line-height: 19px;\n",
       "  }\n",
       "</style>\n",
       "<div class=\"ansiout\"></div>"
      ]
     },
     "metadata": {
      "application/vnd.databricks.v1+output": {
       "addedWidgets": {},
       "arguments": {},
       "data": "<div class=\"ansiout\"></div>",
       "datasetInfos": [],
       "metadata": {},
       "removedWidgets": [],
       "type": "html"
      }
     },
     "output_type": "display_data"
    }
   ],
   "source": [
    "#Features to be considered for models\n",
    "selected_features = ['location_description', 'arrest', 'domestic', 'district', 'ward', 'community_area', 'fbi_code', 'hour','week_day','year_month', 'month_day']"
   ]
  },
  {
   "cell_type": "code",
   "execution_count": 0,
   "metadata": {
    "application/vnd.databricks.v1+cell": {
     "inputWidgets": {},
     "nuid": "621044e8-754f-4b09-8101-e905f5841144",
     "showTitle": false,
     "title": ""
    }
   },
   "outputs": [
    {
     "data": {
      "text/html": [
       "<style scoped>\n",
       "  .ansiout {\n",
       "    display: block;\n",
       "    unicode-bidi: embed;\n",
       "    white-space: pre-wrap;\n",
       "    word-wrap: break-word;\n",
       "    word-break: break-all;\n",
       "    font-family: \"Source Code Pro\", \"Menlo\", monospace;;\n",
       "    font-size: 13px;\n",
       "    color: #555;\n",
       "    margin-left: 4px;\n",
       "    line-height: 19px;\n",
       "  }\n",
       "</style>\n",
       "<div class=\"ansiout\">root\n",
       "-- location_description: string (nullable = true)\n",
       "-- arrest: string (nullable = true)\n",
       "-- domestic: string (nullable = true)\n",
       "-- district: string (nullable = true)\n",
       "-- ward: string (nullable = true)\n",
       "-- community_area: string (nullable = true)\n",
       "-- fbi_code: string (nullable = true)\n",
       "-- hour: integer (nullable = true)\n",
       "-- week_day: integer (nullable = true)\n",
       "-- year_month: integer (nullable = true)\n",
       "-- month_day: integer (nullable = true)\n",
       "\n",
       "</div>"
      ]
     },
     "metadata": {
      "application/vnd.databricks.v1+output": {
       "addedWidgets": {},
       "arguments": {},
       "data": "<div class=\"ansiout\">root\n |-- location_description: string (nullable = true)\n |-- arrest: string (nullable = true)\n |-- domestic: string (nullable = true)\n |-- district: string (nullable = true)\n |-- ward: string (nullable = true)\n |-- community_area: string (nullable = true)\n |-- fbi_code: string (nullable = true)\n |-- hour: integer (nullable = true)\n |-- week_day: integer (nullable = true)\n |-- year_month: integer (nullable = true)\n |-- month_day: integer (nullable = true)\n\n</div>",
       "datasetInfos": [],
       "metadata": {},
       "removedWidgets": [],
       "type": "html"
      }
     },
     "output_type": "display_data"
    }
   ],
   "source": [
    "features_df = df_dates.select(selected_features)\n",
    "features_df.printSchema()"
   ]
  },
  {
   "cell_type": "code",
   "execution_count": 0,
   "metadata": {
    "application/vnd.databricks.v1+cell": {
     "inputWidgets": {},
     "nuid": "31cf5508-1faa-4cfb-88dd-90389f4ac06a",
     "showTitle": false,
     "title": ""
    }
   },
   "outputs": [
    {
     "data": {
      "text/html": [
       "<style scoped>\n",
       "  .ansiout {\n",
       "    display: block;\n",
       "    unicode-bidi: embed;\n",
       "    white-space: pre-wrap;\n",
       "    word-wrap: break-word;\n",
       "    word-break: break-all;\n",
       "    font-family: \"Source Code Pro\", \"Menlo\", monospace;;\n",
       "    font-size: 13px;\n",
       "    color: #555;\n",
       "    margin-left: 4px;\n",
       "    line-height: 19px;\n",
       "  }\n",
       "</style>\n",
       "<div class=\"ansiout\">Analysing location_description\n",
       "Analysing arrest\n",
       "Analysing domestic\n",
       "Analysing district\n",
       "Analysing ward\n",
       "Analysing community_area\n",
       "Analysing fbi_code\n",
       "Analysing hour\n",
       "Analysing week_day\n",
       "Analysing year_month\n",
       "Analysing month_day\n",
       "</div>"
      ]
     },
     "metadata": {
      "application/vnd.databricks.v1+output": {
       "addedWidgets": {},
       "arguments": {},
       "data": "<div class=\"ansiout\">Analysing location_description\nAnalysing arrest\nAnalysing domestic\nAnalysing district\nAnalysing ward\nAnalysing community_area\nAnalysing fbi_code\nAnalysing hour\nAnalysing week_day\nAnalysing year_month\nAnalysing month_day\n</div>",
       "datasetInfos": [],
       "metadata": {},
       "removedWidgets": [],
       "type": "html"
      }
     },
     "output_type": "display_data"
    }
   ],
   "source": [
    "feature_level_count_dic = []\n",
    "for feature in selected_features:\n",
    "    print('Analysing', feature)\n",
    "    levels_list_df = features_df.select(feature).distinct()\n",
    "    feature_level_count_dic.append({'feature': feature, 'level_count': levels_list_df.count()})"
   ]
  },
  {
   "cell_type": "code",
   "execution_count": 0,
   "metadata": {
    "application/vnd.databricks.v1+cell": {
     "inputWidgets": {},
     "nuid": "cf010df8-7375-4544-969f-a2b8b56a3f6b",
     "showTitle": false,
     "title": ""
    }
   },
   "outputs": [
    {
     "data": {
      "text/html": [
       "<style scoped>\n",
       "  .ansiout {\n",
       "    display: block;\n",
       "    unicode-bidi: embed;\n",
       "    white-space: pre-wrap;\n",
       "    word-wrap: break-word;\n",
       "    word-break: break-all;\n",
       "    font-family: \"Source Code Pro\", \"Menlo\", monospace;;\n",
       "    font-size: 13px;\n",
       "    color: #555;\n",
       "    margin-left: 4px;\n",
       "    line-height: 19px;\n",
       "  }\n",
       "</style>\n",
       "<div class=\"ansiout\">Out[49]: </div>"
      ]
     },
     "metadata": {
      "application/vnd.databricks.v1+output": {
       "addedWidgets": {},
       "arguments": {},
       "data": "<div class=\"ansiout\">Out[49]: </div>",
       "datasetInfos": [],
       "metadata": {},
       "removedWidgets": [],
       "type": "html"
      }
     },
     "output_type": "display_data"
    },
    {
     "data": {
      "text/html": [
       "<div>\n",
       "<style scoped>\n",
       "    .dataframe tbody tr th:only-of-type {\n",
       "        vertical-align: middle;\n",
       "    }\n",
       "\n",
       "    .dataframe tbody tr th {\n",
       "        vertical-align: top;\n",
       "    }\n",
       "\n",
       "    .dataframe thead th {\n",
       "        text-align: right;\n",
       "    }\n",
       "</style>\n",
       "<table border=\"1\" class=\"dataframe\">\n",
       "  <thead>\n",
       "    <tr style=\"text-align: right;\">\n",
       "      <th></th>\n",
       "      <th>feature</th>\n",
       "      <th>level_count</th>\n",
       "    </tr>\n",
       "  </thead>\n",
       "  <tbody>\n",
       "    <tr>\n",
       "      <th>0</th>\n",
       "      <td>location_description</td>\n",
       "      <td>170</td>\n",
       "    </tr>\n",
       "    <tr>\n",
       "      <th>5</th>\n",
       "      <td>community_area</td>\n",
       "      <td>78</td>\n",
       "    </tr>\n",
       "    <tr>\n",
       "      <th>4</th>\n",
       "      <td>ward</td>\n",
       "      <td>50</td>\n",
       "    </tr>\n",
       "    <tr>\n",
       "      <th>10</th>\n",
       "      <td>month_day</td>\n",
       "      <td>31</td>\n",
       "    </tr>\n",
       "    <tr>\n",
       "      <th>3</th>\n",
       "      <td>district</td>\n",
       "      <td>26</td>\n",
       "    </tr>\n",
       "    <tr>\n",
       "      <th>6</th>\n",
       "      <td>fbi_code</td>\n",
       "      <td>26</td>\n",
       "    </tr>\n",
       "    <tr>\n",
       "      <th>7</th>\n",
       "      <td>hour</td>\n",
       "      <td>24</td>\n",
       "    </tr>\n",
       "    <tr>\n",
       "      <th>9</th>\n",
       "      <td>year_month</td>\n",
       "      <td>12</td>\n",
       "    </tr>\n",
       "    <tr>\n",
       "      <th>8</th>\n",
       "      <td>week_day</td>\n",
       "      <td>7</td>\n",
       "    </tr>\n",
       "    <tr>\n",
       "      <th>1</th>\n",
       "      <td>arrest</td>\n",
       "      <td>2</td>\n",
       "    </tr>\n",
       "    <tr>\n",
       "      <th>2</th>\n",
       "      <td>domestic</td>\n",
       "      <td>2</td>\n",
       "    </tr>\n",
       "  </tbody>\n",
       "</table>\n",
       "</div>"
      ]
     },
     "metadata": {
      "application/vnd.databricks.v1+output": {
       "addedWidgets": {},
       "arguments": {},
       "data": "<div>\n<style scoped>\n    .dataframe tbody tr th:only-of-type {\n        vertical-align: middle;\n    }\n\n    .dataframe tbody tr th {\n        vertical-align: top;\n    }\n\n    .dataframe thead th {\n        text-align: right;\n    }\n</style>\n<table border=\"1\" class=\"dataframe\">\n  <thead>\n    <tr style=\"text-align: right;\">\n      <th></th>\n      <th>feature</th>\n      <th>level_count</th>\n    </tr>\n  </thead>\n  <tbody>\n    <tr>\n      <th>0</th>\n      <td>location_description</td>\n      <td>170</td>\n    </tr>\n    <tr>\n      <th>5</th>\n      <td>community_area</td>\n      <td>78</td>\n    </tr>\n    <tr>\n      <th>4</th>\n      <td>ward</td>\n      <td>50</td>\n    </tr>\n    <tr>\n      <th>10</th>\n      <td>month_day</td>\n      <td>31</td>\n    </tr>\n    <tr>\n      <th>3</th>\n      <td>district</td>\n      <td>26</td>\n    </tr>\n    <tr>\n      <th>6</th>\n      <td>fbi_code</td>\n      <td>26</td>\n    </tr>\n    <tr>\n      <th>7</th>\n      <td>hour</td>\n      <td>24</td>\n    </tr>\n    <tr>\n      <th>9</th>\n      <td>year_month</td>\n      <td>12</td>\n    </tr>\n    <tr>\n      <th>8</th>\n      <td>week_day</td>\n      <td>7</td>\n    </tr>\n    <tr>\n      <th>1</th>\n      <td>arrest</td>\n      <td>2</td>\n    </tr>\n    <tr>\n      <th>2</th>\n      <td>domestic</td>\n      <td>2</td>\n    </tr>\n  </tbody>\n</table>\n</div>",
       "datasetInfos": [],
       "metadata": {},
       "removedWidgets": [],
       "textData": null,
       "type": "htmlSandbox"
      }
     },
     "output_type": "display_data"
    }
   ],
   "source": [
    "pd.DataFrame(feature_level_count_dic).sort_values(by='level_count', ascending=False)"
   ]
  },
  {
   "cell_type": "markdown",
   "metadata": {
    "application/vnd.databricks.v1+cell": {
     "inputWidgets": {},
     "nuid": "f6e8dcdf-4868-4def-b3ec-96dfc75491f7",
     "showTitle": false,
     "title": ""
    }
   },
   "source": [
    "### Preparing for Models"
   ]
  },
  {
   "cell_type": "code",
   "execution_count": 0,
   "metadata": {
    "application/vnd.databricks.v1+cell": {
     "inputWidgets": {},
     "nuid": "06179677-01f8-4777-8226-faec9ed41131",
     "showTitle": false,
     "title": ""
    }
   },
   "outputs": [
    {
     "data": {
      "text/html": [
       "<style scoped>\n",
       "  .ansiout {\n",
       "    display: block;\n",
       "    unicode-bidi: embed;\n",
       "    white-space: pre-wrap;\n",
       "    word-wrap: break-word;\n",
       "    word-break: break-all;\n",
       "    font-family: \"Source Code Pro\", \"Menlo\", monospace;;\n",
       "    font-size: 13px;\n",
       "    color: #555;\n",
       "    margin-left: 4px;\n",
       "    line-height: 19px;\n",
       "  }\n",
       "</style>\n",
       "<div class=\"ansiout\">Fitting feature: location_description\n",
       "Transforming: location_description\n",
       "Fitting feature: arrest\n",
       "Transforming: arrest\n",
       "Fitting feature: domestic\n",
       "Transforming: domestic\n",
       "Fitting feature: district\n",
       "Transforming: district\n",
       "Fitting feature: ward\n",
       "Transforming: ward\n",
       "Fitting feature: community_area\n",
       "Transforming: community_area\n",
       "Fitting feature: fbi_code\n",
       "Transforming: fbi_code\n",
       "Fitting feature: hour\n",
       "Transforming: hour\n",
       "Fitting feature: week_day\n",
       "Transforming: week_day\n",
       "Fitting feature: year_month\n",
       "Transforming: year_month\n",
       "Fitting feature: month_day\n",
       "Transforming: month_day\n",
       "</div>"
      ]
     },
     "metadata": {
      "application/vnd.databricks.v1+output": {
       "addedWidgets": {},
       "arguments": {},
       "data": "<div class=\"ansiout\">Fitting feature: location_description\nTransforming: location_description\nFitting feature: arrest\nTransforming: arrest\nFitting feature: domestic\nTransforming: domestic\nFitting feature: district\nTransforming: district\nFitting feature: ward\nTransforming: ward\nFitting feature: community_area\nTransforming: community_area\nFitting feature: fbi_code\nTransforming: fbi_code\nFitting feature: hour\nTransforming: hour\nFitting feature: week_day\nTransforming: week_day\nFitting feature: year_month\nTransforming: year_month\nFitting feature: month_day\nTransforming: month_day\n</div>",
       "datasetInfos": [],
       "metadata": {},
       "removedWidgets": [],
       "type": "html"
      }
     },
     "output_type": "display_data"
    }
   ],
   "source": [
    "df_dates_features = df_dates.na.drop(subset=selected_features)\n",
    "\n",
    "#Use string indexer of spark to index selected features\n",
    "for feature in feature_level_count_dic:\n",
    "    indexer = StringIndexer(inputCol=feature['feature'], outputCol='%s_indexed' % feature['feature'])\n",
    "    print('Fitting feature:',feature['feature'])\n",
    "    model = indexer.fit(df_dates_features)\n",
    "    print('Transforming:', feature['feature'])\n",
    "    df_dates_features = model.transform(df_dates_features)\n",
    "\n",
    "#String indexing of labels\n",
    "response_indexer = StringIndexer(inputCol='primary_type', outputCol='primary_type_indexed')\n",
    "response_model = response_indexer.fit(df_dates_features)\n",
    "df_dates_features = response_model.transform(df_dates_features)    "
   ]
  },
  {
   "cell_type": "code",
   "execution_count": 0,
   "metadata": {
    "application/vnd.databricks.v1+cell": {
     "inputWidgets": {},
     "nuid": "d2d4c306-e083-435d-ab45-7b8b1d343ea9",
     "showTitle": false,
     "title": ""
    }
   },
   "outputs": [
    {
     "data": {
      "text/html": [
       "<style scoped>\n",
       "  .ansiout {\n",
       "    display: block;\n",
       "    unicode-bidi: embed;\n",
       "    white-space: pre-wrap;\n",
       "    word-wrap: break-word;\n",
       "    word-break: break-all;\n",
       "    font-family: \"Source Code Pro\", \"Menlo\", monospace;;\n",
       "    font-size: 13px;\n",
       "    color: #555;\n",
       "    margin-left: 4px;\n",
       "    line-height: 19px;\n",
       "  }\n",
       "</style>\n",
       "<div class=\"ansiout\">Out[51]: [&#39;location_description_indexed&#39;,\n",
       " &#39;arrest_indexed&#39;,\n",
       " &#39;domestic_indexed&#39;,\n",
       " &#39;district_indexed&#39;,\n",
       " &#39;ward_indexed&#39;,\n",
       " &#39;community_area_indexed&#39;,\n",
       " &#39;fbi_code_indexed&#39;,\n",
       " &#39;hour_indexed&#39;,\n",
       " &#39;week_day_indexed&#39;,\n",
       " &#39;year_month_indexed&#39;,\n",
       " &#39;month_day_indexed&#39;]</div>"
      ]
     },
     "metadata": {
      "application/vnd.databricks.v1+output": {
       "addedWidgets": {},
       "arguments": {},
       "data": "<div class=\"ansiout\">Out[51]: [&#39;location_description_indexed&#39;,\n &#39;arrest_indexed&#39;,\n &#39;domestic_indexed&#39;,\n &#39;district_indexed&#39;,\n &#39;ward_indexed&#39;,\n &#39;community_area_indexed&#39;,\n &#39;fbi_code_indexed&#39;,\n &#39;hour_indexed&#39;,\n &#39;week_day_indexed&#39;,\n &#39;year_month_indexed&#39;,\n &#39;month_day_indexed&#39;]</div>",
       "datasetInfos": [],
       "metadata": {},
       "removedWidgets": [],
       "type": "html"
      }
     },
     "output_type": "display_data"
    }
   ],
   "source": [
    "#Vectorize features using vector assembler which vectorizes all predictors into features column\n",
    "indexed_features = ['%s_indexed' % fc['feature'] for fc in feature_level_count_dic]\n",
    "indexed_features"
   ]
  },
  {
   "cell_type": "code",
   "execution_count": 0,
   "metadata": {
    "application/vnd.databricks.v1+cell": {
     "inputWidgets": {},
     "nuid": "cc40ac97-71b0-48c5-951c-4ebec6879a35",
     "showTitle": false,
     "title": ""
    }
   },
   "outputs": [
    {
     "data": {
      "text/html": [
       "<style scoped>\n",
       "  .ansiout {\n",
       "    display: block;\n",
       "    unicode-bidi: embed;\n",
       "    white-space: pre-wrap;\n",
       "    word-wrap: break-word;\n",
       "    word-break: break-all;\n",
       "    font-family: \"Source Code Pro\", \"Menlo\", monospace;;\n",
       "    font-size: 13px;\n",
       "    color: #555;\n",
       "    margin-left: 4px;\n",
       "    line-height: 19px;\n",
       "  }\n",
       "</style>\n",
       "<div class=\"ansiout\"></div>"
      ]
     },
     "metadata": {
      "application/vnd.databricks.v1+output": {
       "addedWidgets": {},
       "arguments": {},
       "data": "<div class=\"ansiout\"></div>",
       "datasetInfos": [],
       "metadata": {},
       "removedWidgets": [],
       "type": "html"
      }
     },
     "output_type": "display_data"
    }
   ],
   "source": [
    "assembler = VectorAssembler(inputCols=indexed_features, outputCol='features')\n",
    "vectorized_df_dates = assembler.transform(df_dates_features)\n",
    "\n",
    "#Split dataset into 80/20\n",
    "train, test = vectorized_df_dates.randomSplit([0.8, 0.2])"
   ]
  },
  {
   "cell_type": "markdown",
   "metadata": {
    "application/vnd.databricks.v1+cell": {
     "inputWidgets": {},
     "nuid": "7e956fc1-5f5b-4000-8e98-c4636e524965",
     "showTitle": false,
     "title": ""
    }
   },
   "source": [
    "## Multinomial Logistic Regression:"
   ]
  },
  {
   "cell_type": "code",
   "execution_count": 0,
   "metadata": {
    "application/vnd.databricks.v1+cell": {
     "inputWidgets": {},
     "nuid": "826a987d-7629-4b8d-9603-888e2c5bd996",
     "showTitle": false,
     "title": ""
    }
   },
   "outputs": [
    {
     "data": {
      "text/html": [
       "<style scoped>\n",
       "  .ansiout {\n",
       "    display: block;\n",
       "    unicode-bidi: embed;\n",
       "    white-space: pre-wrap;\n",
       "    word-wrap: break-word;\n",
       "    word-break: break-all;\n",
       "    font-family: \"Source Code Pro\", \"Menlo\", monospace;;\n",
       "    font-size: 13px;\n",
       "    color: #555;\n",
       "    margin-left: 4px;\n",
       "    line-height: 19px;\n",
       "  }\n",
       "</style>\n",
       "<div class=\"ansiout\"></div>"
      ]
     },
     "metadata": {
      "application/vnd.databricks.v1+output": {
       "addedWidgets": {},
       "arguments": {},
       "data": "<div class=\"ansiout\"></div>",
       "datasetInfos": [],
       "metadata": {},
       "removedWidgets": [],
       "type": "html"
      }
     },
     "output_type": "display_data"
    }
   ],
   "source": [
    "logisticRegression = LogisticRegression(labelCol='primary_type_indexed', featuresCol='features', maxIter=12, family='multinomial')\n",
    "logModel = logisticRegression.fit(train)\n",
    "model_summary = logModel.summary"
   ]
  },
  {
   "cell_type": "code",
   "execution_count": 0,
   "metadata": {
    "application/vnd.databricks.v1+cell": {
     "inputWidgets": {},
     "nuid": "01da043b-a8c1-4e5d-b7f1-00a3ca3f1ccc",
     "showTitle": false,
     "title": ""
    }
   },
   "outputs": [
    {
     "data": {
      "text/html": [
       "<style scoped>\n",
       "  .ansiout {\n",
       "    display: block;\n",
       "    unicode-bidi: embed;\n",
       "    white-space: pre-wrap;\n",
       "    word-wrap: break-word;\n",
       "    word-break: break-all;\n",
       "    font-family: \"Source Code Pro\", \"Menlo\", monospace;;\n",
       "    font-size: 13px;\n",
       "    color: #555;\n",
       "    margin-left: 4px;\n",
       "    line-height: 19px;\n",
       "  }\n",
       "</style>\n",
       "<div class=\"ansiout\">+------------------------------+--------------------------+------------------------------+--------------------+----------+\n",
       "                   description|              primary_type|                   probability|primary_type_indexed|prediction|\n",
       "+------------------------------+--------------------------+------------------------------+--------------------+----------+\n",
       "       HARASSMENT BY TELEPHONE|             OTHER OFFENSE|[9.767629816078235E-5,0.228...|                 4.0|       4.0|\n",
       "       OTHER WEAPONS VIOLATION|             OTHER OFFENSE|[0.021755020165554927,0.269...|                 4.0|       1.0|\n",
       " FINANCIAL ID THEFT: OVER $300|                     THEFT|[0.7411000651799337,0.12367...|                 0.0|       0.0|\n",
       " FINANCIAL ID THEFT: OVER $300|                     THEFT|[0.559933007910419,0.129082...|                 0.0|       0.0|\n",
       " FINANCIAL ID THEFT: OVER $300|                     THEFT|[0.6641855706771387,0.11711...|                 0.0|       0.0|\n",
       "AGG SEX ASSLT OF CHILD FAM MBR|OFFENSE INVOLVING CHILDREN|[6.294308921623105E-13,6.46...|                14.0|      11.0|\n",
       " FINANCIAL ID THEFT: OVER $300|                     THEFT|[0.633031826030143,0.114662...|                 0.0|       0.0|\n",
       "                     OVER $500|                     THEFT|[0.544329916863998,0.207410...|                 0.0|       0.0|\n",
       "       AGG: FINANCIAL ID THEFT|                     THEFT|[0.6515218320153991,0.12233...|                 0.0|       0.0|\n",
       "                NON-AGGRAVATED|       CRIM SEXUAL ASSAULT|[6.162643717033992E-13,2.52...|                15.0|       9.0|\n",
       " FINANCIAL ID THEFT: OVER $300|                     THEFT|[0.7631482036563787,0.08501...|                 0.0|       0.0|\n",
       " FINANCIAL ID THEFT: OVER $300|                     THEFT|[0.715046418150903,0.129685...|                 0.0|       0.0|\n",
       " FINANCIAL ID THEFT: OVER $300|                     THEFT|[0.591516420303352,0.132727...|                 0.0|       0.0|\n",
       "                  EMBEZZLEMENT|        DECEPTIVE PRACTICE|[5.744111360295109E-18,2.72...|                 9.0|       9.0|\n",
       "FINANCIAL ID THEFT:$300 &amp;UNDER|                     THEFT|[0.7050462201856192,0.12131...|                 0.0|       0.0|\n",
       "       AGG: FINANCIAL ID THEFT|                     THEFT|[0.028740959334985338,0.648...|                 0.0|       1.0|\n",
       " FINANCIAL ID THEFT: OVER $300|                     THEFT|[0.6559344140097587,0.11634...|                 0.0|       0.0|\n",
       "                       FORGERY|        DECEPTIVE PRACTICE|[6.897218273507652E-10,9.28...|                 9.0|       8.0|\n",
       " FINANCIAL ID THEFT: OVER $300|                     THEFT|[0.745699846626344,0.087845...|                 0.0|       0.0|\n",
       " FINANCIAL ID THEFT: OVER $300|                     THEFT|[0.7670426325263463,0.07544...|                 0.0|       0.0|\n",
       "FINANCIAL ID THEFT:$300 &amp;UNDER|                     THEFT|[0.6495701101109975,0.13070...|                 0.0|       0.0|\n",
       "       HARASSMENT BY TELEPHONE|             OTHER OFFENSE|[0.022068707503059413,0.305...|                 4.0|       1.0|\n",
       " SEX ASSLT OF CHILD BY FAM MBR|OFFENSE INVOLVING CHILDREN|[2.6563495702620253E-14,1.1...|                14.0|       5.0|\n",
       " FINANCIAL ID THEFT: OVER $300|                     THEFT|[0.6679788501157148,0.12400...|                 0.0|       0.0|\n",
       "                       FORGERY|        DECEPTIVE PRACTICE|[2.6261373062253505E-10,4.8...|                 9.0|       9.0|\n",
       " FINANCIAL ID THEFT: OVER $300|                     THEFT|[0.72441913251631,0.0934019...|                 0.0|       0.0|\n",
       "FINANCIAL ID THEFT:$300 &amp;UNDER|                     THEFT|[0.6182946126169461,0.14465...|                 0.0|       0.0|\n",
       "FINANCIAL ID THEFT:$300 &amp;UNDER|                     THEFT|[0.6764221206798174,0.10278...|                 0.0|       0.0|\n",
       "                $500 AND UNDER|                     THEFT|[0.587147487551934,0.168797...|                 0.0|       0.0|\n",
       " SEX ASSLT OF CHILD BY FAM MBR|OFFENSE INVOLVING CHILDREN|[4.067826929026914E-13,1.77...|                14.0|       9.0|\n",
       "FINANCIAL ID THEFT:$300 &amp;UNDER|                     THEFT|[0.5285299151258935,0.16822...|                 0.0|       0.0|\n",
       "FINANCIAL ID THEFT:$300 &amp;UNDER|                     THEFT|[0.6929918864675121,0.12119...|                 0.0|       0.0|\n",
       " FINANCIAL ID THEFT: OVER $300|                     THEFT|[0.6859733280877393,0.12703...|                 0.0|       0.0|\n",
       "                     OVER $500|                     THEFT|[0.29453418836623013,0.1778...|                 0.0|       3.0|\n",
       " FINANCIAL ID THEFT: OVER $300|                     THEFT|[0.7801095972475611,0.10226...|                 0.0|       0.0|\n",
       "       HARASSMENT BY TELEPHONE|             OTHER OFFENSE|[3.2682308072811133E-4,0.47...|                 4.0|       1.0|\n",
       " FINANCIAL ID THEFT: OVER $300|                     THEFT|[0.6918548352770318,0.11710...|                 0.0|       0.0|\n",
       "                     PREDATORY|       CRIM SEXUAL ASSAULT|[1.2315047941300082E-12,4.1...|                15.0|       9.0|\n",
       "                     OVER $500|                     THEFT|[0.16663466050988487,0.0906...|                 0.0|       3.0|\n",
       "FINANCIAL ID THEFT:$300 &amp;UNDER|                     THEFT|[0.027604926518935535,0.643...|                 0.0|       1.0|\n",
       " FINANCIAL ID THEFT: OVER $300|                     THEFT|[0.5874856096843372,0.15613...|                 0.0|       0.0|\n",
       " FINANCIAL ID THEFT: OVER $300|                     THEFT|[0.7087682268129175,0.10504...|                 0.0|       0.0|\n",
       " FINANCIAL ID THEFT: OVER $300|                     THEFT|[0.7423201214084743,0.09549...|                 0.0|       0.0|\n",
       " AGG CRIM SEX ABUSE FAM MEMBER|OFFENSE INVOLVING CHILDREN|[2.0594202470622965E-13,1.8...|                14.0|       9.0|\n",
       "FINANCIAL ID THEFT:$300 &amp;UNDER|                     THEFT|[0.7739670359402598,0.10968...|                 0.0|       0.0|\n",
       " FINANCIAL ID THEFT: OVER $300|                     THEFT|[0.7521985460874614,0.11375...|                 0.0|       0.0|\n",
       " FINANCIAL ID THEFT: OVER $300|                     THEFT|[0.7303599287071907,0.10341...|                 0.0|       0.0|\n",
       " FINANCIAL ID THEFT: OVER $300|                     THEFT|[0.7197283842874902,0.09773...|                 0.0|       0.0|\n",
       " FINANCIAL ID THEFT: OVER $300|                     THEFT|[0.8250371676519777,0.06819...|                 0.0|       0.0|\n",
       "      FRAUD OR CONFIDENCE GAME|        DECEPTIVE PRACTICE|[7.994692634218475E-7,0.010...|                 9.0|       3.0|\n",
       "+------------------------------+--------------------------+------------------------------+--------------------+----------+\n",
       "only showing top 50 rows\n",
       "\n",
       "</div>"
      ]
     },
     "metadata": {
      "application/vnd.databricks.v1+output": {
       "addedWidgets": {},
       "arguments": {},
       "data": "<div class=\"ansiout\">+------------------------------+--------------------------+------------------------------+--------------------+----------+\n|                   description|              primary_type|                   probability|primary_type_indexed|prediction|\n+------------------------------+--------------------------+------------------------------+--------------------+----------+\n|       HARASSMENT BY TELEPHONE|             OTHER OFFENSE|[9.767629816078235E-5,0.228...|                 4.0|       4.0|\n|       OTHER WEAPONS VIOLATION|             OTHER OFFENSE|[0.021755020165554927,0.269...|                 4.0|       1.0|\n| FINANCIAL ID THEFT: OVER $300|                     THEFT|[0.7411000651799337,0.12367...|                 0.0|       0.0|\n| FINANCIAL ID THEFT: OVER $300|                     THEFT|[0.559933007910419,0.129082...|                 0.0|       0.0|\n| FINANCIAL ID THEFT: OVER $300|                     THEFT|[0.6641855706771387,0.11711...|                 0.0|       0.0|\n|AGG SEX ASSLT OF CHILD FAM MBR|OFFENSE INVOLVING CHILDREN|[6.294308921623105E-13,6.46...|                14.0|      11.0|\n| FINANCIAL ID THEFT: OVER $300|                     THEFT|[0.633031826030143,0.114662...|                 0.0|       0.0|\n|                     OVER $500|                     THEFT|[0.544329916863998,0.207410...|                 0.0|       0.0|\n|       AGG: FINANCIAL ID THEFT|                     THEFT|[0.6515218320153991,0.12233...|                 0.0|       0.0|\n|                NON-AGGRAVATED|       CRIM SEXUAL ASSAULT|[6.162643717033992E-13,2.52...|                15.0|       9.0|\n| FINANCIAL ID THEFT: OVER $300|                     THEFT|[0.7631482036563787,0.08501...|                 0.0|       0.0|\n| FINANCIAL ID THEFT: OVER $300|                     THEFT|[0.715046418150903,0.129685...|                 0.0|       0.0|\n| FINANCIAL ID THEFT: OVER $300|                     THEFT|[0.591516420303352,0.132727...|                 0.0|       0.0|\n|                  EMBEZZLEMENT|        DECEPTIVE PRACTICE|[5.744111360295109E-18,2.72...|                 9.0|       9.0|\n|FINANCIAL ID THEFT:$300 &amp;UNDER|                     THEFT|[0.7050462201856192,0.12131...|                 0.0|       0.0|\n|       AGG: FINANCIAL ID THEFT|                     THEFT|[0.028740959334985338,0.648...|                 0.0|       1.0|\n| FINANCIAL ID THEFT: OVER $300|                     THEFT|[0.6559344140097587,0.11634...|                 0.0|       0.0|\n|                       FORGERY|        DECEPTIVE PRACTICE|[6.897218273507652E-10,9.28...|                 9.0|       8.0|\n| FINANCIAL ID THEFT: OVER $300|                     THEFT|[0.745699846626344,0.087845...|                 0.0|       0.0|\n| FINANCIAL ID THEFT: OVER $300|                     THEFT|[0.7670426325263463,0.07544...|                 0.0|       0.0|\n|FINANCIAL ID THEFT:$300 &amp;UNDER|                     THEFT|[0.6495701101109975,0.13070...|                 0.0|       0.0|\n|       HARASSMENT BY TELEPHONE|             OTHER OFFENSE|[0.022068707503059413,0.305...|                 4.0|       1.0|\n| SEX ASSLT OF CHILD BY FAM MBR|OFFENSE INVOLVING CHILDREN|[2.6563495702620253E-14,1.1...|                14.0|       5.0|\n| FINANCIAL ID THEFT: OVER $300|                     THEFT|[0.6679788501157148,0.12400...|                 0.0|       0.0|\n|                       FORGERY|        DECEPTIVE PRACTICE|[2.6261373062253505E-10,4.8...|                 9.0|       9.0|\n| FINANCIAL ID THEFT: OVER $300|                     THEFT|[0.72441913251631,0.0934019...|                 0.0|       0.0|\n|FINANCIAL ID THEFT:$300 &amp;UNDER|                     THEFT|[0.6182946126169461,0.14465...|                 0.0|       0.0|\n|FINANCIAL ID THEFT:$300 &amp;UNDER|                     THEFT|[0.6764221206798174,0.10278...|                 0.0|       0.0|\n|                $500 AND UNDER|                     THEFT|[0.587147487551934,0.168797...|                 0.0|       0.0|\n| SEX ASSLT OF CHILD BY FAM MBR|OFFENSE INVOLVING CHILDREN|[4.067826929026914E-13,1.77...|                14.0|       9.0|\n|FINANCIAL ID THEFT:$300 &amp;UNDER|                     THEFT|[0.5285299151258935,0.16822...|                 0.0|       0.0|\n|FINANCIAL ID THEFT:$300 &amp;UNDER|                     THEFT|[0.6929918864675121,0.12119...|                 0.0|       0.0|\n| FINANCIAL ID THEFT: OVER $300|                     THEFT|[0.6859733280877393,0.12703...|                 0.0|       0.0|\n|                     OVER $500|                     THEFT|[0.29453418836623013,0.1778...|                 0.0|       3.0|\n| FINANCIAL ID THEFT: OVER $300|                     THEFT|[0.7801095972475611,0.10226...|                 0.0|       0.0|\n|       HARASSMENT BY TELEPHONE|             OTHER OFFENSE|[3.2682308072811133E-4,0.47...|                 4.0|       1.0|\n| FINANCIAL ID THEFT: OVER $300|                     THEFT|[0.6918548352770318,0.11710...|                 0.0|       0.0|\n|                     PREDATORY|       CRIM SEXUAL ASSAULT|[1.2315047941300082E-12,4.1...|                15.0|       9.0|\n|                     OVER $500|                     THEFT|[0.16663466050988487,0.0906...|                 0.0|       3.0|\n|FINANCIAL ID THEFT:$300 &amp;UNDER|                     THEFT|[0.027604926518935535,0.643...|                 0.0|       1.0|\n| FINANCIAL ID THEFT: OVER $300|                     THEFT|[0.5874856096843372,0.15613...|                 0.0|       0.0|\n| FINANCIAL ID THEFT: OVER $300|                     THEFT|[0.7087682268129175,0.10504...|                 0.0|       0.0|\n| FINANCIAL ID THEFT: OVER $300|                     THEFT|[0.7423201214084743,0.09549...|                 0.0|       0.0|\n| AGG CRIM SEX ABUSE FAM MEMBER|OFFENSE INVOLVING CHILDREN|[2.0594202470622965E-13,1.8...|                14.0|       9.0|\n|FINANCIAL ID THEFT:$300 &amp;UNDER|                     THEFT|[0.7739670359402598,0.10968...|                 0.0|       0.0|\n| FINANCIAL ID THEFT: OVER $300|                     THEFT|[0.7521985460874614,0.11375...|                 0.0|       0.0|\n| FINANCIAL ID THEFT: OVER $300|                     THEFT|[0.7303599287071907,0.10341...|                 0.0|       0.0|\n| FINANCIAL ID THEFT: OVER $300|                     THEFT|[0.7197283842874902,0.09773...|                 0.0|       0.0|\n| FINANCIAL ID THEFT: OVER $300|                     THEFT|[0.8250371676519777,0.06819...|                 0.0|       0.0|\n|      FRAUD OR CONFIDENCE GAME|        DECEPTIVE PRACTICE|[7.994692634218475E-7,0.010...|                 9.0|       3.0|\n+------------------------------+--------------------------+------------------------------+--------------------+----------+\nonly showing top 50 rows\n\n</div>",
       "datasetInfos": [],
       "metadata": {},
       "removedWidgets": [],
       "type": "html"
      }
     },
     "output_type": "display_data"
    }
   ],
   "source": [
    "mlrpredictions = logModel.transform(test)\n",
    "mlrpredictions.select(\"description\",\"primary_type\",\"probability\",\"primary_type_indexed\",\"prediction\").show(n = 50, truncate = 30)"
   ]
  },
  {
   "cell_type": "code",
   "execution_count": 0,
   "metadata": {
    "application/vnd.databricks.v1+cell": {
     "inputWidgets": {},
     "nuid": "b0d622f3-ab68-4929-a8c4-600a82a4f4db",
     "showTitle": false,
     "title": ""
    }
   },
   "outputs": [
    {
     "data": {
      "text/html": [
       "<style scoped>\n",
       "  .ansiout {\n",
       "    display: block;\n",
       "    unicode-bidi: embed;\n",
       "    white-space: pre-wrap;\n",
       "    word-wrap: break-word;\n",
       "    word-break: break-all;\n",
       "    font-family: \"Source Code Pro\", \"Menlo\", monospace;;\n",
       "    font-size: 13px;\n",
       "    color: #555;\n",
       "    margin-left: 4px;\n",
       "    line-height: 19px;\n",
       "  }\n",
       "</style>\n",
       "<div class=\"ansiout\">Out[55]: 0.48625192708126963</div>"
      ]
     },
     "metadata": {
      "application/vnd.databricks.v1+output": {
       "addedWidgets": {},
       "arguments": {},
       "data": "<div class=\"ansiout\">Out[55]: 0.48625192708126963</div>",
       "datasetInfos": [],
       "metadata": {},
       "removedWidgets": [],
       "type": "html"
      }
     },
     "output_type": "display_data"
    }
   ],
   "source": [
    "mlrevaluator = MulticlassClassificationEvaluator(labelCol=\"primary_type_indexed\", predictionCol=\"prediction\")\n",
    "mlrevaluator.evaluate(mlrpredictions)"
   ]
  },
  {
   "cell_type": "code",
   "execution_count": 0,
   "metadata": {
    "application/vnd.databricks.v1+cell": {
     "inputWidgets": {},
     "nuid": "64e21641-8f27-471c-b5db-fedf7ea4f44e",
     "showTitle": false,
     "title": ""
    }
   },
   "outputs": [
    {
     "data": {
      "text/html": [
       "<style scoped>\n",
       "  .ansiout {\n",
       "    display: block;\n",
       "    unicode-bidi: embed;\n",
       "    white-space: pre-wrap;\n",
       "    word-wrap: break-word;\n",
       "    word-break: break-all;\n",
       "    font-family: \"Source Code Pro\", \"Menlo\", monospace;;\n",
       "    font-size: 13px;\n",
       "    color: #555;\n",
       "    margin-left: 4px;\n",
       "    line-height: 19px;\n",
       "  }\n",
       "</style>\n",
       "<div class=\"ansiout\"></div>"
      ]
     },
     "metadata": {
      "application/vnd.databricks.v1+output": {
       "addedWidgets": {},
       "arguments": {},
       "data": "<div class=\"ansiout\"></div>",
       "datasetInfos": [],
       "metadata": {},
       "removedWidgets": [],
       "type": "html"
      }
     },
     "output_type": "display_data"
    }
   ],
   "source": [
    "def evalRates(model_summary,label_stats):\n",
    "  for i, rate in enumerate(model_summary.falsePositiveRateByLabel):\n",
    "      label_stats[i]['false_positive_rate'] = rate\n",
    "\n",
    "  for i, rate in enumerate(model_summary.truePositiveRateByLabel):\n",
    "      label_stats[i]['true_positive_rate'] = rate\n",
    "\n",
    "  for i, rate in enumerate(model_summary.precisionByLabel):\n",
    "      label_stats[i]['precision_rate'] = rate\n",
    "\n",
    "  for i, rate in enumerate(model_summary.recallByLabel):\n",
    "      label_stats[i]['recall_rate'] = rate\n",
    "\n",
    "  for i, rate in enumerate(model_summary.fMeasureByLabel()):\n",
    "      label_stats[i]['f_measure'] = rate\n",
    "  return label_stats\n",
    "\n",
    "label_stats = {float(i):{'index': float(i)} for i in range(34)}\n",
    "label_stats=evalRates(model_summary,label_stats)"
   ]
  },
  {
   "cell_type": "code",
   "execution_count": 0,
   "metadata": {
    "application/vnd.databricks.v1+cell": {
     "inputWidgets": {},
     "nuid": "2c78d0cc-8e13-4e53-b3b1-81333cce6ac7",
     "showTitle": false,
     "title": ""
    }
   },
   "outputs": [
    {
     "data": {
      "text/html": [
       "<style scoped>\n",
       "  .ansiout {\n",
       "    display: block;\n",
       "    unicode-bidi: embed;\n",
       "    white-space: pre-wrap;\n",
       "    word-wrap: break-word;\n",
       "    word-break: break-all;\n",
       "    font-family: \"Source Code Pro\", \"Menlo\", monospace;;\n",
       "    font-size: 13px;\n",
       "    color: #555;\n",
       "    margin-left: 4px;\n",
       "    line-height: 19px;\n",
       "  }\n",
       "</style>\n",
       "<div class=\"ansiout\">Out[57]: </div>"
      ]
     },
     "metadata": {
      "application/vnd.databricks.v1+output": {
       "addedWidgets": {},
       "arguments": {},
       "data": "<div class=\"ansiout\">Out[57]: </div>",
       "datasetInfos": [],
       "metadata": {},
       "removedWidgets": [],
       "type": "html"
      }
     },
     "output_type": "display_data"
    },
    {
     "data": {
      "text/html": [
       "<div>\n",
       "<style scoped>\n",
       "    .dataframe tbody tr th:only-of-type {\n",
       "        vertical-align: middle;\n",
       "    }\n",
       "\n",
       "    .dataframe tbody tr th {\n",
       "        vertical-align: top;\n",
       "    }\n",
       "\n",
       "    .dataframe thead th {\n",
       "        text-align: right;\n",
       "    }\n",
       "</style>\n",
       "<table border=\"1\" class=\"dataframe\">\n",
       "  <thead>\n",
       "    <tr style=\"text-align: right;\">\n",
       "      <th></th>\n",
       "      <th>index</th>\n",
       "      <th>false_positive_rate</th>\n",
       "      <th>true_positive_rate</th>\n",
       "      <th>precision_rate</th>\n",
       "      <th>recall_rate</th>\n",
       "      <th>f_measure</th>\n",
       "      <th>primary_type</th>\n",
       "    </tr>\n",
       "  </thead>\n",
       "  <tbody>\n",
       "    <tr>\n",
       "      <th>4</th>\n",
       "      <td>4.0</td>\n",
       "      <td>0.003447</td>\n",
       "      <td>0.129516</td>\n",
       "      <td>0.712086</td>\n",
       "      <td>0.129516</td>\n",
       "      <td>0.219169</td>\n",
       "      <td>OTHER OFFENSE</td>\n",
       "    </tr>\n",
       "    <tr>\n",
       "      <th>0</th>\n",
       "      <td>0.0</td>\n",
       "      <td>0.106720</td>\n",
       "      <td>0.927587</td>\n",
       "      <td>0.693473</td>\n",
       "      <td>0.927587</td>\n",
       "      <td>0.793625</td>\n",
       "      <td>THEFT</td>\n",
       "    </tr>\n",
       "    <tr>\n",
       "      <th>2</th>\n",
       "      <td>2.0</td>\n",
       "      <td>0.027806</td>\n",
       "      <td>0.429602</td>\n",
       "      <td>0.671533</td>\n",
       "      <td>0.429602</td>\n",
       "      <td>0.523990</td>\n",
       "      <td>CRIMINAL DAMAGE</td>\n",
       "    </tr>\n",
       "    <tr>\n",
       "      <th>3</th>\n",
       "      <td>3.0</td>\n",
       "      <td>0.068644</td>\n",
       "      <td>0.867071</td>\n",
       "      <td>0.612793</td>\n",
       "      <td>0.867071</td>\n",
       "      <td>0.718086</td>\n",
       "      <td>NARCOTICS</td>\n",
       "    </tr>\n",
       "    <tr>\n",
       "      <th>11</th>\n",
       "      <td>11.0</td>\n",
       "      <td>0.008854</td>\n",
       "      <td>0.593578</td>\n",
       "      <td>0.421707</td>\n",
       "      <td>0.593578</td>\n",
       "      <td>0.493095</td>\n",
       "      <td>PROSTITUTION</td>\n",
       "    </tr>\n",
       "    <tr>\n",
       "      <th>1</th>\n",
       "      <td>1.0</td>\n",
       "      <td>0.134292</td>\n",
       "      <td>0.407161</td>\n",
       "      <td>0.402422</td>\n",
       "      <td>0.407161</td>\n",
       "      <td>0.404777</td>\n",
       "      <td>BATTERY</td>\n",
       "    </tr>\n",
       "    <tr>\n",
       "      <th>7</th>\n",
       "      <td>7.0</td>\n",
       "      <td>0.029441</td>\n",
       "      <td>0.398895</td>\n",
       "      <td>0.395609</td>\n",
       "      <td>0.398895</td>\n",
       "      <td>0.397246</td>\n",
       "      <td>MOTOR VEHICLE THEFT</td>\n",
       "    </tr>\n",
       "    <tr>\n",
       "      <th>6</th>\n",
       "      <td>6.0</td>\n",
       "      <td>0.046769</td>\n",
       "      <td>0.451179</td>\n",
       "      <td>0.382040</td>\n",
       "      <td>0.451179</td>\n",
       "      <td>0.413741</td>\n",
       "      <td>BURGLARY</td>\n",
       "    </tr>\n",
       "    <tr>\n",
       "      <th>5</th>\n",
       "      <td>5.0</td>\n",
       "      <td>0.047499</td>\n",
       "      <td>0.313600</td>\n",
       "      <td>0.298836</td>\n",
       "      <td>0.313600</td>\n",
       "      <td>0.306040</td>\n",
       "      <td>ASSAULT</td>\n",
       "    </tr>\n",
       "    <tr>\n",
       "      <th>10</th>\n",
       "      <td>10.0</td>\n",
       "      <td>0.014530</td>\n",
       "      <td>0.200249</td>\n",
       "      <td>0.292140</td>\n",
       "      <td>0.200249</td>\n",
       "      <td>0.237620</td>\n",
       "      <td>CRIMINAL TRESPASS</td>\n",
       "    </tr>\n",
       "    <tr>\n",
       "      <th>9</th>\n",
       "      <td>9.0</td>\n",
       "      <td>0.029768</td>\n",
       "      <td>0.325746</td>\n",
       "      <td>0.282172</td>\n",
       "      <td>0.325746</td>\n",
       "      <td>0.302397</td>\n",
       "      <td>DECEPTIVE PRACTICE</td>\n",
       "    </tr>\n",
       "    <tr>\n",
       "      <th>12</th>\n",
       "      <td>12.0</td>\n",
       "      <td>0.000844</td>\n",
       "      <td>0.032404</td>\n",
       "      <td>0.276406</td>\n",
       "      <td>0.032404</td>\n",
       "      <td>0.058008</td>\n",
       "      <td>WEAPONS VIOLATION</td>\n",
       "    </tr>\n",
       "    <tr>\n",
       "      <th>8</th>\n",
       "      <td>8.0</td>\n",
       "      <td>0.030366</td>\n",
       "      <td>0.253369</td>\n",
       "      <td>0.247819</td>\n",
       "      <td>0.253369</td>\n",
       "      <td>0.250563</td>\n",
       "      <td>ROBBERY</td>\n",
       "    </tr>\n",
       "    <tr>\n",
       "      <th>25</th>\n",
       "      <td>25.0</td>\n",
       "      <td>0.000000</td>\n",
       "      <td>0.000000</td>\n",
       "      <td>0.000000</td>\n",
       "      <td>0.000000</td>\n",
       "      <td>0.000000</td>\n",
       "      <td>OBSCENITY</td>\n",
       "    </tr>\n",
       "    <tr>\n",
       "      <th>26</th>\n",
       "      <td>26.0</td>\n",
       "      <td>0.000000</td>\n",
       "      <td>0.000000</td>\n",
       "      <td>0.000000</td>\n",
       "      <td>0.000000</td>\n",
       "      <td>0.000000</td>\n",
       "      <td>PUBLIC INDECENCY</td>\n",
       "    </tr>\n",
       "    <tr>\n",
       "      <th>27</th>\n",
       "      <td>27.0</td>\n",
       "      <td>0.000000</td>\n",
       "      <td>0.000000</td>\n",
       "      <td>0.000000</td>\n",
       "      <td>0.000000</td>\n",
       "      <td>0.000000</td>\n",
       "      <td>OTHER NARCOTIC VIOLATION</td>\n",
       "    </tr>\n",
       "    <tr>\n",
       "      <th>28</th>\n",
       "      <td>28.0</td>\n",
       "      <td>0.000000</td>\n",
       "      <td>0.000000</td>\n",
       "      <td>0.000000</td>\n",
       "      <td>0.000000</td>\n",
       "      <td>0.000000</td>\n",
       "      <td>CONCEALED CARRY LICENSE VIOLATION</td>\n",
       "    </tr>\n",
       "    <tr>\n",
       "      <th>31</th>\n",
       "      <td>31.0</td>\n",
       "      <td>0.000000</td>\n",
       "      <td>0.000000</td>\n",
       "      <td>0.000000</td>\n",
       "      <td>0.000000</td>\n",
       "      <td>0.000000</td>\n",
       "      <td>HUMAN TRAFFICKING</td>\n",
       "    </tr>\n",
       "    <tr>\n",
       "      <th>29</th>\n",
       "      <td>29.0</td>\n",
       "      <td>0.000000</td>\n",
       "      <td>0.000000</td>\n",
       "      <td>0.000000</td>\n",
       "      <td>0.000000</td>\n",
       "      <td>0.000000</td>\n",
       "      <td>NON-CRIMINAL</td>\n",
       "    </tr>\n",
       "    <tr>\n",
       "      <th>30</th>\n",
       "      <td>30.0</td>\n",
       "      <td>0.000000</td>\n",
       "      <td>0.000000</td>\n",
       "      <td>0.000000</td>\n",
       "      <td>0.000000</td>\n",
       "      <td>0.000000</td>\n",
       "      <td>NON - CRIMINAL</td>\n",
       "    </tr>\n",
       "    <tr>\n",
       "      <th>32</th>\n",
       "      <td>32.0</td>\n",
       "      <td>0.000000</td>\n",
       "      <td>0.000000</td>\n",
       "      <td>0.000000</td>\n",
       "      <td>0.000000</td>\n",
       "      <td>0.000000</td>\n",
       "      <td>RITUALISM</td>\n",
       "    </tr>\n",
       "    <tr>\n",
       "      <th>23</th>\n",
       "      <td>23.0</td>\n",
       "      <td>0.000000</td>\n",
       "      <td>0.000000</td>\n",
       "      <td>0.000000</td>\n",
       "      <td>0.000000</td>\n",
       "      <td>0.000000</td>\n",
       "      <td>INTIMIDATION</td>\n",
       "    </tr>\n",
       "    <tr>\n",
       "      <th>24</th>\n",
       "      <td>24.0</td>\n",
       "      <td>0.000000</td>\n",
       "      <td>0.000000</td>\n",
       "      <td>0.000000</td>\n",
       "      <td>0.000000</td>\n",
       "      <td>0.000000</td>\n",
       "      <td>STALKING</td>\n",
       "    </tr>\n",
       "    <tr>\n",
       "      <th>17</th>\n",
       "      <td>17.0</td>\n",
       "      <td>0.000000</td>\n",
       "      <td>0.000000</td>\n",
       "      <td>0.000000</td>\n",
       "      <td>0.000000</td>\n",
       "      <td>0.000000</td>\n",
       "      <td>GAMBLING</td>\n",
       "    </tr>\n",
       "    <tr>\n",
       "      <th>22</th>\n",
       "      <td>22.0</td>\n",
       "      <td>0.000000</td>\n",
       "      <td>0.000000</td>\n",
       "      <td>0.000000</td>\n",
       "      <td>0.000000</td>\n",
       "      <td>0.000000</td>\n",
       "      <td>KIDNAPPING</td>\n",
       "    </tr>\n",
       "    <tr>\n",
       "      <th>21</th>\n",
       "      <td>21.0</td>\n",
       "      <td>0.000000</td>\n",
       "      <td>0.000000</td>\n",
       "      <td>0.000000</td>\n",
       "      <td>0.000000</td>\n",
       "      <td>0.000000</td>\n",
       "      <td>HOMICIDE</td>\n",
       "    </tr>\n",
       "    <tr>\n",
       "      <th>20</th>\n",
       "      <td>20.0</td>\n",
       "      <td>0.000000</td>\n",
       "      <td>0.000000</td>\n",
       "      <td>0.000000</td>\n",
       "      <td>0.000000</td>\n",
       "      <td>0.000000</td>\n",
       "      <td>ARSON</td>\n",
       "    </tr>\n",
       "    <tr>\n",
       "      <th>19</th>\n",
       "      <td>19.0</td>\n",
       "      <td>0.000000</td>\n",
       "      <td>0.000000</td>\n",
       "      <td>0.000000</td>\n",
       "      <td>0.000000</td>\n",
       "      <td>0.000000</td>\n",
       "      <td>INTERFERENCE WITH PUBLIC OFFICER</td>\n",
       "    </tr>\n",
       "    <tr>\n",
       "      <th>18</th>\n",
       "      <td>18.0</td>\n",
       "      <td>0.000000</td>\n",
       "      <td>0.000000</td>\n",
       "      <td>0.000000</td>\n",
       "      <td>0.000000</td>\n",
       "      <td>0.000000</td>\n",
       "      <td>LIQUOR LAW VIOLATION</td>\n",
       "    </tr>\n",
       "    <tr>\n",
       "      <th>16</th>\n",
       "      <td>16.0</td>\n",
       "      <td>0.000000</td>\n",
       "      <td>0.000000</td>\n",
       "      <td>0.000000</td>\n",
       "      <td>0.000000</td>\n",
       "      <td>0.000000</td>\n",
       "      <td>SEX OFFENSE</td>\n",
       "    </tr>\n",
       "    <tr>\n",
       "      <th>15</th>\n",
       "      <td>15.0</td>\n",
       "      <td>0.000000</td>\n",
       "      <td>0.000000</td>\n",
       "      <td>0.000000</td>\n",
       "      <td>0.000000</td>\n",
       "      <td>0.000000</td>\n",
       "      <td>CRIM SEXUAL ASSAULT</td>\n",
       "    </tr>\n",
       "    <tr>\n",
       "      <th>14</th>\n",
       "      <td>14.0</td>\n",
       "      <td>0.000000</td>\n",
       "      <td>0.000000</td>\n",
       "      <td>0.000000</td>\n",
       "      <td>0.000000</td>\n",
       "      <td>0.000000</td>\n",
       "      <td>OFFENSE INVOLVING CHILDREN</td>\n",
       "    </tr>\n",
       "    <tr>\n",
       "      <th>13</th>\n",
       "      <td>13.0</td>\n",
       "      <td>0.000000</td>\n",
       "      <td>0.000000</td>\n",
       "      <td>0.000000</td>\n",
       "      <td>0.000000</td>\n",
       "      <td>0.000000</td>\n",
       "      <td>PUBLIC PEACE VIOLATION</td>\n",
       "    </tr>\n",
       "    <tr>\n",
       "      <th>33</th>\n",
       "      <td>33.0</td>\n",
       "      <td>0.000000</td>\n",
       "      <td>0.000000</td>\n",
       "      <td>0.000000</td>\n",
       "      <td>0.000000</td>\n",
       "      <td>0.000000</td>\n",
       "      <td>NON-CRIMINAL (SUBJECT SPECIFIED)</td>\n",
       "    </tr>\n",
       "  </tbody>\n",
       "</table>\n",
       "</div>"
      ]
     },
     "metadata": {
      "application/vnd.databricks.v1+output": {
       "addedWidgets": {},
       "arguments": {},
       "data": "<div>\n<style scoped>\n    .dataframe tbody tr th:only-of-type {\n        vertical-align: middle;\n    }\n\n    .dataframe tbody tr th {\n        vertical-align: top;\n    }\n\n    .dataframe thead th {\n        text-align: right;\n    }\n</style>\n<table border=\"1\" class=\"dataframe\">\n  <thead>\n    <tr style=\"text-align: right;\">\n      <th></th>\n      <th>index</th>\n      <th>false_positive_rate</th>\n      <th>true_positive_rate</th>\n      <th>precision_rate</th>\n      <th>recall_rate</th>\n      <th>f_measure</th>\n      <th>primary_type</th>\n    </tr>\n  </thead>\n  <tbody>\n    <tr>\n      <th>4</th>\n      <td>4.0</td>\n      <td>0.003447</td>\n      <td>0.129516</td>\n      <td>0.712086</td>\n      <td>0.129516</td>\n      <td>0.219169</td>\n      <td>OTHER OFFENSE</td>\n    </tr>\n    <tr>\n      <th>0</th>\n      <td>0.0</td>\n      <td>0.106720</td>\n      <td>0.927587</td>\n      <td>0.693473</td>\n      <td>0.927587</td>\n      <td>0.793625</td>\n      <td>THEFT</td>\n    </tr>\n    <tr>\n      <th>2</th>\n      <td>2.0</td>\n      <td>0.027806</td>\n      <td>0.429602</td>\n      <td>0.671533</td>\n      <td>0.429602</td>\n      <td>0.523990</td>\n      <td>CRIMINAL DAMAGE</td>\n    </tr>\n    <tr>\n      <th>3</th>\n      <td>3.0</td>\n      <td>0.068644</td>\n      <td>0.867071</td>\n      <td>0.612793</td>\n      <td>0.867071</td>\n      <td>0.718086</td>\n      <td>NARCOTICS</td>\n    </tr>\n    <tr>\n      <th>11</th>\n      <td>11.0</td>\n      <td>0.008854</td>\n      <td>0.593578</td>\n      <td>0.421707</td>\n      <td>0.593578</td>\n      <td>0.493095</td>\n      <td>PROSTITUTION</td>\n    </tr>\n    <tr>\n      <th>1</th>\n      <td>1.0</td>\n      <td>0.134292</td>\n      <td>0.407161</td>\n      <td>0.402422</td>\n      <td>0.407161</td>\n      <td>0.404777</td>\n      <td>BATTERY</td>\n    </tr>\n    <tr>\n      <th>7</th>\n      <td>7.0</td>\n      <td>0.029441</td>\n      <td>0.398895</td>\n      <td>0.395609</td>\n      <td>0.398895</td>\n      <td>0.397246</td>\n      <td>MOTOR VEHICLE THEFT</td>\n    </tr>\n    <tr>\n      <th>6</th>\n      <td>6.0</td>\n      <td>0.046769</td>\n      <td>0.451179</td>\n      <td>0.382040</td>\n      <td>0.451179</td>\n      <td>0.413741</td>\n      <td>BURGLARY</td>\n    </tr>\n    <tr>\n      <th>5</th>\n      <td>5.0</td>\n      <td>0.047499</td>\n      <td>0.313600</td>\n      <td>0.298836</td>\n      <td>0.313600</td>\n      <td>0.306040</td>\n      <td>ASSAULT</td>\n    </tr>\n    <tr>\n      <th>10</th>\n      <td>10.0</td>\n      <td>0.014530</td>\n      <td>0.200249</td>\n      <td>0.292140</td>\n      <td>0.200249</td>\n      <td>0.237620</td>\n      <td>CRIMINAL TRESPASS</td>\n    </tr>\n    <tr>\n      <th>9</th>\n      <td>9.0</td>\n      <td>0.029768</td>\n      <td>0.325746</td>\n      <td>0.282172</td>\n      <td>0.325746</td>\n      <td>0.302397</td>\n      <td>DECEPTIVE PRACTICE</td>\n    </tr>\n    <tr>\n      <th>12</th>\n      <td>12.0</td>\n      <td>0.000844</td>\n      <td>0.032404</td>\n      <td>0.276406</td>\n      <td>0.032404</td>\n      <td>0.058008</td>\n      <td>WEAPONS VIOLATION</td>\n    </tr>\n    <tr>\n      <th>8</th>\n      <td>8.0</td>\n      <td>0.030366</td>\n      <td>0.253369</td>\n      <td>0.247819</td>\n      <td>0.253369</td>\n      <td>0.250563</td>\n      <td>ROBBERY</td>\n    </tr>\n    <tr>\n      <th>25</th>\n      <td>25.0</td>\n      <td>0.000000</td>\n      <td>0.000000</td>\n      <td>0.000000</td>\n      <td>0.000000</td>\n      <td>0.000000</td>\n      <td>OBSCENITY</td>\n    </tr>\n    <tr>\n      <th>26</th>\n      <td>26.0</td>\n      <td>0.000000</td>\n      <td>0.000000</td>\n      <td>0.000000</td>\n      <td>0.000000</td>\n      <td>0.000000</td>\n      <td>PUBLIC INDECENCY</td>\n    </tr>\n    <tr>\n      <th>27</th>\n      <td>27.0</td>\n      <td>0.000000</td>\n      <td>0.000000</td>\n      <td>0.000000</td>\n      <td>0.000000</td>\n      <td>0.000000</td>\n      <td>OTHER NARCOTIC VIOLATION</td>\n    </tr>\n    <tr>\n      <th>28</th>\n      <td>28.0</td>\n      <td>0.000000</td>\n      <td>0.000000</td>\n      <td>0.000000</td>\n      <td>0.000000</td>\n      <td>0.000000</td>\n      <td>CONCEALED CARRY LICENSE VIOLATION</td>\n    </tr>\n    <tr>\n      <th>31</th>\n      <td>31.0</td>\n      <td>0.000000</td>\n      <td>0.000000</td>\n      <td>0.000000</td>\n      <td>0.000000</td>\n      <td>0.000000</td>\n      <td>HUMAN TRAFFICKING</td>\n    </tr>\n    <tr>\n      <th>29</th>\n      <td>29.0</td>\n      <td>0.000000</td>\n      <td>0.000000</td>\n      <td>0.000000</td>\n      <td>0.000000</td>\n      <td>0.000000</td>\n      <td>NON-CRIMINAL</td>\n    </tr>\n    <tr>\n      <th>30</th>\n      <td>30.0</td>\n      <td>0.000000</td>\n      <td>0.000000</td>\n      <td>0.000000</td>\n      <td>0.000000</td>\n      <td>0.000000</td>\n      <td>NON - CRIMINAL</td>\n    </tr>\n    <tr>\n      <th>32</th>\n      <td>32.0</td>\n      <td>0.000000</td>\n      <td>0.000000</td>\n      <td>0.000000</td>\n      <td>0.000000</td>\n      <td>0.000000</td>\n      <td>RITUALISM</td>\n    </tr>\n    <tr>\n      <th>23</th>\n      <td>23.0</td>\n      <td>0.000000</td>\n      <td>0.000000</td>\n      <td>0.000000</td>\n      <td>0.000000</td>\n      <td>0.000000</td>\n      <td>INTIMIDATION</td>\n    </tr>\n    <tr>\n      <th>24</th>\n      <td>24.0</td>\n      <td>0.000000</td>\n      <td>0.000000</td>\n      <td>0.000000</td>\n      <td>0.000000</td>\n      <td>0.000000</td>\n      <td>STALKING</td>\n    </tr>\n    <tr>\n      <th>17</th>\n      <td>17.0</td>\n      <td>0.000000</td>\n      <td>0.000000</td>\n      <td>0.000000</td>\n      <td>0.000000</td>\n      <td>0.000000</td>\n      <td>GAMBLING</td>\n    </tr>\n    <tr>\n      <th>22</th>\n      <td>22.0</td>\n      <td>0.000000</td>\n      <td>0.000000</td>\n      <td>0.000000</td>\n      <td>0.000000</td>\n      <td>0.000000</td>\n      <td>KIDNAPPING</td>\n    </tr>\n    <tr>\n      <th>21</th>\n      <td>21.0</td>\n      <td>0.000000</td>\n      <td>0.000000</td>\n      <td>0.000000</td>\n      <td>0.000000</td>\n      <td>0.000000</td>\n      <td>HOMICIDE</td>\n    </tr>\n    <tr>\n      <th>20</th>\n      <td>20.0</td>\n      <td>0.000000</td>\n      <td>0.000000</td>\n      <td>0.000000</td>\n      <td>0.000000</td>\n      <td>0.000000</td>\n      <td>ARSON</td>\n    </tr>\n    <tr>\n      <th>19</th>\n      <td>19.0</td>\n      <td>0.000000</td>\n      <td>0.000000</td>\n      <td>0.000000</td>\n      <td>0.000000</td>\n      <td>0.000000</td>\n      <td>INTERFERENCE WITH PUBLIC OFFICER</td>\n    </tr>\n    <tr>\n      <th>18</th>\n      <td>18.0</td>\n      <td>0.000000</td>\n      <td>0.000000</td>\n      <td>0.000000</td>\n      <td>0.000000</td>\n      <td>0.000000</td>\n      <td>LIQUOR LAW VIOLATION</td>\n    </tr>\n    <tr>\n      <th>16</th>\n      <td>16.0</td>\n      <td>0.000000</td>\n      <td>0.000000</td>\n      <td>0.000000</td>\n      <td>0.000000</td>\n      <td>0.000000</td>\n      <td>SEX OFFENSE</td>\n    </tr>\n    <tr>\n      <th>15</th>\n      <td>15.0</td>\n      <td>0.000000</td>\n      <td>0.000000</td>\n      <td>0.000000</td>\n      <td>0.000000</td>\n      <td>0.000000</td>\n      <td>CRIM SEXUAL ASSAULT</td>\n    </tr>\n    <tr>\n      <th>14</th>\n      <td>14.0</td>\n      <td>0.000000</td>\n      <td>0.000000</td>\n      <td>0.000000</td>\n      <td>0.000000</td>\n      <td>0.000000</td>\n      <td>OFFENSE INVOLVING CHILDREN</td>\n    </tr>\n    <tr>\n      <th>13</th>\n      <td>13.0</td>\n      <td>0.000000</td>\n      <td>0.000000</td>\n      <td>0.000000</td>\n      <td>0.000000</td>\n      <td>0.000000</td>\n      <td>PUBLIC PEACE VIOLATION</td>\n    </tr>\n    <tr>\n      <th>33</th>\n      <td>33.0</td>\n      <td>0.000000</td>\n      <td>0.000000</td>\n      <td>0.000000</td>\n      <td>0.000000</td>\n      <td>0.000000</td>\n      <td>NON-CRIMINAL (SUBJECT SPECIFIED)</td>\n    </tr>\n  </tbody>\n</table>\n</div>",
       "datasetInfos": [],
       "metadata": {},
       "removedWidgets": [],
       "textData": null,
       "type": "htmlSandbox"
      }
     },
     "output_type": "display_data"
    }
   ],
   "source": [
    "train_rdd = train.select(['primary_type', 'primary_type_indexed']).distinct().orderBy('primary_type_indexed').rdd.map(lambda l: l.asDict()).collect()\n",
    "for l in train_rdd:\n",
    "    label_stats[l['primary_type_indexed']]['primary_type'] = l['primary_type']\n",
    "rates_pddf = pd.DataFrame(list(label_stats.values()))\n",
    "rates_pddf = rates_pddf.sort_values(by='precision_rate', ascending=False)\n",
    "rates_pddf"
   ]
  },
  {
   "cell_type": "markdown",
   "metadata": {
    "application/vnd.databricks.v1+cell": {
     "inputWidgets": {},
     "nuid": "2a27623e-02f1-4e9f-aa92-c51e7d485831",
     "showTitle": false,
     "title": ""
    }
   },
   "source": [
    "## Naive Bayes:"
   ]
  },
  {
   "cell_type": "code",
   "execution_count": 0,
   "metadata": {
    "application/vnd.databricks.v1+cell": {
     "inputWidgets": {},
     "nuid": "b4f91df4-2b9d-4708-9fda-b464c738bb85",
     "showTitle": false,
     "title": ""
    }
   },
   "outputs": [
    {
     "data": {
      "text/html": [
       "<style scoped>\n",
       "  .ansiout {\n",
       "    display: block;\n",
       "    unicode-bidi: embed;\n",
       "    white-space: pre-wrap;\n",
       "    word-wrap: break-word;\n",
       "    word-break: break-all;\n",
       "    font-family: \"Source Code Pro\", \"Menlo\", monospace;;\n",
       "    font-size: 13px;\n",
       "    color: #555;\n",
       "    margin-left: 4px;\n",
       "    line-height: 19px;\n",
       "  }\n",
       "</style>\n",
       "<div class=\"ansiout\">NaiveBayesModel: uid=NaiveBayes_59e1658a7c4a, modelType=multinomial, numClasses=34, numFeatures=11\n",
       "</div>"
      ]
     },
     "metadata": {
      "application/vnd.databricks.v1+output": {
       "addedWidgets": {},
       "arguments": {},
       "data": "<div class=\"ansiout\">NaiveBayesModel: uid=NaiveBayes_59e1658a7c4a, modelType=multinomial, numClasses=34, numFeatures=11\n</div>",
       "datasetInfos": [],
       "metadata": {},
       "removedWidgets": [],
       "type": "html"
      }
     },
     "output_type": "display_data"
    }
   ],
   "source": [
    "nb = NaiveBayes(labelCol=\"primary_type_indexed\", predictionCol=\"prediction\")\n",
    "nbmodel = nb.fit(train)\n",
    "print(nbmodel)"
   ]
  },
  {
   "cell_type": "code",
   "execution_count": 0,
   "metadata": {
    "application/vnd.databricks.v1+cell": {
     "inputWidgets": {},
     "nuid": "5328f741-2d19-4a41-b95e-503fd34b784e",
     "showTitle": false,
     "title": ""
    }
   },
   "outputs": [
    {
     "data": {
      "text/html": [
       "<style scoped>\n",
       "  .ansiout {\n",
       "    display: block;\n",
       "    unicode-bidi: embed;\n",
       "    white-space: pre-wrap;\n",
       "    word-wrap: break-word;\n",
       "    word-break: break-all;\n",
       "    font-family: \"Source Code Pro\", \"Menlo\", monospace;;\n",
       "    font-size: 13px;\n",
       "    color: #555;\n",
       "    margin-left: 4px;\n",
       "    line-height: 19px;\n",
       "  }\n",
       "</style>\n",
       "<div class=\"ansiout\">+------------------------------+--------------------------+--------------------+----------+\n",
       "                   description|              primary_type|primary_type_indexed|prediction|\n",
       "+------------------------------+--------------------------+--------------------+----------+\n",
       "       HARASSMENT BY TELEPHONE|             OTHER OFFENSE|                 4.0|       4.0|\n",
       "       OTHER WEAPONS VIOLATION|             OTHER OFFENSE|                 4.0|      10.0|\n",
       " FINANCIAL ID THEFT: OVER $300|                     THEFT|                 0.0|       0.0|\n",
       " FINANCIAL ID THEFT: OVER $300|                     THEFT|                 0.0|       2.0|\n",
       " FINANCIAL ID THEFT: OVER $300|                     THEFT|                 0.0|       1.0|\n",
       "AGG SEX ASSLT OF CHILD FAM MBR|OFFENSE INVOLVING CHILDREN|                14.0|      11.0|\n",
       " FINANCIAL ID THEFT: OVER $300|                     THEFT|                 0.0|       2.0|\n",
       "                     OVER $500|                     THEFT|                 0.0|       0.0|\n",
       "       AGG: FINANCIAL ID THEFT|                     THEFT|                 0.0|       2.0|\n",
       "                NON-AGGRAVATED|       CRIM SEXUAL ASSAULT|                15.0|      11.0|\n",
       " FINANCIAL ID THEFT: OVER $300|                     THEFT|                 0.0|       2.0|\n",
       " FINANCIAL ID THEFT: OVER $300|                     THEFT|                 0.0|       0.0|\n",
       " FINANCIAL ID THEFT: OVER $300|                     THEFT|                 0.0|       2.0|\n",
       "                  EMBEZZLEMENT|        DECEPTIVE PRACTICE|                 9.0|       9.0|\n",
       "FINANCIAL ID THEFT:$300 &amp;UNDER|                     THEFT|                 0.0|       0.0|\n",
       "       AGG: FINANCIAL ID THEFT|                     THEFT|                 0.0|       1.0|\n",
       " FINANCIAL ID THEFT: OVER $300|                     THEFT|                 0.0|       0.0|\n",
       "                       FORGERY|        DECEPTIVE PRACTICE|                 9.0|       7.0|\n",
       " FINANCIAL ID THEFT: OVER $300|                     THEFT|                 0.0|       2.0|\n",
       " FINANCIAL ID THEFT: OVER $300|                     THEFT|                 0.0|       2.0|\n",
       "FINANCIAL ID THEFT:$300 &amp;UNDER|                     THEFT|                 0.0|       1.0|\n",
       "       HARASSMENT BY TELEPHONE|             OTHER OFFENSE|                 4.0|      10.0|\n",
       " SEX ASSLT OF CHILD BY FAM MBR|OFFENSE INVOLVING CHILDREN|                14.0|      14.0|\n",
       " FINANCIAL ID THEFT: OVER $300|                     THEFT|                 0.0|       1.0|\n",
       "                       FORGERY|        DECEPTIVE PRACTICE|                 9.0|       9.0|\n",
       " FINANCIAL ID THEFT: OVER $300|                     THEFT|                 0.0|       2.0|\n",
       "FINANCIAL ID THEFT:$300 &amp;UNDER|                     THEFT|                 0.0|       3.0|\n",
       "FINANCIAL ID THEFT:$300 &amp;UNDER|                     THEFT|                 0.0|       2.0|\n",
       "                $500 AND UNDER|                     THEFT|                 0.0|       0.0|\n",
       " SEX ASSLT OF CHILD BY FAM MBR|OFFENSE INVOLVING CHILDREN|                14.0|      14.0|\n",
       "FINANCIAL ID THEFT:$300 &amp;UNDER|                     THEFT|                 0.0|       2.0|\n",
       "FINANCIAL ID THEFT:$300 &amp;UNDER|                     THEFT|                 0.0|       0.0|\n",
       " FINANCIAL ID THEFT: OVER $300|                     THEFT|                 0.0|       3.0|\n",
       "                     OVER $500|                     THEFT|                 0.0|      10.0|\n",
       " FINANCIAL ID THEFT: OVER $300|                     THEFT|                 0.0|       0.0|\n",
       "       HARASSMENT BY TELEPHONE|             OTHER OFFENSE|                 4.0|       1.0|\n",
       " FINANCIAL ID THEFT: OVER $300|                     THEFT|                 0.0|       1.0|\n",
       "                     PREDATORY|       CRIM SEXUAL ASSAULT|                15.0|      14.0|\n",
       "                     OVER $500|                     THEFT|                 0.0|      10.0|\n",
       "FINANCIAL ID THEFT:$300 &amp;UNDER|                     THEFT|                 0.0|       1.0|\n",
       " FINANCIAL ID THEFT: OVER $300|                     THEFT|                 0.0|       3.0|\n",
       " FINANCIAL ID THEFT: OVER $300|                     THEFT|                 0.0|       2.0|\n",
       " FINANCIAL ID THEFT: OVER $300|                     THEFT|                 0.0|       0.0|\n",
       " AGG CRIM SEX ABUSE FAM MEMBER|OFFENSE INVOLVING CHILDREN|                14.0|      14.0|\n",
       "FINANCIAL ID THEFT:$300 &amp;UNDER|                     THEFT|                 0.0|       0.0|\n",
       " FINANCIAL ID THEFT: OVER $300|                     THEFT|                 0.0|       0.0|\n",
       " FINANCIAL ID THEFT: OVER $300|                     THEFT|                 0.0|       3.0|\n",
       " FINANCIAL ID THEFT: OVER $300|                     THEFT|                 0.0|       2.0|\n",
       " FINANCIAL ID THEFT: OVER $300|                     THEFT|                 0.0|       3.0|\n",
       "      FRAUD OR CONFIDENCE GAME|        DECEPTIVE PRACTICE|                 9.0|      11.0|\n",
       "+------------------------------+--------------------------+--------------------+----------+\n",
       "only showing top 50 rows\n",
       "\n",
       "</div>"
      ]
     },
     "metadata": {
      "application/vnd.databricks.v1+output": {
       "addedWidgets": {},
       "arguments": {},
       "data": "<div class=\"ansiout\">+------------------------------+--------------------------+--------------------+----------+\n|                   description|              primary_type|primary_type_indexed|prediction|\n+------------------------------+--------------------------+--------------------+----------+\n|       HARASSMENT BY TELEPHONE|             OTHER OFFENSE|                 4.0|       4.0|\n|       OTHER WEAPONS VIOLATION|             OTHER OFFENSE|                 4.0|      10.0|\n| FINANCIAL ID THEFT: OVER $300|                     THEFT|                 0.0|       0.0|\n| FINANCIAL ID THEFT: OVER $300|                     THEFT|                 0.0|       2.0|\n| FINANCIAL ID THEFT: OVER $300|                     THEFT|                 0.0|       1.0|\n|AGG SEX ASSLT OF CHILD FAM MBR|OFFENSE INVOLVING CHILDREN|                14.0|      11.0|\n| FINANCIAL ID THEFT: OVER $300|                     THEFT|                 0.0|       2.0|\n|                     OVER $500|                     THEFT|                 0.0|       0.0|\n|       AGG: FINANCIAL ID THEFT|                     THEFT|                 0.0|       2.0|\n|                NON-AGGRAVATED|       CRIM SEXUAL ASSAULT|                15.0|      11.0|\n| FINANCIAL ID THEFT: OVER $300|                     THEFT|                 0.0|       2.0|\n| FINANCIAL ID THEFT: OVER $300|                     THEFT|                 0.0|       0.0|\n| FINANCIAL ID THEFT: OVER $300|                     THEFT|                 0.0|       2.0|\n|                  EMBEZZLEMENT|        DECEPTIVE PRACTICE|                 9.0|       9.0|\n|FINANCIAL ID THEFT:$300 &amp;UNDER|                     THEFT|                 0.0|       0.0|\n|       AGG: FINANCIAL ID THEFT|                     THEFT|                 0.0|       1.0|\n| FINANCIAL ID THEFT: OVER $300|                     THEFT|                 0.0|       0.0|\n|                       FORGERY|        DECEPTIVE PRACTICE|                 9.0|       7.0|\n| FINANCIAL ID THEFT: OVER $300|                     THEFT|                 0.0|       2.0|\n| FINANCIAL ID THEFT: OVER $300|                     THEFT|                 0.0|       2.0|\n|FINANCIAL ID THEFT:$300 &amp;UNDER|                     THEFT|                 0.0|       1.0|\n|       HARASSMENT BY TELEPHONE|             OTHER OFFENSE|                 4.0|      10.0|\n| SEX ASSLT OF CHILD BY FAM MBR|OFFENSE INVOLVING CHILDREN|                14.0|      14.0|\n| FINANCIAL ID THEFT: OVER $300|                     THEFT|                 0.0|       1.0|\n|                       FORGERY|        DECEPTIVE PRACTICE|                 9.0|       9.0|\n| FINANCIAL ID THEFT: OVER $300|                     THEFT|                 0.0|       2.0|\n|FINANCIAL ID THEFT:$300 &amp;UNDER|                     THEFT|                 0.0|       3.0|\n|FINANCIAL ID THEFT:$300 &amp;UNDER|                     THEFT|                 0.0|       2.0|\n|                $500 AND UNDER|                     THEFT|                 0.0|       0.0|\n| SEX ASSLT OF CHILD BY FAM MBR|OFFENSE INVOLVING CHILDREN|                14.0|      14.0|\n|FINANCIAL ID THEFT:$300 &amp;UNDER|                     THEFT|                 0.0|       2.0|\n|FINANCIAL ID THEFT:$300 &amp;UNDER|                     THEFT|                 0.0|       0.0|\n| FINANCIAL ID THEFT: OVER $300|                     THEFT|                 0.0|       3.0|\n|                     OVER $500|                     THEFT|                 0.0|      10.0|\n| FINANCIAL ID THEFT: OVER $300|                     THEFT|                 0.0|       0.0|\n|       HARASSMENT BY TELEPHONE|             OTHER OFFENSE|                 4.0|       1.0|\n| FINANCIAL ID THEFT: OVER $300|                     THEFT|                 0.0|       1.0|\n|                     PREDATORY|       CRIM SEXUAL ASSAULT|                15.0|      14.0|\n|                     OVER $500|                     THEFT|                 0.0|      10.0|\n|FINANCIAL ID THEFT:$300 &amp;UNDER|                     THEFT|                 0.0|       1.0|\n| FINANCIAL ID THEFT: OVER $300|                     THEFT|                 0.0|       3.0|\n| FINANCIAL ID THEFT: OVER $300|                     THEFT|                 0.0|       2.0|\n| FINANCIAL ID THEFT: OVER $300|                     THEFT|                 0.0|       0.0|\n| AGG CRIM SEX ABUSE FAM MEMBER|OFFENSE INVOLVING CHILDREN|                14.0|      14.0|\n|FINANCIAL ID THEFT:$300 &amp;UNDER|                     THEFT|                 0.0|       0.0|\n| FINANCIAL ID THEFT: OVER $300|                     THEFT|                 0.0|       0.0|\n| FINANCIAL ID THEFT: OVER $300|                     THEFT|                 0.0|       3.0|\n| FINANCIAL ID THEFT: OVER $300|                     THEFT|                 0.0|       2.0|\n| FINANCIAL ID THEFT: OVER $300|                     THEFT|                 0.0|       3.0|\n|      FRAUD OR CONFIDENCE GAME|        DECEPTIVE PRACTICE|                 9.0|      11.0|\n+------------------------------+--------------------------+--------------------+----------+\nonly showing top 50 rows\n\n</div>",
       "datasetInfos": [],
       "metadata": {},
       "removedWidgets": [],
       "type": "html"
      }
     },
     "output_type": "display_data"
    }
   ],
   "source": [
    "nbpredictions = nbmodel.transform(test)\n",
    "nbpredictions.select(\"description\",\"primary_type\",\"primary_type_indexed\",\"prediction\").show(n = 50, truncate = 30)"
   ]
  },
  {
   "cell_type": "code",
   "execution_count": 0,
   "metadata": {
    "application/vnd.databricks.v1+cell": {
     "inputWidgets": {},
     "nuid": "3c552980-221b-490f-be7e-bca765bd9fb9",
     "showTitle": false,
     "title": ""
    }
   },
   "outputs": [
    {
     "data": {
      "text/html": [
       "<style scoped>\n",
       "  .ansiout {\n",
       "    display: block;\n",
       "    unicode-bidi: embed;\n",
       "    white-space: pre-wrap;\n",
       "    word-wrap: break-word;\n",
       "    word-break: break-all;\n",
       "    font-family: \"Source Code Pro\", \"Menlo\", monospace;;\n",
       "    font-size: 13px;\n",
       "    color: #555;\n",
       "    margin-left: 4px;\n",
       "    line-height: 19px;\n",
       "  }\n",
       "</style>\n",
       "<div class=\"ansiout\">Out[60]: 0.3591369125487725</div>"
      ]
     },
     "metadata": {
      "application/vnd.databricks.v1+output": {
       "addedWidgets": {},
       "arguments": {},
       "data": "<div class=\"ansiout\">Out[60]: 0.3591369125487725</div>",
       "datasetInfos": [],
       "metadata": {},
       "removedWidgets": [],
       "type": "html"
      }
     },
     "output_type": "display_data"
    }
   ],
   "source": [
    "nbevaluator = MulticlassClassificationEvaluator(labelCol=\"primary_type_indexed\", predictionCol=\"prediction\")\n",
    "nbevaluator.evaluate(nbpredictions)"
   ]
  },
  {
   "cell_type": "markdown",
   "metadata": {
    "application/vnd.databricks.v1+cell": {
     "inputWidgets": {},
     "nuid": "1802163b-f6c4-44a0-bbf3-5547ad84dd2f",
     "showTitle": false,
     "title": ""
    }
   },
   "source": [
    "## Random Forest:"
   ]
  },
  {
   "cell_type": "code",
   "execution_count": 0,
   "metadata": {
    "application/vnd.databricks.v1+cell": {
     "inputWidgets": {},
     "nuid": "090b2d73-f151-4775-9e33-7bfdc110149e",
     "showTitle": false,
     "title": ""
    }
   },
   "outputs": [
    {
     "data": {
      "text/html": [
       "<style scoped>\n",
       "  .ansiout {\n",
       "    display: block;\n",
       "    unicode-bidi: embed;\n",
       "    white-space: pre-wrap;\n",
       "    word-wrap: break-word;\n",
       "    word-break: break-all;\n",
       "    font-family: \"Source Code Pro\", \"Menlo\", monospace;;\n",
       "    font-size: 13px;\n",
       "    color: #555;\n",
       "    margin-left: 4px;\n",
       "    line-height: 19px;\n",
       "  }\n",
       "</style>\n",
       "<div class=\"ansiout\"></div>"
      ]
     },
     "metadata": {
      "application/vnd.databricks.v1+output": {
       "addedWidgets": {},
       "arguments": {},
       "data": "<div class=\"ansiout\"></div>",
       "datasetInfos": [],
       "metadata": {},
       "removedWidgets": [],
       "type": "html"
      }
     },
     "output_type": "display_data"
    }
   ],
   "source": [
    "rf = RandomForestClassifier(labelCol=\"primary_type_indexed\", featuresCol=\"features\", numTrees = 100, maxDepth = 4,maxBins = 170)\n",
    "rfModel = rf.fit(train)\n",
    "predictions = rfModel.transform(test)"
   ]
  },
  {
   "cell_type": "code",
   "execution_count": 0,
   "metadata": {
    "application/vnd.databricks.v1+cell": {
     "inputWidgets": {},
     "nuid": "9127fc5e-1ebd-431a-a9d1-85e346f27d3c",
     "showTitle": false,
     "title": ""
    }
   },
   "outputs": [
    {
     "data": {
      "text/html": [
       "<style scoped>\n",
       "  .ansiout {\n",
       "    display: block;\n",
       "    unicode-bidi: embed;\n",
       "    white-space: pre-wrap;\n",
       "    word-wrap: break-word;\n",
       "    word-break: break-all;\n",
       "    font-family: \"Source Code Pro\", \"Menlo\", monospace;;\n",
       "    font-size: 13px;\n",
       "    color: #555;\n",
       "    margin-left: 4px;\n",
       "    line-height: 19px;\n",
       "  }\n",
       "</style>\n",
       "<div class=\"ansiout\">+------------------------------+--------------------------+--------------------+----------+\n",
       "                   description|              primary_type|primary_type_indexed|prediction|\n",
       "+------------------------------+--------------------------+--------------------+----------+\n",
       "       HARASSMENT BY TELEPHONE|             OTHER OFFENSE|                 4.0|       1.0|\n",
       "       OTHER WEAPONS VIOLATION|             OTHER OFFENSE|                 4.0|       1.0|\n",
       " FINANCIAL ID THEFT: OVER $300|                     THEFT|                 0.0|       0.0|\n",
       " FINANCIAL ID THEFT: OVER $300|                     THEFT|                 0.0|       0.0|\n",
       " FINANCIAL ID THEFT: OVER $300|                     THEFT|                 0.0|       0.0|\n",
       "AGG SEX ASSLT OF CHILD FAM MBR|OFFENSE INVOLVING CHILDREN|                14.0|       3.0|\n",
       " FINANCIAL ID THEFT: OVER $300|                     THEFT|                 0.0|       0.0|\n",
       "                     OVER $500|                     THEFT|                 0.0|       0.0|\n",
       "       AGG: FINANCIAL ID THEFT|                     THEFT|                 0.0|       0.0|\n",
       "                NON-AGGRAVATED|       CRIM SEXUAL ASSAULT|                15.0|       1.0|\n",
       " FINANCIAL ID THEFT: OVER $300|                     THEFT|                 0.0|       0.0|\n",
       " FINANCIAL ID THEFT: OVER $300|                     THEFT|                 0.0|       0.0|\n",
       " FINANCIAL ID THEFT: OVER $300|                     THEFT|                 0.0|       0.0|\n",
       "                  EMBEZZLEMENT|        DECEPTIVE PRACTICE|                 9.0|       1.0|\n",
       "FINANCIAL ID THEFT:$300 &amp;UNDER|                     THEFT|                 0.0|       0.0|\n",
       "       AGG: FINANCIAL ID THEFT|                     THEFT|                 0.0|       0.0|\n",
       " FINANCIAL ID THEFT: OVER $300|                     THEFT|                 0.0|       0.0|\n",
       "                       FORGERY|        DECEPTIVE PRACTICE|                 9.0|       1.0|\n",
       " FINANCIAL ID THEFT: OVER $300|                     THEFT|                 0.0|       0.0|\n",
       " FINANCIAL ID THEFT: OVER $300|                     THEFT|                 0.0|       0.0|\n",
       "FINANCIAL ID THEFT:$300 &amp;UNDER|                     THEFT|                 0.0|       0.0|\n",
       "       HARASSMENT BY TELEPHONE|             OTHER OFFENSE|                 4.0|       1.0|\n",
       " SEX ASSLT OF CHILD BY FAM MBR|OFFENSE INVOLVING CHILDREN|                14.0|       1.0|\n",
       " FINANCIAL ID THEFT: OVER $300|                     THEFT|                 0.0|       0.0|\n",
       "                       FORGERY|        DECEPTIVE PRACTICE|                 9.0|       1.0|\n",
       " FINANCIAL ID THEFT: OVER $300|                     THEFT|                 0.0|       0.0|\n",
       "FINANCIAL ID THEFT:$300 &amp;UNDER|                     THEFT|                 0.0|       0.0|\n",
       "FINANCIAL ID THEFT:$300 &amp;UNDER|                     THEFT|                 0.0|       0.0|\n",
       "                $500 AND UNDER|                     THEFT|                 0.0|       0.0|\n",
       " SEX ASSLT OF CHILD BY FAM MBR|OFFENSE INVOLVING CHILDREN|                14.0|       1.0|\n",
       "FINANCIAL ID THEFT:$300 &amp;UNDER|                     THEFT|                 0.0|       0.0|\n",
       "FINANCIAL ID THEFT:$300 &amp;UNDER|                     THEFT|                 0.0|       0.0|\n",
       " FINANCIAL ID THEFT: OVER $300|                     THEFT|                 0.0|       0.0|\n",
       "                     OVER $500|                     THEFT|                 0.0|       0.0|\n",
       " FINANCIAL ID THEFT: OVER $300|                     THEFT|                 0.0|       0.0|\n",
       "       HARASSMENT BY TELEPHONE|             OTHER OFFENSE|                 4.0|       1.0|\n",
       " FINANCIAL ID THEFT: OVER $300|                     THEFT|                 0.0|       0.0|\n",
       "                     PREDATORY|       CRIM SEXUAL ASSAULT|                15.0|       1.0|\n",
       "                     OVER $500|                     THEFT|                 0.0|       0.0|\n",
       "FINANCIAL ID THEFT:$300 &amp;UNDER|                     THEFT|                 0.0|       0.0|\n",
       " FINANCIAL ID THEFT: OVER $300|                     THEFT|                 0.0|       0.0|\n",
       " FINANCIAL ID THEFT: OVER $300|                     THEFT|                 0.0|       0.0|\n",
       " FINANCIAL ID THEFT: OVER $300|                     THEFT|                 0.0|       0.0|\n",
       " AGG CRIM SEX ABUSE FAM MEMBER|OFFENSE INVOLVING CHILDREN|                14.0|       1.0|\n",
       "FINANCIAL ID THEFT:$300 &amp;UNDER|                     THEFT|                 0.0|       0.0|\n",
       " FINANCIAL ID THEFT: OVER $300|                     THEFT|                 0.0|       0.0|\n",
       " FINANCIAL ID THEFT: OVER $300|                     THEFT|                 0.0|       0.0|\n",
       " FINANCIAL ID THEFT: OVER $300|                     THEFT|                 0.0|       0.0|\n",
       " FINANCIAL ID THEFT: OVER $300|                     THEFT|                 0.0|       0.0|\n",
       "      FRAUD OR CONFIDENCE GAME|        DECEPTIVE PRACTICE|                 9.0|       1.0|\n",
       "+------------------------------+--------------------------+--------------------+----------+\n",
       "only showing top 50 rows\n",
       "\n",
       "</div>"
      ]
     },
     "metadata": {
      "application/vnd.databricks.v1+output": {
       "addedWidgets": {},
       "arguments": {},
       "data": "<div class=\"ansiout\">+------------------------------+--------------------------+--------------------+----------+\n|                   description|              primary_type|primary_type_indexed|prediction|\n+------------------------------+--------------------------+--------------------+----------+\n|       HARASSMENT BY TELEPHONE|             OTHER OFFENSE|                 4.0|       1.0|\n|       OTHER WEAPONS VIOLATION|             OTHER OFFENSE|                 4.0|       1.0|\n| FINANCIAL ID THEFT: OVER $300|                     THEFT|                 0.0|       0.0|\n| FINANCIAL ID THEFT: OVER $300|                     THEFT|                 0.0|       0.0|\n| FINANCIAL ID THEFT: OVER $300|                     THEFT|                 0.0|       0.0|\n|AGG SEX ASSLT OF CHILD FAM MBR|OFFENSE INVOLVING CHILDREN|                14.0|       3.0|\n| FINANCIAL ID THEFT: OVER $300|                     THEFT|                 0.0|       0.0|\n|                     OVER $500|                     THEFT|                 0.0|       0.0|\n|       AGG: FINANCIAL ID THEFT|                     THEFT|                 0.0|       0.0|\n|                NON-AGGRAVATED|       CRIM SEXUAL ASSAULT|                15.0|       1.0|\n| FINANCIAL ID THEFT: OVER $300|                     THEFT|                 0.0|       0.0|\n| FINANCIAL ID THEFT: OVER $300|                     THEFT|                 0.0|       0.0|\n| FINANCIAL ID THEFT: OVER $300|                     THEFT|                 0.0|       0.0|\n|                  EMBEZZLEMENT|        DECEPTIVE PRACTICE|                 9.0|       1.0|\n|FINANCIAL ID THEFT:$300 &amp;UNDER|                     THEFT|                 0.0|       0.0|\n|       AGG: FINANCIAL ID THEFT|                     THEFT|                 0.0|       0.0|\n| FINANCIAL ID THEFT: OVER $300|                     THEFT|                 0.0|       0.0|\n|                       FORGERY|        DECEPTIVE PRACTICE|                 9.0|       1.0|\n| FINANCIAL ID THEFT: OVER $300|                     THEFT|                 0.0|       0.0|\n| FINANCIAL ID THEFT: OVER $300|                     THEFT|                 0.0|       0.0|\n|FINANCIAL ID THEFT:$300 &amp;UNDER|                     THEFT|                 0.0|       0.0|\n|       HARASSMENT BY TELEPHONE|             OTHER OFFENSE|                 4.0|       1.0|\n| SEX ASSLT OF CHILD BY FAM MBR|OFFENSE INVOLVING CHILDREN|                14.0|       1.0|\n| FINANCIAL ID THEFT: OVER $300|                     THEFT|                 0.0|       0.0|\n|                       FORGERY|        DECEPTIVE PRACTICE|                 9.0|       1.0|\n| FINANCIAL ID THEFT: OVER $300|                     THEFT|                 0.0|       0.0|\n|FINANCIAL ID THEFT:$300 &amp;UNDER|                     THEFT|                 0.0|       0.0|\n|FINANCIAL ID THEFT:$300 &amp;UNDER|                     THEFT|                 0.0|       0.0|\n|                $500 AND UNDER|                     THEFT|                 0.0|       0.0|\n| SEX ASSLT OF CHILD BY FAM MBR|OFFENSE INVOLVING CHILDREN|                14.0|       1.0|\n|FINANCIAL ID THEFT:$300 &amp;UNDER|                     THEFT|                 0.0|       0.0|\n|FINANCIAL ID THEFT:$300 &amp;UNDER|                     THEFT|                 0.0|       0.0|\n| FINANCIAL ID THEFT: OVER $300|                     THEFT|                 0.0|       0.0|\n|                     OVER $500|                     THEFT|                 0.0|       0.0|\n| FINANCIAL ID THEFT: OVER $300|                     THEFT|                 0.0|       0.0|\n|       HARASSMENT BY TELEPHONE|             OTHER OFFENSE|                 4.0|       1.0|\n| FINANCIAL ID THEFT: OVER $300|                     THEFT|                 0.0|       0.0|\n|                     PREDATORY|       CRIM SEXUAL ASSAULT|                15.0|       1.0|\n|                     OVER $500|                     THEFT|                 0.0|       0.0|\n|FINANCIAL ID THEFT:$300 &amp;UNDER|                     THEFT|                 0.0|       0.0|\n| FINANCIAL ID THEFT: OVER $300|                     THEFT|                 0.0|       0.0|\n| FINANCIAL ID THEFT: OVER $300|                     THEFT|                 0.0|       0.0|\n| FINANCIAL ID THEFT: OVER $300|                     THEFT|                 0.0|       0.0|\n| AGG CRIM SEX ABUSE FAM MEMBER|OFFENSE INVOLVING CHILDREN|                14.0|       1.0|\n|FINANCIAL ID THEFT:$300 &amp;UNDER|                     THEFT|                 0.0|       0.0|\n| FINANCIAL ID THEFT: OVER $300|                     THEFT|                 0.0|       0.0|\n| FINANCIAL ID THEFT: OVER $300|                     THEFT|                 0.0|       0.0|\n| FINANCIAL ID THEFT: OVER $300|                     THEFT|                 0.0|       0.0|\n| FINANCIAL ID THEFT: OVER $300|                     THEFT|                 0.0|       0.0|\n|      FRAUD OR CONFIDENCE GAME|        DECEPTIVE PRACTICE|                 9.0|       1.0|\n+------------------------------+--------------------------+--------------------+----------+\nonly showing top 50 rows\n\n</div>",
       "datasetInfos": [],
       "metadata": {},
       "removedWidgets": [],
       "type": "html"
      }
     },
     "output_type": "display_data"
    }
   ],
   "source": [
    "predictions.select(\"description\",\"primary_type\",\"primary_type_indexed\",\"prediction\").show(n = 50, truncate = 30)"
   ]
  },
  {
   "cell_type": "code",
   "execution_count": 0,
   "metadata": {
    "application/vnd.databricks.v1+cell": {
     "inputWidgets": {},
     "nuid": "0696e9e3-0988-4213-bf1d-c3ac4ed99da0",
     "showTitle": false,
     "title": ""
    }
   },
   "outputs": [
    {
     "data": {
      "text/html": [
       "<style scoped>\n",
       "  .ansiout {\n",
       "    display: block;\n",
       "    unicode-bidi: embed;\n",
       "    white-space: pre-wrap;\n",
       "    word-wrap: break-word;\n",
       "    word-break: break-all;\n",
       "    font-family: \"Source Code Pro\", \"Menlo\", monospace;;\n",
       "    font-size: 13px;\n",
       "    color: #555;\n",
       "    margin-left: 4px;\n",
       "    line-height: 19px;\n",
       "  }\n",
       "</style>\n",
       "<div class=\"ansiout\">Out[63]: 0.5410891910430825</div>"
      ]
     },
     "metadata": {
      "application/vnd.databricks.v1+output": {
       "addedWidgets": {},
       "arguments": {},
       "data": "<div class=\"ansiout\">Out[63]: 0.5410891910430825</div>",
       "datasetInfos": [],
       "metadata": {},
       "removedWidgets": [],
       "type": "html"
      }
     },
     "output_type": "display_data"
    }
   ],
   "source": [
    "evaluator = MulticlassClassificationEvaluator(labelCol=\"primary_type_indexed\", predictionCol=\"prediction\")\n",
    "evaluator.evaluate(predictions)"
   ]
  },
  {
   "cell_type": "markdown",
   "metadata": {
    "application/vnd.databricks.v1+cell": {
     "inputWidgets": {},
     "nuid": "a2c9437d-57e9-493d-bf2e-eae7a4ec3a2c",
     "showTitle": false,
     "title": ""
    }
   },
   "source": [
    "## Decision Tree Regression:"
   ]
  },
  {
   "cell_type": "code",
   "execution_count": 0,
   "metadata": {
    "application/vnd.databricks.v1+cell": {
     "inputWidgets": {},
     "nuid": "c1973a74-5f31-4ae8-905b-f5bb8e9145c3",
     "showTitle": false,
     "title": ""
    }
   },
   "outputs": [
    {
     "data": {
      "text/html": [
       "<style scoped>\n",
       "  .ansiout {\n",
       "    display: block;\n",
       "    unicode-bidi: embed;\n",
       "    white-space: pre-wrap;\n",
       "    word-wrap: break-word;\n",
       "    word-break: break-all;\n",
       "    font-family: \"Source Code Pro\", \"Menlo\", monospace;;\n",
       "    font-size: 13px;\n",
       "    color: #555;\n",
       "    margin-left: 4px;\n",
       "    line-height: 19px;\n",
       "  }\n",
       "</style>\n",
       "<div class=\"ansiout\"></div>"
      ]
     },
     "metadata": {
      "application/vnd.databricks.v1+output": {
       "addedWidgets": {},
       "arguments": {},
       "data": "<div class=\"ansiout\"></div>",
       "datasetInfos": [],
       "metadata": {},
       "removedWidgets": [],
       "type": "html"
      }
     },
     "output_type": "display_data"
    }
   ],
   "source": [
    "dt = DecisionTreeRegressor(labelCol=\"primary_type_indexed\", predictionCol=\"prediction\",maxBins=170)\n",
    "dtModel = dt.fit(train)"
   ]
  },
  {
   "cell_type": "code",
   "execution_count": 0,
   "metadata": {
    "application/vnd.databricks.v1+cell": {
     "inputWidgets": {},
     "nuid": "b6229737-95a0-4875-8040-d8f3df8d2b2e",
     "showTitle": false,
     "title": ""
    }
   },
   "outputs": [
    {
     "data": {
      "text/html": [
       "<style scoped>\n",
       "  .ansiout {\n",
       "    display: block;\n",
       "    unicode-bidi: embed;\n",
       "    white-space: pre-wrap;\n",
       "    word-wrap: break-word;\n",
       "    word-break: break-all;\n",
       "    font-family: \"Source Code Pro\", \"Menlo\", monospace;;\n",
       "    font-size: 13px;\n",
       "    color: #555;\n",
       "    margin-left: 4px;\n",
       "    line-height: 19px;\n",
       "  }\n",
       "</style>\n",
       "<div class=\"ansiout\">+------------------------------+--------------------------+--------------------+------------------+\n",
       "                   description|              primary_type|primary_type_indexed|        prediction|\n",
       "+------------------------------+--------------------------+--------------------+------------------+\n",
       "       HARASSMENT BY TELEPHONE|             OTHER OFFENSE|                 4.0| 5.577802552083237|\n",
       "       OTHER WEAPONS VIOLATION|             OTHER OFFENSE|                 4.0| 8.944952025411796|\n",
       " FINANCIAL ID THEFT: OVER $300|                     THEFT|                 0.0|               0.0|\n",
       " FINANCIAL ID THEFT: OVER $300|                     THEFT|                 0.0|               0.0|\n",
       " FINANCIAL ID THEFT: OVER $300|                     THEFT|                 0.0|               0.0|\n",
       "AGG SEX ASSLT OF CHILD FAM MBR|OFFENSE INVOLVING CHILDREN|                14.0|13.983748938469853|\n",
       " FINANCIAL ID THEFT: OVER $300|                     THEFT|                 0.0|               0.0|\n",
       "                     OVER $500|                     THEFT|                 0.0|               0.0|\n",
       "       AGG: FINANCIAL ID THEFT|                     THEFT|                 0.0|               0.0|\n",
       "                NON-AGGRAVATED|       CRIM SEXUAL ASSAULT|                15.0|13.983748938469853|\n",
       " FINANCIAL ID THEFT: OVER $300|                     THEFT|                 0.0|               0.0|\n",
       " FINANCIAL ID THEFT: OVER $300|                     THEFT|                 0.0|               0.0|\n",
       " FINANCIAL ID THEFT: OVER $300|                     THEFT|                 0.0|               0.0|\n",
       "                  EMBEZZLEMENT|        DECEPTIVE PRACTICE|                 9.0|               9.0|\n",
       "FINANCIAL ID THEFT:$300 &amp;UNDER|                     THEFT|                 0.0|               0.0|\n",
       "       AGG: FINANCIAL ID THEFT|                     THEFT|                 0.0|               0.0|\n",
       " FINANCIAL ID THEFT: OVER $300|                     THEFT|                 0.0|               0.0|\n",
       "                       FORGERY|        DECEPTIVE PRACTICE|                 9.0|               9.0|\n",
       " FINANCIAL ID THEFT: OVER $300|                     THEFT|                 0.0|               0.0|\n",
       " FINANCIAL ID THEFT: OVER $300|                     THEFT|                 0.0|               0.0|\n",
       "FINANCIAL ID THEFT:$300 &amp;UNDER|                     THEFT|                 0.0|               0.0|\n",
       "       HARASSMENT BY TELEPHONE|             OTHER OFFENSE|                 4.0| 8.944952025411796|\n",
       " SEX ASSLT OF CHILD BY FAM MBR|OFFENSE INVOLVING CHILDREN|                14.0|13.983748938469853|\n",
       " FINANCIAL ID THEFT: OVER $300|                     THEFT|                 0.0|               0.0|\n",
       "                       FORGERY|        DECEPTIVE PRACTICE|                 9.0|               9.0|\n",
       " FINANCIAL ID THEFT: OVER $300|                     THEFT|                 0.0|               0.0|\n",
       "FINANCIAL ID THEFT:$300 &amp;UNDER|                     THEFT|                 0.0|               0.0|\n",
       "FINANCIAL ID THEFT:$300 &amp;UNDER|                     THEFT|                 0.0|               0.0|\n",
       "                $500 AND UNDER|                     THEFT|                 0.0|               0.0|\n",
       " SEX ASSLT OF CHILD BY FAM MBR|OFFENSE INVOLVING CHILDREN|                14.0|13.983748938469853|\n",
       "FINANCIAL ID THEFT:$300 &amp;UNDER|                     THEFT|                 0.0|               0.0|\n",
       "FINANCIAL ID THEFT:$300 &amp;UNDER|                     THEFT|                 0.0|               0.0|\n",
       " FINANCIAL ID THEFT: OVER $300|                     THEFT|                 0.0|               0.0|\n",
       "                     OVER $500|                     THEFT|                 0.0|               0.0|\n",
       " FINANCIAL ID THEFT: OVER $300|                     THEFT|                 0.0|               0.0|\n",
       "       HARASSMENT BY TELEPHONE|             OTHER OFFENSE|                 4.0| 5.577802552083237|\n",
       " FINANCIAL ID THEFT: OVER $300|                     THEFT|                 0.0|               0.0|\n",
       "                     PREDATORY|       CRIM SEXUAL ASSAULT|                15.0|13.983748938469853|\n",
       "                     OVER $500|                     THEFT|                 0.0|               0.0|\n",
       "FINANCIAL ID THEFT:$300 &amp;UNDER|                     THEFT|                 0.0|               0.0|\n",
       " FINANCIAL ID THEFT: OVER $300|                     THEFT|                 0.0|               0.0|\n",
       " FINANCIAL ID THEFT: OVER $300|                     THEFT|                 0.0|               0.0|\n",
       " FINANCIAL ID THEFT: OVER $300|                     THEFT|                 0.0|               0.0|\n",
       " AGG CRIM SEX ABUSE FAM MEMBER|OFFENSE INVOLVING CHILDREN|                14.0|13.983748938469853|\n",
       "FINANCIAL ID THEFT:$300 &amp;UNDER|                     THEFT|                 0.0|               0.0|\n",
       " FINANCIAL ID THEFT: OVER $300|                     THEFT|                 0.0|               0.0|\n",
       " FINANCIAL ID THEFT: OVER $300|                     THEFT|                 0.0|               0.0|\n",
       " FINANCIAL ID THEFT: OVER $300|                     THEFT|                 0.0|               0.0|\n",
       " FINANCIAL ID THEFT: OVER $300|                     THEFT|                 0.0|               0.0|\n",
       "      FRAUD OR CONFIDENCE GAME|        DECEPTIVE PRACTICE|                 9.0|               9.0|\n",
       "+------------------------------+--------------------------+--------------------+------------------+\n",
       "only showing top 50 rows\n",
       "\n",
       "</div>"
      ]
     },
     "metadata": {
      "application/vnd.databricks.v1+output": {
       "addedWidgets": {},
       "arguments": {},
       "data": "<div class=\"ansiout\">+------------------------------+--------------------------+--------------------+------------------+\n|                   description|              primary_type|primary_type_indexed|        prediction|\n+------------------------------+--------------------------+--------------------+------------------+\n|       HARASSMENT BY TELEPHONE|             OTHER OFFENSE|                 4.0| 5.577802552083237|\n|       OTHER WEAPONS VIOLATION|             OTHER OFFENSE|                 4.0| 8.944952025411796|\n| FINANCIAL ID THEFT: OVER $300|                     THEFT|                 0.0|               0.0|\n| FINANCIAL ID THEFT: OVER $300|                     THEFT|                 0.0|               0.0|\n| FINANCIAL ID THEFT: OVER $300|                     THEFT|                 0.0|               0.0|\n|AGG SEX ASSLT OF CHILD FAM MBR|OFFENSE INVOLVING CHILDREN|                14.0|13.983748938469853|\n| FINANCIAL ID THEFT: OVER $300|                     THEFT|                 0.0|               0.0|\n|                     OVER $500|                     THEFT|                 0.0|               0.0|\n|       AGG: FINANCIAL ID THEFT|                     THEFT|                 0.0|               0.0|\n|                NON-AGGRAVATED|       CRIM SEXUAL ASSAULT|                15.0|13.983748938469853|\n| FINANCIAL ID THEFT: OVER $300|                     THEFT|                 0.0|               0.0|\n| FINANCIAL ID THEFT: OVER $300|                     THEFT|                 0.0|               0.0|\n| FINANCIAL ID THEFT: OVER $300|                     THEFT|                 0.0|               0.0|\n|                  EMBEZZLEMENT|        DECEPTIVE PRACTICE|                 9.0|               9.0|\n|FINANCIAL ID THEFT:$300 &amp;UNDER|                     THEFT|                 0.0|               0.0|\n|       AGG: FINANCIAL ID THEFT|                     THEFT|                 0.0|               0.0|\n| FINANCIAL ID THEFT: OVER $300|                     THEFT|                 0.0|               0.0|\n|                       FORGERY|        DECEPTIVE PRACTICE|                 9.0|               9.0|\n| FINANCIAL ID THEFT: OVER $300|                     THEFT|                 0.0|               0.0|\n| FINANCIAL ID THEFT: OVER $300|                     THEFT|                 0.0|               0.0|\n|FINANCIAL ID THEFT:$300 &amp;UNDER|                     THEFT|                 0.0|               0.0|\n|       HARASSMENT BY TELEPHONE|             OTHER OFFENSE|                 4.0| 8.944952025411796|\n| SEX ASSLT OF CHILD BY FAM MBR|OFFENSE INVOLVING CHILDREN|                14.0|13.983748938469853|\n| FINANCIAL ID THEFT: OVER $300|                     THEFT|                 0.0|               0.0|\n|                       FORGERY|        DECEPTIVE PRACTICE|                 9.0|               9.0|\n| FINANCIAL ID THEFT: OVER $300|                     THEFT|                 0.0|               0.0|\n|FINANCIAL ID THEFT:$300 &amp;UNDER|                     THEFT|                 0.0|               0.0|\n|FINANCIAL ID THEFT:$300 &amp;UNDER|                     THEFT|                 0.0|               0.0|\n|                $500 AND UNDER|                     THEFT|                 0.0|               0.0|\n| SEX ASSLT OF CHILD BY FAM MBR|OFFENSE INVOLVING CHILDREN|                14.0|13.983748938469853|\n|FINANCIAL ID THEFT:$300 &amp;UNDER|                     THEFT|                 0.0|               0.0|\n|FINANCIAL ID THEFT:$300 &amp;UNDER|                     THEFT|                 0.0|               0.0|\n| FINANCIAL ID THEFT: OVER $300|                     THEFT|                 0.0|               0.0|\n|                     OVER $500|                     THEFT|                 0.0|               0.0|\n| FINANCIAL ID THEFT: OVER $300|                     THEFT|                 0.0|               0.0|\n|       HARASSMENT BY TELEPHONE|             OTHER OFFENSE|                 4.0| 5.577802552083237|\n| FINANCIAL ID THEFT: OVER $300|                     THEFT|                 0.0|               0.0|\n|                     PREDATORY|       CRIM SEXUAL ASSAULT|                15.0|13.983748938469853|\n|                     OVER $500|                     THEFT|                 0.0|               0.0|\n|FINANCIAL ID THEFT:$300 &amp;UNDER|                     THEFT|                 0.0|               0.0|\n| FINANCIAL ID THEFT: OVER $300|                     THEFT|                 0.0|               0.0|\n| FINANCIAL ID THEFT: OVER $300|                     THEFT|                 0.0|               0.0|\n| FINANCIAL ID THEFT: OVER $300|                     THEFT|                 0.0|               0.0|\n| AGG CRIM SEX ABUSE FAM MEMBER|OFFENSE INVOLVING CHILDREN|                14.0|13.983748938469853|\n|FINANCIAL ID THEFT:$300 &amp;UNDER|                     THEFT|                 0.0|               0.0|\n| FINANCIAL ID THEFT: OVER $300|                     THEFT|                 0.0|               0.0|\n| FINANCIAL ID THEFT: OVER $300|                     THEFT|                 0.0|               0.0|\n| FINANCIAL ID THEFT: OVER $300|                     THEFT|                 0.0|               0.0|\n| FINANCIAL ID THEFT: OVER $300|                     THEFT|                 0.0|               0.0|\n|      FRAUD OR CONFIDENCE GAME|        DECEPTIVE PRACTICE|                 9.0|               9.0|\n+------------------------------+--------------------------+--------------------+------------------+\nonly showing top 50 rows\n\n</div>",
       "datasetInfos": [],
       "metadata": {},
       "removedWidgets": [],
       "type": "html"
      }
     },
     "output_type": "display_data"
    }
   ],
   "source": [
    "dtpredictions = dtModel.transform(test)\n",
    "dtpredictions.select(\"description\",\"primary_type\",\"primary_type_indexed\",\"prediction\").show(n = 50, truncate = 30)"
   ]
  },
  {
   "cell_type": "code",
   "execution_count": 0,
   "metadata": {
    "application/vnd.databricks.v1+cell": {
     "inputWidgets": {},
     "nuid": "a745b3a6-09e9-407d-844e-4958a14935f8",
     "showTitle": false,
     "title": ""
    }
   },
   "outputs": [
    {
     "data": {
      "text/html": [
       "<style scoped>\n",
       "  .ansiout {\n",
       "    display: block;\n",
       "    unicode-bidi: embed;\n",
       "    white-space: pre-wrap;\n",
       "    word-wrap: break-word;\n",
       "    word-break: break-all;\n",
       "    font-family: \"Source Code Pro\", \"Menlo\", monospace;;\n",
       "    font-size: 13px;\n",
       "    color: #555;\n",
       "    margin-left: 4px;\n",
       "    line-height: 19px;\n",
       "  }\n",
       "</style>\n",
       "<div class=\"ansiout\">Out[66]: 0.44165307075698057</div>"
      ]
     },
     "metadata": {
      "application/vnd.databricks.v1+output": {
       "addedWidgets": {},
       "arguments": {},
       "data": "<div class=\"ansiout\">Out[66]: 0.44165307075698057</div>",
       "datasetInfos": [],
       "metadata": {},
       "removedWidgets": [],
       "type": "html"
      }
     },
     "output_type": "display_data"
    }
   ],
   "source": [
    "dtevaluator = MulticlassClassificationEvaluator(labelCol=\"primary_type_indexed\", predictionCol=\"prediction\")\n",
    "dtevaluator.evaluate(dtpredictions)"
   ]
  }
 ],
 "metadata": {
  "application/vnd.databricks.v1+notebook": {
   "dashboards": [],
   "language": "python",
   "notebookMetadata": {
    "pythonIndentUnit": 2
   },
   "notebookName": "Chicago_Crime",
   "notebookOrigID": 3284195401386297,
   "widgets": {}
  },
  "kernelspec": {
   "display_name": "Python 3",
   "language": "python",
   "name": "python3"
  },
  "language_info": {
   "codemirror_mode": {
    "name": "ipython",
    "version": 3
   },
   "file_extension": ".py",
   "mimetype": "text/x-python",
   "name": "python",
   "nbconvert_exporter": "python",
   "pygments_lexer": "ipython3",
   "version": "3.7.10"
  }
 },
 "nbformat": 4,
 "nbformat_minor": 1
}
